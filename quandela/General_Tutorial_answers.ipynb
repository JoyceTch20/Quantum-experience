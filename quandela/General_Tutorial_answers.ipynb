{
 "cells": [
  {
   "cell_type": "code",
   "execution_count": 1,
   "id": "9f1becea-85b2-4e10-9067-232cdad73816",
   "metadata": {},
   "outputs": [
    {
     "data": {
      "text/plain": [
       "'0.13.0'"
      ]
     },
     "execution_count": 1,
     "metadata": {},
     "output_type": "execute_result"
    }
   ],
   "source": [
    "import perceval as pcvl\n",
    "import numpy as np\n",
    "from collections import Counter\n",
    "pcvl.__version__"
   ]
  },
  {
   "cell_type": "markdown",
   "id": "78c9f0ea-e8e4-4f1f-899b-3576f5c6f13e",
   "metadata": {},
   "source": [
    "# BasicStates\n",
    "\n",
    "In Linear Optical Circuits, photons can have many discrete degrees of freedom, called modes. \n",
    "It can be the frequency, the polarisation, the position, or all of them.\n",
    "\n",
    "We represent these degrees of freedom with Fock states. If we have $n$ photons over $m$ modes, the Fock state $|s_1,s_2,...,s_m\\rangle$ means we have $s_i$ photons in the $i^{th}$ mode. Note that $\\sum_{i=1}^m s_i =n$.\n",
    "\n",
    "In Perceval, we will use the module `pcvl.BasicState`"
   ]
  },
  {
   "cell_type": "markdown",
   "id": "92f74400-b996-4124-9d6b-13cded9f86b1",
   "metadata": {},
   "source": [
    "## Defining and manipulating BasicStates"
   ]
  },
  {
   "cell_type": "code",
   "execution_count": 2,
   "id": "32d43504-e3d2-4498-85d0-f4bbeb3d76a9",
   "metadata": {},
   "outputs": [
    {
     "name": "stdout",
     "output_type": "stream",
     "text": [
      "0 1\n"
     ]
    }
   ],
   "source": [
    "# BasicState can be constructed from a bra-ket string\n",
    "state=pcvl.BasicState(\"|0,1>\")\n",
    "# or from a list\n",
    "assert(state == pcvl.BasicState([0,1]))\n",
    "print(state[0], state[1])"
   ]
  },
  {
   "cell_type": "code",
   "execution_count": 3,
   "id": "6d77956a-1469-4da8-b32f-50d2f9f33d50",
   "metadata": {},
   "outputs": [
    {
     "name": "stdout",
     "output_type": "stream",
     "text": [
      "type of state is <class 'exqalibur.FockState'>\n",
      "state='|0,1>', n=1, m=2, m=2\n"
     ]
    }
   ],
   "source": [
    "print(\"type of state is\", type(state))\n",
    "# BasicState will print as a string, state.n is the number of photons, state.m the number of modes (which is also the len of the BasicState)\n",
    "print(f\"state='{state}', n={state.n}, m={state.m}, m={len(state)}\")"
   ]
  },
  {
   "cell_type": "markdown",
   "id": "3b9ccb1c-cd8a-42c6-afdd-5a98a99a4de2",
   "metadata": {},
   "source": [
    "<div class=\"alert alert-info\">\n",
    "Note the type is <code>exqalibur.FockState</code> and not <code>pcvl.BasicState</code>!<br>\n",
    "&rarr; <code>perceval</code> library is using behind the scene a c++-optimized library <code>exqalibur</code> that is in charge of all the heavy lifting - we never use it directly, but it is where all the simulation work happens!\n",
    "</div>"
   ]
  },
  {
   "cell_type": "code",
   "execution_count": 4,
   "id": "cba4a740-a733-4480-8a10-32a7425509b0",
   "metadata": {},
   "outputs": [
    {
     "name": "stdout",
     "output_type": "stream",
     "text": [
      "ERROR: 'exqalibur.FockState' object does not support item assignment\n"
     ]
    }
   ],
   "source": [
    "# BasicState does not support assignment\n",
    "try:\n",
    "    state[0]=1\n",
    "except Exception as e:\n",
    "    print(\"ERROR:\", e)"
   ]
  },
  {
   "cell_type": "code",
   "execution_count": 5,
   "id": "172ce92e-c82d-427a-83b2-adfad8daba26",
   "metadata": {},
   "outputs": [],
   "source": [
    "# let us define a function that does that!\n",
    "def assign(state, k, n_k):\n",
    "    r\"\"\"assigns n_k photon in the k-th mode of state, and returns the new BasicState\"\"\"\n",
    "    assert(isinstance(state, pcvl.BasicState))\n",
    "    assert(n_k < state.m)\n",
    "    ### ENTER CODE HERE\n",
    "    state_lst = list(state)\n",
    "    state_lst[k] = n_k\n",
    "    new_state = pcvl.BasicState(state_lst)\n",
    "    ### END CODE\n",
    "    return new_state\n",
    "\n",
    "# check if it works\n",
    "new_state = assign(state, 0, 1)\n",
    "assert(new_state == pcvl.BasicState(\"|1,1>\"))"
   ]
  },
  {
   "cell_type": "markdown",
   "id": "b4833cb0-ad86-4566-9136-d2402b7c4369",
   "metadata": {},
   "source": [
    "## Operations on BasicStates\n",
    "\n",
    "### tensor product\n",
    "`*` defines tensor product (`s1*s2` ~ $s_1\\otimes s_2$)"
   ]
  },
  {
   "cell_type": "code",
   "execution_count": 6,
   "id": "08155e66-e2b6-4351-a78d-9b5388f1ff20",
   "metadata": {},
   "outputs": [
    {
     "name": "stdout",
     "output_type": "stream",
     "text": [
      "|0,1,2,3>\n"
     ]
    }
   ],
   "source": [
    "print(pcvl.BasicState([0,1])*pcvl.BasicState([2,3]))"
   ]
  },
  {
   "cell_type": "markdown",
   "id": "465410c4-aa85-465a-bbbd-9e9ca273d0ac",
   "metadata": {},
   "source": [
    "And `**` the tensor power (`s**n` ~ $s^{\\otimes n}$), typically useful to initialize an input state"
   ]
  },
  {
   "cell_type": "code",
   "execution_count": 7,
   "id": "1b5d4f32-5537-4d1c-b41d-660cae7e0555",
   "metadata": {},
   "outputs": [
    {
     "name": "stdout",
     "output_type": "stream",
     "text": [
      "|0,1,0,1,0,1,0,1>\n"
     ]
    }
   ],
   "source": [
    "s2 = pcvl.BasicState([0,1])**4\n",
    "print(s2)"
   ]
  },
  {
   "cell_type": "code",
   "execution_count": 8,
   "id": "507e466c-8d2b-4ca2-b9bb-24dc1d6ece6e",
   "metadata": {},
   "outputs": [
    {
     "name": "stdout",
     "output_type": "stream",
     "text": [
      "|1,0,1>\n"
     ]
    }
   ],
   "source": [
    "# python slice operator applies smoothly\n",
    "print(s2[1:4])"
   ]
  },
  {
   "cell_type": "markdown",
   "id": "eab8be34-3c40-4e89-8918-ab4608bc76dd",
   "metadata": {},
   "source": [
    "## State Vectors\n",
    "\n",
    "A state vector is defined as a general quantum state: $\\sum_i \\alpha_i.s_i$ where $s_i$ are `BasicState`and $\\alpha_i$ their complex parameters/\n",
    "\n",
    "StateVectors can be build directly with `+`, `-` operators can be used to create state superposition:"
   ]
  },
  {
   "cell_type": "code",
   "execution_count": 9,
   "id": "57d23490-884d-47e6-948b-f690d807e2b1",
   "metadata": {},
   "outputs": [],
   "source": [
    "sv1 = pcvl.BasicState([0,1])+pcvl.BasicState([1,0])"
   ]
  },
  {
   "cell_type": "code",
   "execution_count": 10,
   "id": "ee6e9416-35ac-44aa-8da3-ae6c67b5465d",
   "metadata": {},
   "outputs": [
    {
     "data": {
      "text/plain": [
       "exqalibur.StateVector"
      ]
     },
     "execution_count": 10,
     "metadata": {},
     "output_type": "execute_result"
    }
   ],
   "source": [
    "# this is again an optimized `exqalibur` object!\n",
    "type(sv1)"
   ]
  },
  {
   "cell_type": "code",
   "execution_count": 11,
   "id": "733c6e9b-389d-4068-bad2-407ce869ff11",
   "metadata": {},
   "outputs": [
    {
     "name": "stdout",
     "output_type": "stream",
     "text": [
      "0.707*|1,0>+0.707*|0,1>\n"
     ]
    }
   ],
   "source": [
    "# let us check the value\n",
    "print(sv1)"
   ]
  },
  {
   "cell_type": "markdown",
   "id": "bfad4b4f-a1c0-4ea5-bd51-3b275b8e1da1",
   "metadata": {},
   "source": [
    "So $sv_1=\\frac{\\sqrt 2}{2}(\\ket{1,0}+\\ket{0,1})$\n",
    "<div class=\"alert alert-info\"> Note the <code>sqrt(2)/2</code> that was introduced: what even you are doing on the <code>StateVector</code>, they keep the parameters normalized so that </div> \n",
    "\n",
    "$\\sum_i |\\alpha_i|^2=1$"
   ]
  },
  {
   "cell_type": "code",
   "execution_count": 12,
   "id": "a10a38be-bd56-4475-bfe8-871aee7c3785",
   "metadata": {},
   "outputs": [],
   "source": [
    "# one easy way to check this is as follows, the multiplication of a StateVector by a constant does not change its value\n",
    "assert(2*pcvl.StateVector([0,1])==pcvl.StateVector([0,1]))"
   ]
  },
  {
   "cell_type": "markdown",
   "id": "aadcc6e9-e150-47c2-882d-8f437803e8be",
   "metadata": {},
   "source": [
    "except when building a superposed state:"
   ]
  },
  {
   "cell_type": "code",
   "execution_count": 13,
   "id": "fd71fcce-8dc1-405b-bc5d-202fcd5ad44d",
   "metadata": {},
   "outputs": [
    {
     "name": "stdout",
     "output_type": "stream",
     "text": [
      "-0.894I*|2,3>+0.447*|0,1>\n"
     ]
    }
   ],
   "source": [
    "sv2 = pcvl.StateVector([0,1])-2j*pcvl.StateVector([2,3])\n",
    "print(sv2)"
   ]
  },
  {
   "cell_type": "code",
   "execution_count": 14,
   "id": "8d0b21d3-4642-49bc-9cf5-b8e345abcb90",
   "metadata": {},
   "outputs": [
    {
     "data": {
      "text/html": [
       "<table>\n",
       "<thead>\n",
       "<tr><th>state  </th><th>prob. ampl.   </th></tr>\n",
       "</thead>\n",
       "<tbody>\n",
       "<tr><td>|2,3&gt;  </td><td>I*-2*sqrt(5)/5</td></tr>\n",
       "<tr><td>|0,1&gt;  </td><td>sqrt(5)/5     </td></tr>\n",
       "</tbody>\n",
       "</table>"
      ],
      "text/plain": [
       "<IPython.core.display.HTML object>"
      ]
     },
     "metadata": {},
     "output_type": "display_data"
    }
   ],
   "source": [
    "pcvl.pdisplay(sv2) # you can add nsimplify=False here too!"
   ]
  },
  {
   "cell_type": "markdown",
   "id": "63687ecc-71a3-4839-aa69-94c6a2c0745f",
   "metadata": {},
   "source": [
    "Finally, we can iterate manually through the different components of a state vector:"
   ]
  },
  {
   "cell_type": "code",
   "execution_count": 15,
   "id": "d04fa2de-86ad-43cd-bc7b-b65f590e3d46",
   "metadata": {},
   "outputs": [
    {
     "name": "stdout",
     "output_type": "stream",
     "text": [
      "(-0-0.8944271909999159j) -2*sqrt(5)*I/5 |2,3>\n",
      "(0.4472135954999579+0j) sqrt(5)/5 |0,1>\n"
     ]
    }
   ],
   "source": [
    "for bs, alpha in sv2:\n",
    "    # here we invoke manually the number simplification - easier to read\n",
    "    print(alpha, pcvl.simple_complex(alpha)[1], bs)"
   ]
  },
  {
   "cell_type": "markdown",
   "id": "ecbc9a36-a083-4102-97d0-c6ec7b135140",
   "metadata": {},
   "source": [
    "We can combine states with different number of photons (`-2*sqrt(5)*I/5*|2,3>+sqrt(5)/5*|0,1>`) but we cannot combine states with different number of modes - it does not make sense:"
   ]
  },
  {
   "cell_type": "code",
   "execution_count": 16,
   "id": "d6209a80-d160-48a1-8920-4d8073108492",
   "metadata": {},
   "outputs": [
    {
     "name": "stdout",
     "output_type": "stream",
     "text": [
      "!!! Exception was generated: we cannot have superposed states with different number of modes !!!\n"
     ]
    }
   ],
   "source": [
    "try:\n",
    "    pcvl.BasicState(\"|0,1>\")+pcvl.BasicState(\"|0,1,2>\")\n",
    "except:\n",
    "    print(\"!!! Exception was generated: we cannot have superposed states with different number of modes !!!\")"
   ]
  },
  {
   "cell_type": "code",
   "execution_count": 17,
   "id": "4124970d-db46-4137-956e-09f4b14f0877",
   "metadata": {},
   "outputs": [],
   "source": [
    "# ok - we can now manipulate StateVector - let us define a function giving us the probability of having one or mode photons in a given mode\n",
    "def photon_probability(sv, mode):\n",
    "    r\"\"\"should return the probability that when we measure `sv`, we observe at least one photon in mode `mode`\"\"\"\n",
    "    assert(mode < sv.m)\n",
    "    probability = 0\n",
    "    ### ENTER CODE HERE\n",
    "    for bs, alpha in sv:\n",
    "        if bs[mode] >=1:\n",
    "            probability += abs(alpha)**2\n",
    "    ### END CODE\n",
    "    return probability"
   ]
  },
  {
   "cell_type": "code",
   "execution_count": 18,
   "id": "89f446cf-ba86-49b3-a4ed-51f311b4ad96",
   "metadata": {},
   "outputs": [],
   "source": [
    "# let us check this\n",
    "assert(abs(photon_probability(pcvl.BasicState([0,1])+pcvl.BasicState([1,0]),0)-0.5)<1e-6)\n",
    "assert(abs(photon_probability(pcvl.BasicState([0,1,0])+pcvl.BasicState([0,1,0]),0)-0)<1e-6)\n",
    "assert(abs(photon_probability(sv2, 0)-0.8)<1e-6)"
   ]
  },
  {
   "cell_type": "markdown",
   "id": "f65b58ae-6034-4d81-b0d8-ef1df39fdf1e",
   "metadata": {},
   "source": [
    "Now we can also use built-in `StateVector` methods providing sampling and measurement: "
   ]
  },
  {
   "cell_type": "code",
   "execution_count": 19,
   "id": "fbe49343-120e-4c53-958a-23f063295098",
   "metadata": {},
   "outputs": [
    {
     "name": "stdout",
     "output_type": "stream",
     "text": [
      "-0.894I*|2,3>+0.447*|0,1>\n",
      "Counter({|2,3>: 79, |0,1>: 21})\n"
     ]
    }
   ],
   "source": [
    "print(sv2)\n",
    "c = Counter()\n",
    "for s in sv2.samples(100): \n",
    "    c[s] += 1\n",
    "print(c)"
   ]
  },
  {
   "cell_type": "code",
   "execution_count": 20,
   "id": "b2934b7e-a732-4346-97cf-381dc418feb4",
   "metadata": {},
   "outputs": [
    {
     "name": "stdout",
     "output_type": "stream",
     "text": [
      "|1> 0.9999999999999998 0.707*|0,1>-0.707I*|1,0>\n"
     ]
    }
   ],
   "source": [
    "sv_4 = pcvl.StateVector(\"|0,1,1>\")-1j*pcvl.StateVector(\"|1,1,0>\")\n",
    "map_measure_sv_4 = sv_4.measure([1])\n",
    "for s, (p, sv) in map_measure_sv_4.items(): \n",
    "    print(s, p, sv)"
   ]
  },
  {
   "cell_type": "code",
   "execution_count": 21,
   "id": "661ba75c-ed83-46c1-b9b5-aa3cc0549bd2",
   "metadata": {},
   "outputs": [
    {
     "name": "stdout",
     "output_type": "stream",
     "text": [
      "|1> 0.4999999999999999 |0,1>\n",
      "|0> 0.4999999999999999 -1I*|1,1>\n"
     ]
    }
   ],
   "source": [
    "map_measure_sv_4 = sv_4.measure([2])\n",
    "for s, (p, sv) in map_measure_sv_4.items(): \n",
    "    print(s, p, sv)"
   ]
  },
  {
   "cell_type": "markdown",
   "id": "0dd97622-14ca-41c4-bc0a-ad2eec49435e",
   "metadata": {},
   "source": [
    "## Modeling of a noisy photon source with a SVDistribution\n",
    "\n",
    "A `SVDistribution` is a mixed state of `StateVector` - it is commonly used to model noisy photon source.\n",
    "\n",
    "For that let us use the `pcvl.Source` object, it takes the following parameters:\n",
    "* `emission_probability`: `float` = 1,\n",
    "* `multiphoton_component`: `float` = 0,\n",
    "* `indistinguishability`: `float` = 1,\n",
    "* `losses`: `float` = 0\n",
    "  "
   ]
  },
  {
   "cell_type": "markdown",
   "id": "9e2a1d17-3b66-4a38-ba79-4f750b2e2d98",
   "metadata": {},
   "source": [
    "### Perfect Source\n",
    "\n",
    "<img src=\"img/perfect_source.png\">"
   ]
  },
  {
   "cell_type": "code",
   "execution_count": 22,
   "id": "f68f4757-b01b-4d72-bfa7-976cdecf320a",
   "metadata": {},
   "outputs": [
    {
     "data": {
      "text/html": [
       "<table>\n",
       "<thead>\n",
       "<tr><th>state  </th><th style=\"text-align: right;\">  probability</th></tr>\n",
       "</thead>\n",
       "<tbody>\n",
       "<tr><td>|1&gt;    </td><td style=\"text-align: right;\">            1</td></tr>\n",
       "</tbody>\n",
       "</table>"
      ],
      "text/plain": [
       "<IPython.core.display.HTML object>"
      ]
     },
     "metadata": {},
     "output_type": "display_data"
    }
   ],
   "source": [
    "perfect_source = pcvl.Source(emission_probability=1, multiphoton_component=0, indistinguishability=1, losses=0)\n",
    "pcvl.pdisplay(perfect_source.probability_distribution())"
   ]
  },
  {
   "cell_type": "markdown",
   "id": "a0bba066-15e6-4edb-813c-a1854f42a1b4",
   "metadata": {},
   "source": [
    "<div class=\"alert alert-info\">\n",
    "    In the perfect case, the source emits a sequence of `|1>`\n",
    "</div>"
   ]
  },
  {
   "cell_type": "markdown",
   "id": "4e17aeb7-caa3-44d6-ba1f-03e0b8bdb503",
   "metadata": {},
   "source": [
    "### Real World Photon source\n",
    "\n",
    "<img src=\"img/realworld_source.png\">"
   ]
  },
  {
   "cell_type": "code",
   "execution_count": 23,
   "id": "c7e62ffa-2557-4464-882f-33ac9cc1cd76",
   "metadata": {},
   "outputs": [
    {
     "data": {
      "text/html": [
       "<table>\n",
       "<thead>\n",
       "<tr><th>state       </th><th style=\"text-align: right;\">  probability</th></tr>\n",
       "</thead>\n",
       "<tbody>\n",
       "<tr><td>|0&gt;         </td><td style=\"text-align: right;\">  0.84947    </td></tr>\n",
       "<tr><td>|{_:0}&gt;     </td><td style=\"text-align: right;\">  0.14598    </td></tr>\n",
       "<tr><td>|{_:1}&gt;     </td><td style=\"text-align: right;\">  0.004323   </td></tr>\n",
       "<tr><td>|{_:0}{_:2}&gt;</td><td style=\"text-align: right;\">  0.000221524</td></tr>\n",
       "<tr><td>|{_:1}{_:2}&gt;</td><td style=\"text-align: right;\">  5.75482e-06</td></tr>\n",
       "</tbody>\n",
       "</table>"
      ],
      "text/plain": [
       "<IPython.core.display.HTML object>"
      ]
     },
     "metadata": {},
     "output_type": "display_data"
    },
    {
     "name": "stdout",
     "output_type": "stream",
     "text": [
      "probability of seing a photon in the output: 0.15053031655775084\n"
     ]
    }
   ],
   "source": [
    "realworld_source = pcvl.Source(emission_probability=0.5, multiphoton_component=0.02, indistinguishability=0.95, losses=0.7)\n",
    "pcvl.pdisplay(realworld_source.probability_distribution())\n",
    "probability_1photon = 0\n",
    "for sv, p in realworld_source.probability_distribution().items():\n",
    "    probability_1photon += photon_probability(sv, 0)*p\n",
    "print(\"probability of seing a photon in the output:\", probability_1photon)"
   ]
  },
  {
   "cell_type": "markdown",
   "id": "62a76705-52a5-41b9-9c5b-b85c00604346",
   "metadata": {},
   "source": [
    "<div class=\"alert alert-warning\">\n",
    "    In the real world, with the parameters given to the source, 85% of the time, no photon is detected, 14.5% of the time, single indistinguishable photons are emitted (represented with <code>{_:0}</code>) - and the rest is a combination of g_2 and distinguishable photons\n",
    "</div>"
   ]
  },
  {
   "cell_type": "markdown",
   "id": "eac02765-aa02-4c6c-a3ae-0655d14dbc53",
   "metadata": {},
   "source": [
    "# LO-Components\n",
    "\n",
    "The linear optical components are the elementary blocks which will act on our Fock states.\n",
    "\n",
    "It's important to know all the possible components that can be found in Perceval and understand their effects."
   ]
  },
  {
   "cell_type": "code",
   "execution_count": 24,
   "id": "1bace448-e32d-4397-b9c1-a4021ef4e03c",
   "metadata": {},
   "outputs": [],
   "source": [
    "# the components we are interested in are in unitary_components or non_unitary_components\n",
    "# see https://perceval.quandela.net/docs/components.html for the full list\n",
    "import perceval.components.unitary_components as pcvl_comp"
   ]
  },
  {
   "cell_type": "code",
   "execution_count": 25,
   "id": "93403ff9-eebd-46fe-87aa-5813c5cfad02",
   "metadata": {},
   "outputs": [
    {
     "name": "stdout",
     "output_type": "stream",
     "text": [
      "PERM\n",
      "PERM([2, 0, 1])\n"
     ]
    },
    {
     "data": {
      "text/latex": [
       "$\\displaystyle \\left[\\begin{matrix}0 & 1 & 0\\\\0 & 0 & 1\\\\1 & 0 & 0\\end{matrix}\\right]$"
      ],
      "text/plain": [
       "<IPython.core.display.Math object>"
      ]
     },
     "metadata": {},
     "output_type": "display_data"
    },
    {
     "data": {
      "image/svg+xml": [
       "<?xml version=\"1.0\" encoding=\"UTF-8\"?>\n",
       "<svg xmlns=\"http://www.w3.org/2000/svg\" xmlns:xlink=\"http://www.w3.org/1999/xlink\"\n",
       "     width=\"195.0\" height=\"218.75\" viewBox=\"-28.0 0 156.0 175.0\">\n",
       "<defs>\n",
       "</defs>\n",
       "<path d=\"M10,25.0 L25,25.0\" stroke-width=\"3\" stroke=\"darkred\" stroke-linejoin=\"miter\" fill=\"none\" />\n",
       "<path d=\"M10,75.0 L25,75.0\" stroke-width=\"3\" stroke=\"darkred\" stroke-linejoin=\"miter\" fill=\"none\" />\n",
       "<path d=\"M10,125.0 L25,125.0\" stroke-width=\"3\" stroke=\"darkred\" stroke-linejoin=\"miter\" fill=\"none\" />\n",
       "<path d=\"M28,25 L72,125\" stroke=\"white\" stroke-width=\"6\" fill=\"none\" />\n",
       "<path d=\"M25,25 L28,25 L72,125 L75,125\" stroke=\"darkred\" stroke-width=\"3\" fill=\"none\" />\n",
       "<path d=\"M28,75 L72,25\" stroke=\"white\" stroke-width=\"6\" fill=\"none\" />\n",
       "<path d=\"M25,75 L28,75 L72,25 L75,25\" stroke=\"darkred\" stroke-width=\"3\" fill=\"none\" />\n",
       "<path d=\"M28,125 L72,75\" stroke=\"white\" stroke-width=\"6\" fill=\"none\" />\n",
       "<path d=\"M25,125 L28,125 L72,75 L75,75\" stroke=\"darkred\" stroke-width=\"3\" fill=\"none\" />\n",
       "<path d=\"M75,25.0 L90,25.0\" stroke-width=\"3\" stroke=\"darkred\" stroke-linejoin=\"miter\" fill=\"none\" />\n",
       "<path d=\"M75,75.0 L90,75.0\" stroke-width=\"3\" stroke=\"darkred\" stroke-linejoin=\"miter\" fill=\"none\" />\n",
       "<path d=\"M75,125.0 L90,125.0\" stroke-width=\"3\" stroke=\"darkred\" stroke-linejoin=\"miter\" fill=\"none\" />\n",
       "<text x=\"100\" y=\"28.0\" font-size=\"6\" text-anchor=\"end\">0</text>\n",
       "<text x=\"100\" y=\"78.0\" font-size=\"6\" text-anchor=\"end\">1</text>\n",
       "<text x=\"100\" y=\"128.0\" font-size=\"6\" text-anchor=\"end\">2</text>\n",
       "<text x=\"0\" y=\"28.0\" font-size=\"6\" text-anchor=\"start\">0</text>\n",
       "<text x=\"0\" y=\"78.0\" font-size=\"6\" text-anchor=\"start\">1</text>\n",
       "<text x=\"0\" y=\"128.0\" font-size=\"6\" text-anchor=\"start\">2</text>\n",
       "</svg>"
      ],
      "text/plain": [
       "<drawsvg.drawing.Drawing at 0x107fdf6d0>"
      ]
     },
     "execution_count": 25,
     "metadata": {},
     "output_type": "execute_result"
    }
   ],
   "source": [
    "# let us start with permutation - we define permutation by a permutation list\n",
    "perm_1=pcvl_comp.PERM([2,0,1])\n",
    "# name of the component\n",
    "print(perm_1.name)\n",
    "# the definition of the component\n",
    "print(perm_1.describe())\n",
    "# the unitary matrix\n",
    "pcvl.pdisplay(perm_1.definition())\n",
    "# and the visual representation\n",
    "pcvl.pdisplay(perm_1)"
   ]
  },
  {
   "cell_type": "code",
   "execution_count": 26,
   "id": "cfc1a3cc-2736-4e10-8f7c-ea73827c2c9f",
   "metadata": {},
   "outputs": [],
   "source": [
    "# let us define a function generating the permutation inverting first and last mode\n",
    "def invert_first_last(m):\n",
    "    ## ENTER CODE HERE\n",
    "    perm = pcvl_comp.PERM([m-1]+[mode for mode in range(1,m-1)]+[0])\n",
    "    ## END_CODE\n",
    "    return perm\n"
   ]
  },
  {
   "cell_type": "code",
   "execution_count": 27,
   "id": "ad7924fc-bc5e-404b-942a-16728f0e1f63",
   "metadata": {},
   "outputs": [
    {
     "name": "stdout",
     "output_type": "stream",
     "text": [
      "the unitary:\n"
     ]
    },
    {
     "data": {
      "text/latex": [
       "$\\displaystyle \\left[\\begin{matrix}0 & 0 & 1\\\\0 & 1 & 0\\\\1 & 0 & 0\\end{matrix}\\right]$"
      ],
      "text/plain": [
       "<IPython.core.display.Math object>"
      ]
     },
     "metadata": {},
     "output_type": "display_data"
    },
    {
     "name": "stdout",
     "output_type": "stream",
     "text": [
      "the circuit:\n"
     ]
    },
    {
     "data": {
      "image/svg+xml": [
       "<?xml version=\"1.0\" encoding=\"UTF-8\"?>\n",
       "<svg xmlns=\"http://www.w3.org/2000/svg\" xmlns:xlink=\"http://www.w3.org/1999/xlink\"\n",
       "     width=\"195.0\" height=\"218.75\" viewBox=\"-28.0 0 156.0 175.0\">\n",
       "<defs>\n",
       "</defs>\n",
       "<path d=\"M10,25.0 L25,25.0\" stroke-width=\"3\" stroke=\"darkred\" stroke-linejoin=\"miter\" fill=\"none\" />\n",
       "<path d=\"M10,75.0 L25,75.0\" stroke-width=\"3\" stroke=\"darkred\" stroke-linejoin=\"miter\" fill=\"none\" />\n",
       "<path d=\"M10,125.0 L25,125.0\" stroke-width=\"3\" stroke=\"darkred\" stroke-linejoin=\"miter\" fill=\"none\" />\n",
       "<path d=\"M28,25 L72,125\" stroke=\"white\" stroke-width=\"6\" fill=\"none\" />\n",
       "<path d=\"M25,25 L28,25 L72,125 L75,125\" stroke=\"darkred\" stroke-width=\"3\" fill=\"none\" />\n",
       "<path d=\"M28,75 L72,75\" stroke=\"white\" stroke-width=\"6\" fill=\"none\" />\n",
       "<path d=\"M25,75 L28,75 L72,75 L75,75\" stroke=\"darkred\" stroke-width=\"3\" fill=\"none\" />\n",
       "<path d=\"M28,125 L72,25\" stroke=\"white\" stroke-width=\"6\" fill=\"none\" />\n",
       "<path d=\"M25,125 L28,125 L72,25 L75,25\" stroke=\"darkred\" stroke-width=\"3\" fill=\"none\" />\n",
       "<path d=\"M75,25.0 L90,25.0\" stroke-width=\"3\" stroke=\"darkred\" stroke-linejoin=\"miter\" fill=\"none\" />\n",
       "<path d=\"M75,75.0 L90,75.0\" stroke-width=\"3\" stroke=\"darkred\" stroke-linejoin=\"miter\" fill=\"none\" />\n",
       "<path d=\"M75,125.0 L90,125.0\" stroke-width=\"3\" stroke=\"darkred\" stroke-linejoin=\"miter\" fill=\"none\" />\n",
       "<text x=\"100\" y=\"28.0\" font-size=\"6\" text-anchor=\"end\">0</text>\n",
       "<text x=\"100\" y=\"78.0\" font-size=\"6\" text-anchor=\"end\">1</text>\n",
       "<text x=\"100\" y=\"128.0\" font-size=\"6\" text-anchor=\"end\">2</text>\n",
       "<text x=\"0\" y=\"28.0\" font-size=\"6\" text-anchor=\"start\">0</text>\n",
       "<text x=\"0\" y=\"78.0\" font-size=\"6\" text-anchor=\"start\">1</text>\n",
       "<text x=\"0\" y=\"128.0\" font-size=\"6\" text-anchor=\"start\">2</text>\n",
       "</svg>"
      ],
      "text/plain": [
       "<drawsvg.drawing.Drawing at 0x16161c310>"
      ]
     },
     "execution_count": 27,
     "metadata": {},
     "output_type": "execute_result"
    }
   ],
   "source": [
    "perm_2 = invert_first_last(3)\n",
    "print(\"the unitary:\")\n",
    "U_perm_2=perm_2.compute_unitary()\n",
    "assert(U_perm_2[0,0]==0)\n",
    "assert(U_perm_2[0,1]==0)\n",
    "assert(U_perm_2[0,2]==1)\n",
    "assert(U_perm_2[1,0]==0)\n",
    "assert(U_perm_2[1,1]==1)\n",
    "assert(U_perm_2[1,2]==0)\n",
    "assert(U_perm_2[2,0]==1)\n",
    "assert(U_perm_2[2,1]==0)\n",
    "assert(U_perm_2[2,2]==0)\n",
    "pcvl.pdisplay(U_perm_2)\n",
    "print(\"the circuit:\")\n",
    "pcvl.pdisplay(perm_2)"
   ]
  },
  {
   "cell_type": "code",
   "execution_count": 28,
   "id": "2f0d2498-44c0-4928-a2eb-5b4dc663f62a",
   "metadata": {},
   "outputs": [
    {
     "name": "stdout",
     "output_type": "stream",
     "text": [
      "BS(Rx)\n",
      "BS.Rx()\n"
     ]
    },
    {
     "data": {
      "text/latex": [
       "$\\displaystyle \\left[\\begin{matrix}e^{i \\left(\\phi_{tl} + \\phi_{tr}\\right)} \\cos{\\left(\\frac{\\theta}{2} \\right)} & i e^{i \\left(\\phi_{bl} + \\phi_{tr}\\right)} \\sin{\\left(\\frac{\\theta}{2} \\right)}\\\\i e^{i \\left(\\phi_{br} + \\phi_{tl}\\right)} \\sin{\\left(\\frac{\\theta}{2} \\right)} & e^{i \\left(\\phi_{bl} + \\phi_{br}\\right)} \\cos{\\left(\\frac{\\theta}{2} \\right)}\\end{matrix}\\right]$"
      ],
      "text/plain": [
       "<IPython.core.display.Math object>"
      ]
     },
     "metadata": {},
     "output_type": "display_data"
    },
    {
     "data": {
      "text/latex": [
       "$\\displaystyle \\left[\\begin{matrix}\\frac{\\sqrt{2}}{2} & \\frac{\\sqrt{2} i}{2}\\\\\\frac{\\sqrt{2} i}{2} & \\frac{\\sqrt{2}}{2}\\end{matrix}\\right]$"
      ],
      "text/plain": [
       "<IPython.core.display.Math object>"
      ]
     },
     "metadata": {},
     "output_type": "display_data"
    },
    {
     "data": {
      "image/svg+xml": [
       "<?xml version=\"1.0\" encoding=\"UTF-8\"?>\n",
       "<svg xmlns=\"http://www.w3.org/2000/svg\" xmlns:xlink=\"http://www.w3.org/1999/xlink\"\n",
       "     width=\"257.5\" height=\"156.25\" viewBox=\"-28.0 0 206.0 125.0\">\n",
       "<defs>\n",
       "</defs>\n",
       "<path d=\"M10,25.0 L25,25.0\" stroke-width=\"3\" stroke=\"darkred\" stroke-linejoin=\"miter\" fill=\"none\" />\n",
       "<path d=\"M10,75.0 L25,75.0\" stroke-width=\"3\" stroke=\"darkred\" stroke-linejoin=\"miter\" fill=\"none\" />\n",
       "<path d=\"M25,25 L53,25 L72,44\" stroke=\"darkred\" stroke-width=\"3\" fill=\"none\" />\n",
       "<path d=\"M78,44 L97,25 L125,25\" stroke=\"darkred\" stroke-width=\"3\" fill=\"none\" />\n",
       "<path d=\"M25,75 L53,75 L72,56\" stroke=\"darkred\" stroke-width=\"3\" fill=\"none\" />\n",
       "<path d=\"M78,56 L97,75 L125,75\" stroke=\"darkred\" stroke-width=\"3\" fill=\"none\" />\n",
       "<path d=\"M50,43 L100,43 L100,57 L50,57 Z\" stroke=\"black\" fill=\"black\" stroke-linejoin=\"miter\" />\n",
       "<text x=\"75\" y=\"85\" font-size=\"7\" text-anchor=\"middle\"></text>\n",
       "<text x=\"75\" y=\"26\" font-size=\"7\" text-anchor=\"middle\"></text>\n",
       "<path d=\"M50,43 L100,43 L100,47 L50,47 Z\" stroke=\"black\" fill=\"lightgray\" stroke-linejoin=\"miter\" />\n",
       "<path d=\"M93,50 L103,50 L103,60 L93,60 Z\" stroke=\"black\" fill=\"thistle\" stroke-linejoin=\"miter\" />\n",
       "<text x=\"98\" y=\"57\" font-size=\"6\" text-anchor=\"middle\">Rx</text>\n",
       "<path d=\"M125,25.0 L140,25.0\" stroke-width=\"3\" stroke=\"darkred\" stroke-linejoin=\"miter\" fill=\"none\" />\n",
       "<path d=\"M125,75.0 L140,75.0\" stroke-width=\"3\" stroke=\"darkred\" stroke-linejoin=\"miter\" fill=\"none\" />\n",
       "<text x=\"150\" y=\"28.0\" font-size=\"6\" text-anchor=\"end\">0</text>\n",
       "<text x=\"150\" y=\"78.0\" font-size=\"6\" text-anchor=\"end\">1</text>\n",
       "<text x=\"0\" y=\"28.0\" font-size=\"6\" text-anchor=\"start\">0</text>\n",
       "<text x=\"0\" y=\"78.0\" font-size=\"6\" text-anchor=\"start\">1</text>\n",
       "</svg>"
      ],
      "text/plain": [
       "<drawsvg.drawing.Drawing at 0x161ae5250>"
      ]
     },
     "execution_count": 28,
     "metadata": {},
     "output_type": "execute_result"
    }
   ],
   "source": [
    "# let us do the same with beamsplitters !\n",
    "bs=pcvl_comp.BS()\n",
    "# name of the component\n",
    "print(bs.name)\n",
    "# the definition of the component\n",
    "print(bs.describe())\n",
    "# the unitary matrix\n",
    "pcvl.pdisplay(bs.definition())\n",
    "# the actual unitary matrix\n",
    "pcvl.pdisplay(bs.compute_unitary())\n",
    "# the visual representation\n",
    "pcvl.pdisplay(bs)"
   ]
  },
  {
   "cell_type": "code",
   "execution_count": 29,
   "id": "f59a9997-9ccc-48fb-ba17-35c1a6c95524",
   "metadata": {},
   "outputs": [
    {
     "name": "stdout",
     "output_type": "stream",
     "text": [
      "BS.Rx() unitary matrix\n"
     ]
    },
    {
     "data": {
      "text/latex": [
       "$\\displaystyle \\left[\\begin{matrix}e^{i \\left(\\phi_{tl} + \\phi_{tr}\\right)} \\cos{\\left(\\frac{\\theta}{2} \\right)} & i e^{i \\left(\\phi_{bl} + \\phi_{tr}\\right)} \\sin{\\left(\\frac{\\theta}{2} \\right)}\\\\i e^{i \\left(\\phi_{br} + \\phi_{tl}\\right)} \\sin{\\left(\\frac{\\theta}{2} \\right)} & e^{i \\left(\\phi_{bl} + \\phi_{br}\\right)} \\cos{\\left(\\frac{\\theta}{2} \\right)}\\end{matrix}\\right]$"
      ],
      "text/plain": [
       "<IPython.core.display.Math object>"
      ]
     },
     "metadata": {},
     "output_type": "display_data"
    },
    {
     "name": "stdout",
     "output_type": "stream",
     "text": [
      "BS.H() unitary matrix\n"
     ]
    },
    {
     "data": {
      "text/latex": [
       "$\\displaystyle \\left[\\begin{matrix}e^{i \\left(\\phi_{tl} + \\phi_{tr}\\right)} \\cos{\\left(\\frac{\\theta}{2} \\right)} & e^{i \\left(\\phi_{bl} + \\phi_{tr}\\right)} \\sin{\\left(\\frac{\\theta}{2} \\right)}\\\\e^{i \\left(\\phi_{br} + \\phi_{tl}\\right)} \\sin{\\left(\\frac{\\theta}{2} \\right)} & - e^{i \\left(\\phi_{bl} + \\phi_{br}\\right)} \\cos{\\left(\\frac{\\theta}{2} \\right)}\\end{matrix}\\right]$"
      ],
      "text/plain": [
       "<IPython.core.display.Math object>"
      ]
     },
     "metadata": {},
     "output_type": "display_data"
    },
    {
     "name": "stdout",
     "output_type": "stream",
     "text": [
      "BS.Ry() unitary matrix\n"
     ]
    },
    {
     "data": {
      "text/latex": [
       "$\\displaystyle \\left[\\begin{matrix}e^{i \\left(\\phi_{tl} + \\phi_{tr}\\right)} \\cos{\\left(\\frac{\\theta}{2} \\right)} & - e^{i \\left(\\phi_{bl} + \\phi_{tr}\\right)} \\sin{\\left(\\frac{\\theta}{2} \\right)}\\\\e^{i \\left(\\phi_{br} + \\phi_{tl}\\right)} \\sin{\\left(\\frac{\\theta}{2} \\right)} & e^{i \\left(\\phi_{bl} + \\phi_{br}\\right)} \\cos{\\left(\\frac{\\theta}{2} \\right)}\\end{matrix}\\right]$"
      ],
      "text/plain": [
       "<IPython.core.display.Math object>"
      ]
     },
     "metadata": {},
     "output_type": "display_data"
    },
    {
     "name": "stdout",
     "output_type": "stream",
     "text": [
      "BS displays its convention as a small label\n"
     ]
    },
    {
     "data": {
      "image/svg+xml": [
       "<?xml version=\"1.0\" encoding=\"UTF-8\"?>\n",
       "<svg xmlns=\"http://www.w3.org/2000/svg\" xmlns:xlink=\"http://www.w3.org/1999/xlink\"\n",
       "     width=\"257.5\" height=\"156.25\" viewBox=\"-28.0 0 206.0 125.0\">\n",
       "<defs>\n",
       "</defs>\n",
       "<path d=\"M10,25.0 L25,25.0\" stroke-width=\"3\" stroke=\"darkred\" stroke-linejoin=\"miter\" fill=\"none\" />\n",
       "<path d=\"M10,75.0 L25,75.0\" stroke-width=\"3\" stroke=\"darkred\" stroke-linejoin=\"miter\" fill=\"none\" />\n",
       "<path d=\"M25,25 L53,25 L72,44\" stroke=\"darkred\" stroke-width=\"3\" fill=\"none\" />\n",
       "<path d=\"M78,44 L97,25 L125,25\" stroke=\"darkred\" stroke-width=\"3\" fill=\"none\" />\n",
       "<path d=\"M25,75 L53,75 L72,56\" stroke=\"darkred\" stroke-width=\"3\" fill=\"none\" />\n",
       "<path d=\"M78,56 L97,75 L125,75\" stroke=\"darkred\" stroke-width=\"3\" fill=\"none\" />\n",
       "<path d=\"M50,43 L100,43 L100,57 L50,57 Z\" stroke=\"black\" fill=\"black\" stroke-linejoin=\"miter\" />\n",
       "<text x=\"75\" y=\"85\" font-size=\"7\" text-anchor=\"middle\"></text>\n",
       "<text x=\"75\" y=\"26\" font-size=\"7\" text-anchor=\"middle\"></text>\n",
       "<path d=\"M50,43 L100,43 L100,47 L50,47 Z\" stroke=\"black\" fill=\"lightgray\" stroke-linejoin=\"miter\" />\n",
       "<path d=\"M93,50 L103,50 L103,60 L93,60 Z\" stroke=\"black\" fill=\"lightsalmon\" stroke-linejoin=\"miter\" />\n",
       "<text x=\"98\" y=\"57\" font-size=\"6\" text-anchor=\"middle\">Ry</text>\n",
       "<path d=\"M125,25.0 L140,25.0\" stroke-width=\"3\" stroke=\"darkred\" stroke-linejoin=\"miter\" fill=\"none\" />\n",
       "<path d=\"M125,75.0 L140,75.0\" stroke-width=\"3\" stroke=\"darkred\" stroke-linejoin=\"miter\" fill=\"none\" />\n",
       "<text x=\"150\" y=\"28.0\" font-size=\"6\" text-anchor=\"end\">0</text>\n",
       "<text x=\"150\" y=\"78.0\" font-size=\"6\" text-anchor=\"end\">1</text>\n",
       "<text x=\"0\" y=\"28.0\" font-size=\"6\" text-anchor=\"start\">0</text>\n",
       "<text x=\"0\" y=\"78.0\" font-size=\"6\" text-anchor=\"start\">1</text>\n",
       "</svg>"
      ],
      "text/plain": [
       "<drawsvg.drawing.Drawing at 0x161545e90>"
      ]
     },
     "execution_count": 29,
     "metadata": {},
     "output_type": "execute_result"
    }
   ],
   "source": [
    "bs_rx = pcvl_comp.BS.Rx()  # By default a beam splitter follows the Rx gate convention (see documentation), so bs=BS() has the same matrix\n",
    "\n",
    "# But other conventions exist too:\n",
    "bs_h = pcvl_comp.BS.H() \n",
    "bs_ry = pcvl_comp.BS.Ry()\n",
    "\n",
    "## Check the difference in the unitary definition:\n",
    "print(\"BS.Rx() unitary matrix\")\n",
    "pcvl.pdisplay(bs_rx.definition())\n",
    "print(\"BS.H() unitary matrix\")\n",
    "pcvl.pdisplay(bs_h.definition())\n",
    "print(\"BS.Ry() unitary matrix\")\n",
    "pcvl.pdisplay(bs_ry.definition())\n",
    "print(\"BS displays its convention as a small label\")\n",
    "pcvl.pdisplay(bs_ry)"
   ]
  },
  {
   "cell_type": "code",
   "execution_count": 30,
   "id": "0ba77caa-7e03-4034-88b2-d70ee551bdff",
   "metadata": {},
   "outputs": [
    {
     "data": {
      "text/latex": [
       "$\\displaystyle \\left[\\begin{matrix}e^{0.392699081698724 i}\\end{matrix}\\right]$"
      ],
      "text/plain": [
       "<IPython.core.display.Math object>"
      ]
     },
     "metadata": {},
     "output_type": "display_data"
    },
    {
     "data": {
      "text/latex": [
       "$\\displaystyle \\left[\\begin{matrix}0.92388 + 0.382683 i\\end{matrix}\\right]$"
      ],
      "text/plain": [
       "<IPython.core.display.Math object>"
      ]
     },
     "metadata": {},
     "output_type": "display_data"
    },
    {
     "name": "stdout",
     "output_type": "stream",
     "text": [
      "\n",
      "A default beam-splitter:\n"
     ]
    },
    {
     "data": {
      "text/latex": [
       "$\\displaystyle \\left[\\begin{matrix}\\frac{\\sqrt{2}}{2} & \\frac{\\sqrt{2} i}{2}\\\\\\frac{\\sqrt{2} i}{2} & \\frac{\\sqrt{2}}{2}\\end{matrix}\\right]$"
      ],
      "text/plain": [
       "<IPython.core.display.Math object>"
      ]
     },
     "metadata": {},
     "output_type": "display_data"
    },
    {
     "name": "stdout",
     "output_type": "stream",
     "text": [
      "\n",
      "A Beam-Splitter with a numerical value for theta:\n"
     ]
    },
    {
     "data": {
      "text/latex": [
       "$\\displaystyle \\left[\\begin{matrix}\\cos{\\left(5 \\right)} & i \\sin{\\left(5 \\right)}\\\\i \\sin{\\left(5 \\right)} & \\cos{\\left(5 \\right)}\\end{matrix}\\right]$"
      ],
      "text/plain": [
       "<IPython.core.display.Math object>"
      ]
     },
     "metadata": {},
     "output_type": "display_data"
    },
    {
     "data": {
      "text/latex": [
       "$\\displaystyle \\left[\\begin{matrix}0.283662 & - 0.958924 i\\\\- 0.958924 i & 0.283662\\end{matrix}\\right]$"
      ],
      "text/plain": [
       "<IPython.core.display.Math object>"
      ]
     },
     "metadata": {},
     "output_type": "display_data"
    },
    {
     "name": "stdout",
     "output_type": "stream",
     "text": [
      "\n"
     ]
    }
   ],
   "source": [
    "# You can ask for the symbolic matrix value of your component with the attribute U\n",
    "my_ps = pcvl_comp.PS(phi=np.pi/8)\n",
    "pcvl.pdisplay(my_ps.U)\n",
    "# And for the numerical value with the method compute_unitary\n",
    "pcvl.pdisplay(my_ps.compute_unitary())\n",
    "print(\"\")\n",
    "\n",
    "# If you do it for a Beam-Splitter, you can see that by default theta=pi/2, and the phi's are 0\n",
    "print(\"A default beam-splitter:\")\n",
    "pcvl.pdisplay(pcvl_comp.BS().compute_unitary())  #this is a balanced Beamsplitter\n",
    "print(\"\")\n",
    "\n",
    "# To control the value of the parameters of a component, several choices are possible: \n",
    "#  - by setting a numerical value during the creation of the component\n",
    "print(\"A Beam-Splitter with a numerical value for theta:\")\n",
    "bs_rx = pcvl_comp.BS.Rx(theta=10)\n",
    "pcvl.pdisplay(bs_rx.U)\n",
    "pcvl.pdisplay(bs_rx.compute_unitary())\n",
    "print(\"\")"
   ]
  },
  {
   "cell_type": "code",
   "execution_count": 31,
   "id": "c4637601-db4a-4c75-9c1d-48265ab0beaf",
   "metadata": {},
   "outputs": [
    {
     "name": "stdout",
     "output_type": "stream",
     "text": [
      "A Phase Shifter with a symbolic value for phi:\n"
     ]
    },
    {
     "data": {
      "text/latex": [
       "$\\displaystyle \\left[\\begin{matrix}e^{i \\psi}\\end{matrix}\\right]$"
      ],
      "text/plain": [
       "<IPython.core.display.Math object>"
      ]
     },
     "metadata": {},
     "output_type": "display_data"
    },
    {
     "name": "stdout",
     "output_type": "stream",
     "text": [
      "\n",
      "A beam-splitter with a symbolic variable...\n"
     ]
    },
    {
     "data": {
      "text/latex": [
       "$\\displaystyle \\left[\\begin{matrix}\\cos{\\left(\\frac{a}{2} \\right)} & i \\sin{\\left(\\frac{a}{2} \\right)}\\\\i \\sin{\\left(\\frac{a}{2} \\right)} & \\cos{\\left(\\frac{a}{2} \\right)}\\end{matrix}\\right]$"
      ],
      "text/plain": [
       "<IPython.core.display.Math object>"
      ]
     },
     "metadata": {},
     "output_type": "display_data"
    },
    {
     "name": "stdout",
     "output_type": "stream",
     "text": [
      "... set to a numerical value\n"
     ]
    },
    {
     "data": {
      "text/latex": [
       "$\\displaystyle \\left[\\begin{matrix}0.283662 & - 0.958924 i\\\\- 0.958924 i & 0.283662\\end{matrix}\\right]$"
      ],
      "text/plain": [
       "<IPython.core.display.Math object>"
      ]
     },
     "metadata": {},
     "output_type": "display_data"
    },
    {
     "name": "stdout",
     "output_type": "stream",
     "text": [
      "\n"
     ]
    }
   ],
   "source": [
    "#  - by using the syntax pcvl.P to create a symbolic variable \n",
    "#    (note that you cannot compute the numerical value of your component anymore)\n",
    "print(\"A Phase Shifter with a symbolic value for phi:\")\n",
    "ps = pcvl_comp.PS(phi=pcvl.P('\\psi'))\n",
    "pcvl.pdisplay(ps.U)\n",
    "print(\"\")\n",
    "\n",
    "#  - you can still modify the value of a symbolic variable after its creation\n",
    "#    This is not true for a numerical variable!\n",
    "print(\"A beam-splitter with a symbolic variable...\")\n",
    "bs_rx = pcvl_comp.BS(theta=pcvl.P('a'))\n",
    "pcvl.pdisplay(bs_rx.U)\n",
    "bs_rx.assign({'a':10})\n",
    "print(\"... set to a numerical value\")\n",
    "pcvl.pdisplay(bs_rx.compute_unitary())\n",
    "print(\"\")"
   ]
  },
  {
   "cell_type": "code",
   "execution_count": 32,
   "id": "70f1618f-9aea-4cae-92df-4a9efd0ac408",
   "metadata": {},
   "outputs": [
    {
     "data": {
      "image/svg+xml": [
       "<?xml version=\"1.0\" encoding=\"UTF-8\"?>\n",
       "<svg xmlns=\"http://www.w3.org/2000/svg\" xmlns:xlink=\"http://www.w3.org/1999/xlink\"\n",
       "     width=\"257.5\" height=\"156.25\" viewBox=\"-28.0 0 206.0 125.0\">\n",
       "<defs>\n",
       "</defs>\n",
       "<path d=\"M10,25.0 L25,25.0\" stroke-width=\"3\" stroke=\"darkred\" stroke-linejoin=\"miter\" fill=\"none\" />\n",
       "<path d=\"M10,75.0 L25,75.0\" stroke-width=\"3\" stroke=\"darkred\" stroke-linejoin=\"miter\" fill=\"none\" />\n",
       "<path d=\"M25,25 L53,25 L72,44\" stroke=\"darkred\" stroke-width=\"3\" fill=\"none\" />\n",
       "<path d=\"M78,44 L97,25 L125,25\" stroke=\"darkred\" stroke-width=\"3\" fill=\"none\" />\n",
       "<path d=\"M25,75 L53,75 L72,56\" stroke=\"darkred\" stroke-width=\"3\" fill=\"none\" />\n",
       "<path d=\"M78,56 L97,75 L125,75\" stroke=\"darkred\" stroke-width=\"3\" fill=\"none\" />\n",
       "<path d=\"M50,43 L100,43 L100,57 L50,57 Z\" stroke=\"black\" fill=\"black\" stroke-linejoin=\"miter\" />\n",
       "<text x=\"75\" y=\"80\" font-size=\"7\" text-anchor=\"middle\"></text>\n",
       "<text x=\"75\" y=\"26\" font-size=\"7\" text-anchor=\"middle\">Θ=10</text>\n",
       "<path d=\"M50,43 L100,43 L100,47 L50,47 Z\" stroke=\"black\" fill=\"lightgray\" stroke-linejoin=\"miter\" />\n",
       "<path d=\"M93,50 L103,50 L103,60 L93,60 Z\" stroke=\"black\" fill=\"thistle\" stroke-linejoin=\"miter\" />\n",
       "<text x=\"98\" y=\"57\" font-size=\"6\" text-anchor=\"middle\">Rx</text>\n",
       "<path d=\"M125,25.0 L140,25.0\" stroke-width=\"3\" stroke=\"darkred\" stroke-linejoin=\"miter\" fill=\"none\" />\n",
       "<path d=\"M125,75.0 L140,75.0\" stroke-width=\"3\" stroke=\"darkred\" stroke-linejoin=\"miter\" fill=\"none\" />\n",
       "<text x=\"150\" y=\"28.0\" font-size=\"6\" text-anchor=\"end\">0</text>\n",
       "<text x=\"150\" y=\"78.0\" font-size=\"6\" text-anchor=\"end\">1</text>\n",
       "<text x=\"0\" y=\"28.0\" font-size=\"6\" text-anchor=\"start\">0</text>\n",
       "<text x=\"0\" y=\"78.0\" font-size=\"6\" text-anchor=\"start\">1</text>\n",
       "</svg>"
      ],
      "text/plain": [
       "<drawsvg.drawing.Drawing at 0x161ae6f10>"
      ]
     },
     "execution_count": 32,
     "metadata": {},
     "output_type": "execute_result"
    }
   ],
   "source": [
    "pcvl.pdisplay(bs_rx)"
   ]
  },
  {
   "cell_type": "markdown",
   "id": "6d783886-27a6-4bde-a2b7-a08d604baf31",
   "metadata": {},
   "source": [
    "# LO-Circuits\n",
    "\n",
    "From the LO-components, we can build a LO-circuit, i.e. a sequence of those components acting on our different modes.\n",
    "\n",
    "## Syntax"
   ]
  },
  {
   "cell_type": "code",
   "execution_count": 33,
   "id": "319ee53b-2ab6-40d8-bbba-bb283e22302a",
   "metadata": {},
   "outputs": [
    {
     "data": {
      "text/latex": [
       "$\\displaystyle \\left[\\begin{matrix}\\frac{\\sqrt{2} e^{1.5707963267949 i}}{2} & \\frac{\\sqrt{2} i e^{1.5707963267949 i}}{2} & 0\\\\\\frac{i e^{i \\phi}}{2} & \\frac{e^{i \\phi}}{2} & \\frac{\\sqrt{2} i}{2}\\\\- \\frac{e^{i \\phi}}{2} & \\frac{i e^{i \\phi}}{2} & \\frac{\\sqrt{2}}{2}\\end{matrix}\\right]$"
      ],
      "text/plain": [
       "<IPython.core.display.Math object>"
      ]
     },
     "metadata": {},
     "output_type": "display_data"
    },
    {
     "data": {
      "image/svg+xml": [
       "<?xml version=\"1.0\" encoding=\"UTF-8\"?>\n",
       "<svg xmlns=\"http://www.w3.org/2000/svg\" xmlns:xlink=\"http://www.w3.org/1999/xlink\"\n",
       "     width=\"445.0\" height=\"218.75\" viewBox=\"-28.0 0 356.0 175.0\">\n",
       "<defs>\n",
       "</defs>\n",
       "<path d=\"M10,25.0 L25,25.0\" stroke-width=\"3\" stroke=\"darkred\" stroke-linejoin=\"miter\" fill=\"none\" />\n",
       "<path d=\"M10,75.0 L25,75.0\" stroke-width=\"3\" stroke=\"darkred\" stroke-linejoin=\"miter\" fill=\"none\" />\n",
       "<path d=\"M10,125.0 L25,125.0\" stroke-width=\"3\" stroke=\"darkred\" stroke-linejoin=\"miter\" fill=\"none\" />\n",
       "<path d=\"M25,25 L53,25 L72,44\" stroke=\"darkred\" stroke-width=\"3\" fill=\"none\" />\n",
       "<path d=\"M78,44 L97,25 L125,25\" stroke=\"darkred\" stroke-width=\"3\" fill=\"none\" />\n",
       "<path d=\"M25,75 L53,75 L72,56\" stroke=\"darkred\" stroke-width=\"3\" fill=\"none\" />\n",
       "<path d=\"M78,56 L97,75 L125,75\" stroke=\"darkred\" stroke-width=\"3\" fill=\"none\" />\n",
       "<path d=\"M50,43 L100,43 L100,57 L50,57 Z\" stroke=\"black\" fill=\"black\" stroke-linejoin=\"miter\" />\n",
       "<text x=\"75\" y=\"85\" font-size=\"7\" text-anchor=\"middle\"></text>\n",
       "<text x=\"75\" y=\"26\" font-size=\"7\" text-anchor=\"middle\"></text>\n",
       "<path d=\"M50,43 L100,43 L100,47 L50,47 Z\" stroke=\"black\" fill=\"lightgray\" stroke-linejoin=\"miter\" />\n",
       "<path d=\"M93,50 L103,50 L103,60 L93,60 Z\" stroke=\"black\" fill=\"thistle\" stroke-linejoin=\"miter\" />\n",
       "<text x=\"98\" y=\"57\" font-size=\"6\" text-anchor=\"middle\">Rx</text>\n",
       "<path d=\"M125,25 L175,25\" stroke=\"darkred\" stroke-width=\"3\" fill=\"none\" />\n",
       "<path d=\"M130,40 L139,40 L153,10 L144,10 L130,40 L139,40 Z\" stroke=\"black\" fill=\"gray\" stroke-linejoin=\"miter\" />\n",
       "<text x=\"147\" y=\"38\" font-size=\"7\" text-anchor=\"start\">Φ=pi/2</text>\n",
       "<path d=\"M125,75 L175,75\" stroke=\"darkred\" stroke-width=\"3\" fill=\"none\" />\n",
       "<path d=\"M130,90 L139,90 L153,60 L144,60 L130,90 L139,90 Z\" stroke=\"black\" fill=\"gray\" stroke-linejoin=\"miter\" />\n",
       "<text x=\"147\" y=\"88\" font-size=\"7\" text-anchor=\"start\">Φ=phi</text>\n",
       "<path d=\"M25,125.0 L175,125.0\" stroke=\"darkred\" stroke-width=\"3\" fill=\"none\" />\n",
       "<path d=\"M175,75 L203,75 L222,94\" stroke=\"darkred\" stroke-width=\"3\" fill=\"none\" />\n",
       "<path d=\"M228,94 L247,75 L275,75\" stroke=\"darkred\" stroke-width=\"3\" fill=\"none\" />\n",
       "<path d=\"M175,125 L203,125 L222,106\" stroke=\"darkred\" stroke-width=\"3\" fill=\"none\" />\n",
       "<path d=\"M228,106 L247,125 L275,125\" stroke=\"darkred\" stroke-width=\"3\" fill=\"none\" />\n",
       "<path d=\"M200,93 L250,93 L250,107 L200,107 Z\" stroke=\"black\" fill=\"black\" stroke-linejoin=\"miter\" />\n",
       "<text x=\"225\" y=\"135\" font-size=\"7\" text-anchor=\"middle\"></text>\n",
       "<text x=\"225\" y=\"76\" font-size=\"7\" text-anchor=\"middle\"></text>\n",
       "<path d=\"M200,93 L250,93 L250,97 L200,97 Z\" stroke=\"black\" fill=\"lightgray\" stroke-linejoin=\"miter\" />\n",
       "<path d=\"M243,100 L253,100 L253,110 L243,110 Z\" stroke=\"black\" fill=\"thistle\" stroke-linejoin=\"miter\" />\n",
       "<text x=\"248\" y=\"107\" font-size=\"6\" text-anchor=\"middle\">Rx</text>\n",
       "<path d=\"M175,25.0 L275,25.0\" stroke=\"darkred\" stroke-width=\"3\" fill=\"none\" />\n",
       "<path d=\"M275,25.0 L290,25.0\" stroke-width=\"3\" stroke=\"darkred\" stroke-linejoin=\"miter\" fill=\"none\" />\n",
       "<path d=\"M275,75.0 L290,75.0\" stroke-width=\"3\" stroke=\"darkred\" stroke-linejoin=\"miter\" fill=\"none\" />\n",
       "<path d=\"M275,125.0 L290,125.0\" stroke-width=\"3\" stroke=\"darkred\" stroke-linejoin=\"miter\" fill=\"none\" />\n",
       "<text x=\"300\" y=\"28.0\" font-size=\"6\" text-anchor=\"end\">0</text>\n",
       "<text x=\"300\" y=\"78.0\" font-size=\"6\" text-anchor=\"end\">1</text>\n",
       "<text x=\"300\" y=\"128.0\" font-size=\"6\" text-anchor=\"end\">2</text>\n",
       "<text x=\"0\" y=\"28.0\" font-size=\"6\" text-anchor=\"start\">0</text>\n",
       "<text x=\"0\" y=\"78.0\" font-size=\"6\" text-anchor=\"start\">1</text>\n",
       "<text x=\"0\" y=\"128.0\" font-size=\"6\" text-anchor=\"start\">2</text>\n",
       "</svg>"
      ],
      "text/plain": [
       "<drawsvg.drawing.Drawing at 0x161b86890>"
      ]
     },
     "execution_count": 33,
     "metadata": {},
     "output_type": "execute_result"
    }
   ],
   "source": [
    "circuit = pcvl.Circuit(3)  # Create a 3 mode circuit\n",
    "\n",
    "\n",
    "circuit.add(0, pcvl_comp.BS())\n",
    "circuit.add(0, pcvl_comp.PS(phi=np.pi/2)).add(1, pcvl_comp.PS(phi=pcvl.P('phi'))).add(1, pcvl_comp.BS())\n",
    "\n",
    "# Equivalent syntax:\n",
    "# circuit // BS() // PS(phi=np.pi/2) // (1, PS(phi=pcvl.P('phi'))) // (1, BS())\n",
    "\n",
    "pcvl.pdisplay(circuit.U)\n",
    "pcvl.pdisplay(circuit)"
   ]
  },
  {
   "cell_type": "markdown",
   "id": "dfb7cb03-4081-416d-b569-af9aace51268",
   "metadata": {},
   "source": [
    "The syntax ``pcvl.P('phi')`` allows you to use parameters in the circuit, where you can assign a value or not. The behavior of the parameters of a circuit is similar to the case of the components.\n",
    "\n",
    "For instance, you can use :"
   ]
  },
  {
   "cell_type": "code",
   "execution_count": 34,
   "id": "9f6a0b1e-1e5d-4f85-863f-d86ad692bff5",
   "metadata": {},
   "outputs": [
    {
     "name": "stdout",
     "output_type": "stream",
     "text": [
      "[Parameter(name='phi', value=None, min_v=0.0, max_v=6.283185307179586)]\n"
     ]
    },
    {
     "data": {
      "text/latex": [
       "$\\displaystyle \\left[\\begin{matrix}\\frac{\\sqrt{2} i}{2} & - \\frac{\\sqrt{2}}{2} & 0\\\\- \\frac{i}{2} & - \\frac{1}{2} & \\frac{\\sqrt{2} i}{2}\\\\\\frac{1}{2} & - \\frac{i}{2} & \\frac{\\sqrt{2}}{2}\\end{matrix}\\right]$"
      ],
      "text/plain": [
       "<IPython.core.display.Math object>"
      ]
     },
     "metadata": {},
     "output_type": "display_data"
    },
    {
     "data": {
      "image/svg+xml": [
       "<?xml version=\"1.0\" encoding=\"UTF-8\"?>\n",
       "<svg xmlns=\"http://www.w3.org/2000/svg\" xmlns:xlink=\"http://www.w3.org/1999/xlink\"\n",
       "     width=\"445.0\" height=\"218.75\" viewBox=\"-28.0 0 356.0 175.0\">\n",
       "<defs>\n",
       "</defs>\n",
       "<path d=\"M10,25.0 L25,25.0\" stroke-width=\"3\" stroke=\"darkred\" stroke-linejoin=\"miter\" fill=\"none\" />\n",
       "<path d=\"M10,75.0 L25,75.0\" stroke-width=\"3\" stroke=\"darkred\" stroke-linejoin=\"miter\" fill=\"none\" />\n",
       "<path d=\"M10,125.0 L25,125.0\" stroke-width=\"3\" stroke=\"darkred\" stroke-linejoin=\"miter\" fill=\"none\" />\n",
       "<path d=\"M25,25 L53,25 L72,44\" stroke=\"darkred\" stroke-width=\"3\" fill=\"none\" />\n",
       "<path d=\"M78,44 L97,25 L125,25\" stroke=\"darkred\" stroke-width=\"3\" fill=\"none\" />\n",
       "<path d=\"M25,75 L53,75 L72,56\" stroke=\"darkred\" stroke-width=\"3\" fill=\"none\" />\n",
       "<path d=\"M78,56 L97,75 L125,75\" stroke=\"darkred\" stroke-width=\"3\" fill=\"none\" />\n",
       "<path d=\"M50,43 L100,43 L100,57 L50,57 Z\" stroke=\"black\" fill=\"black\" stroke-linejoin=\"miter\" />\n",
       "<text x=\"75\" y=\"85\" font-size=\"7\" text-anchor=\"middle\"></text>\n",
       "<text x=\"75\" y=\"26\" font-size=\"7\" text-anchor=\"middle\"></text>\n",
       "<path d=\"M50,43 L100,43 L100,47 L50,47 Z\" stroke=\"black\" fill=\"lightgray\" stroke-linejoin=\"miter\" />\n",
       "<path d=\"M93,50 L103,50 L103,60 L93,60 Z\" stroke=\"black\" fill=\"thistle\" stroke-linejoin=\"miter\" />\n",
       "<text x=\"98\" y=\"57\" font-size=\"6\" text-anchor=\"middle\">Rx</text>\n",
       "<path d=\"M125,25 L175,25\" stroke=\"darkred\" stroke-width=\"3\" fill=\"none\" />\n",
       "<path d=\"M130,40 L139,40 L153,10 L144,10 L130,40 L139,40 Z\" stroke=\"black\" fill=\"gray\" stroke-linejoin=\"miter\" />\n",
       "<text x=\"147\" y=\"38\" font-size=\"7\" text-anchor=\"start\">Φ=pi/2</text>\n",
       "<path d=\"M125,75 L175,75\" stroke=\"darkred\" stroke-width=\"3\" fill=\"none\" />\n",
       "<path d=\"M130,90 L139,90 L153,60 L144,60 L130,90 L139,90 Z\" stroke=\"black\" fill=\"gray\" stroke-linejoin=\"miter\" />\n",
       "<text x=\"147\" y=\"88\" font-size=\"7\" text-anchor=\"start\">Φ=pi</text>\n",
       "<path d=\"M25,125.0 L175,125.0\" stroke=\"darkred\" stroke-width=\"3\" fill=\"none\" />\n",
       "<path d=\"M175,75 L203,75 L222,94\" stroke=\"darkred\" stroke-width=\"3\" fill=\"none\" />\n",
       "<path d=\"M228,94 L247,75 L275,75\" stroke=\"darkred\" stroke-width=\"3\" fill=\"none\" />\n",
       "<path d=\"M175,125 L203,125 L222,106\" stroke=\"darkred\" stroke-width=\"3\" fill=\"none\" />\n",
       "<path d=\"M228,106 L247,125 L275,125\" stroke=\"darkred\" stroke-width=\"3\" fill=\"none\" />\n",
       "<path d=\"M200,93 L250,93 L250,107 L200,107 Z\" stroke=\"black\" fill=\"black\" stroke-linejoin=\"miter\" />\n",
       "<text x=\"225\" y=\"135\" font-size=\"7\" text-anchor=\"middle\"></text>\n",
       "<text x=\"225\" y=\"76\" font-size=\"7\" text-anchor=\"middle\"></text>\n",
       "<path d=\"M200,93 L250,93 L250,97 L200,97 Z\" stroke=\"black\" fill=\"lightgray\" stroke-linejoin=\"miter\" />\n",
       "<path d=\"M243,100 L253,100 L253,110 L243,110 Z\" stroke=\"black\" fill=\"thistle\" stroke-linejoin=\"miter\" />\n",
       "<text x=\"248\" y=\"107\" font-size=\"6\" text-anchor=\"middle\">Rx</text>\n",
       "<path d=\"M175,25.0 L275,25.0\" stroke=\"darkred\" stroke-width=\"3\" fill=\"none\" />\n",
       "<path d=\"M275,25.0 L290,25.0\" stroke-width=\"3\" stroke=\"darkred\" stroke-linejoin=\"miter\" fill=\"none\" />\n",
       "<path d=\"M275,75.0 L290,75.0\" stroke-width=\"3\" stroke=\"darkred\" stroke-linejoin=\"miter\" fill=\"none\" />\n",
       "<path d=\"M275,125.0 L290,125.0\" stroke-width=\"3\" stroke=\"darkred\" stroke-linejoin=\"miter\" fill=\"none\" />\n",
       "<text x=\"300\" y=\"28.0\" font-size=\"6\" text-anchor=\"end\">0</text>\n",
       "<text x=\"300\" y=\"78.0\" font-size=\"6\" text-anchor=\"end\">1</text>\n",
       "<text x=\"300\" y=\"128.0\" font-size=\"6\" text-anchor=\"end\">2</text>\n",
       "<text x=\"0\" y=\"28.0\" font-size=\"6\" text-anchor=\"start\">0</text>\n",
       "<text x=\"0\" y=\"78.0\" font-size=\"6\" text-anchor=\"start\">1</text>\n",
       "<text x=\"0\" y=\"128.0\" font-size=\"6\" text-anchor=\"start\">2</text>\n",
       "</svg>"
      ],
      "text/plain": [
       "<drawsvg.drawing.Drawing at 0x161b94c90>"
      ]
     },
     "execution_count": 34,
     "metadata": {},
     "output_type": "execute_result"
    }
   ],
   "source": [
    "params=circuit.get_parameters()\n",
    "print(params) #list of the parameters\n",
    "\n",
    "# the value is None, but we can change that with :\n",
    "\n",
    "params[0].set_value(np.pi)\n",
    "pcvl.pdisplay(circuit.compute_unitary(use_symbolic=False))\n",
    "pcvl.pdisplay(circuit)"
   ]
  },
  {
   "cell_type": "code",
   "execution_count": 35,
   "id": "6a4a284c-cece-45f3-b7d4-fae77984b6fb",
   "metadata": {},
   "outputs": [
    {
     "data": {
      "text/latex": [
       "$\\displaystyle \\left[\\begin{matrix}1 & 0 & 0\\\\0 & 1 & 0\\\\0 & 0 & 1\\end{matrix}\\right]$"
      ],
      "text/plain": [
       "<IPython.core.display.Math object>"
      ]
     },
     "metadata": {},
     "output_type": "display_data"
    },
    {
     "data": {
      "image/svg+xml": [
       "<?xml version=\"1.0\" encoding=\"UTF-8\"?>\n",
       "<svg xmlns=\"http://www.w3.org/2000/svg\" xmlns:xlink=\"http://www.w3.org/1999/xlink\"\n",
       "     width=\"257.5\" height=\"218.75\" viewBox=\"-28.0 0 206.0 175.0\">\n",
       "<defs>\n",
       "</defs>\n",
       "<path d=\"M10,25.0 L25,25.0\" stroke-width=\"3\" stroke=\"darkred\" stroke-linejoin=\"miter\" fill=\"none\" />\n",
       "<path d=\"M10,75.0 L25,75.0\" stroke-width=\"3\" stroke=\"darkred\" stroke-linejoin=\"miter\" fill=\"none\" />\n",
       "<path d=\"M10,125.0 L25,125.0\" stroke-width=\"3\" stroke=\"darkred\" stroke-linejoin=\"miter\" fill=\"none\" />\n",
       "<path d=\"M28,25 L72,125\" stroke=\"white\" stroke-width=\"6\" fill=\"none\" />\n",
       "<path d=\"M25,25 L28,25 L72,125 L75,125\" stroke=\"darkred\" stroke-width=\"3\" fill=\"none\" />\n",
       "<path d=\"M28,75 L72,75\" stroke=\"white\" stroke-width=\"6\" fill=\"none\" />\n",
       "<path d=\"M25,75 L28,75 L72,75 L75,75\" stroke=\"darkred\" stroke-width=\"3\" fill=\"none\" />\n",
       "<path d=\"M28,125 L72,25\" stroke=\"white\" stroke-width=\"6\" fill=\"none\" />\n",
       "<path d=\"M25,125 L28,125 L72,25 L75,25\" stroke=\"darkred\" stroke-width=\"3\" fill=\"none\" />\n",
       "<path d=\"M78,25 L122,125\" stroke=\"white\" stroke-width=\"6\" fill=\"none\" />\n",
       "<path d=\"M75,25 L78,25 L122,125 L125,125\" stroke=\"darkred\" stroke-width=\"3\" fill=\"none\" />\n",
       "<path d=\"M78,75 L122,75\" stroke=\"white\" stroke-width=\"6\" fill=\"none\" />\n",
       "<path d=\"M75,75 L78,75 L122,75 L125,75\" stroke=\"darkred\" stroke-width=\"3\" fill=\"none\" />\n",
       "<path d=\"M78,125 L122,25\" stroke=\"white\" stroke-width=\"6\" fill=\"none\" />\n",
       "<path d=\"M75,125 L78,125 L122,25 L125,25\" stroke=\"darkred\" stroke-width=\"3\" fill=\"none\" />\n",
       "<path d=\"M125,25.0 L140,25.0\" stroke-width=\"3\" stroke=\"darkred\" stroke-linejoin=\"miter\" fill=\"none\" />\n",
       "<path d=\"M125,75.0 L140,75.0\" stroke-width=\"3\" stroke=\"darkred\" stroke-linejoin=\"miter\" fill=\"none\" />\n",
       "<path d=\"M125,125.0 L140,125.0\" stroke-width=\"3\" stroke=\"darkred\" stroke-linejoin=\"miter\" fill=\"none\" />\n",
       "<text x=\"150\" y=\"28.0\" font-size=\"6\" text-anchor=\"end\">0</text>\n",
       "<text x=\"150\" y=\"78.0\" font-size=\"6\" text-anchor=\"end\">1</text>\n",
       "<text x=\"150\" y=\"128.0\" font-size=\"6\" text-anchor=\"end\">2</text>\n",
       "<text x=\"0\" y=\"28.0\" font-size=\"6\" text-anchor=\"start\">0</text>\n",
       "<text x=\"0\" y=\"78.0\" font-size=\"6\" text-anchor=\"start\">1</text>\n",
       "<text x=\"0\" y=\"128.0\" font-size=\"6\" text-anchor=\"start\">2</text>\n",
       "</svg>"
      ],
      "text/plain": [
       "<drawsvg.drawing.Drawing at 0x161b94ed0>"
      ]
     },
     "execution_count": 35,
     "metadata": {},
     "output_type": "execute_result"
    }
   ],
   "source": [
    "# let us combine perm_2 with perm_2 to build identity\n",
    "circuit = perm_2 // perm_2\n",
    "pcvl.pdisplay(circuit.U)\n",
    "pcvl.pdisplay(circuit)"
   ]
  },
  {
   "cell_type": "markdown",
   "id": "7d7d403a-9ec9-4f9f-97af-baa1bfe8cd7f",
   "metadata": {},
   "source": [
    "## Mach-Zehnder Interferometers\n",
    "\n",
    "The beamsplitter's angle $\\theta$ can also be defined as a parameter.\n",
    "\n",
    "However, as the reflexivity depends on the mirror, it's hard to have adaptibility on the angle. \n",
    "Therefore, in practice, we use a [Mach-Zehnder Interferometer](https://en.wikipedia.org/wiki/Mach%E2%80%93Zehnder_interferometer). \n",
    "\n",
    "The beamsplitter with a parameterised $\\theta$ is therefore implemented with a parameterised phase shifter $\\phi$ between two fixed beamsplitters.\n",
    "\n",
    "Let us try to reproduce the experiment from the presentation:\n",
    "<img src=\"img/mzi.png\">\n"
   ]
  },
  {
   "cell_type": "code",
   "execution_count": 36,
   "id": "d4c8a2fa-9096-4d48-973c-fc69f77b6c0f",
   "metadata": {},
   "outputs": [
    {
     "data": {
      "image/svg+xml": [
       "<?xml version=\"1.0\" encoding=\"UTF-8\"?>\n",
       "<svg xmlns=\"http://www.w3.org/2000/svg\" xmlns:xlink=\"http://www.w3.org/1999/xlink\"\n",
       "     width=\"445.0\" height=\"156.25\" viewBox=\"-28.0 0 356.0 125.0\">\n",
       "<defs>\n",
       "</defs>\n",
       "<path d=\"M10,25.0 L25,25.0\" stroke-width=\"3\" stroke=\"darkred\" stroke-linejoin=\"miter\" fill=\"none\" />\n",
       "<path d=\"M10,75.0 L25,75.0\" stroke-width=\"3\" stroke=\"darkred\" stroke-linejoin=\"miter\" fill=\"none\" />\n",
       "<path d=\"M25,25 L53,25 L72,44\" stroke=\"darkred\" stroke-width=\"3\" fill=\"none\" />\n",
       "<path d=\"M78,44 L97,25 L125,25\" stroke=\"darkred\" stroke-width=\"3\" fill=\"none\" />\n",
       "<path d=\"M25,75 L53,75 L72,56\" stroke=\"darkred\" stroke-width=\"3\" fill=\"none\" />\n",
       "<path d=\"M78,56 L97,75 L125,75\" stroke=\"darkred\" stroke-width=\"3\" fill=\"none\" />\n",
       "<path d=\"M50,43 L100,43 L100,57 L50,57 Z\" stroke=\"black\" fill=\"black\" stroke-linejoin=\"miter\" />\n",
       "<text x=\"75\" y=\"85\" font-size=\"7\" text-anchor=\"middle\"></text>\n",
       "<text x=\"75\" y=\"26\" font-size=\"7\" text-anchor=\"middle\"></text>\n",
       "<path d=\"M50,43 L100,43 L100,47 L50,47 Z\" stroke=\"black\" fill=\"lightgray\" stroke-linejoin=\"miter\" />\n",
       "<path d=\"M93,50 L103,50 L103,60 L93,60 Z\" stroke=\"black\" fill=\"thistle\" stroke-linejoin=\"miter\" />\n",
       "<text x=\"98\" y=\"57\" font-size=\"6\" text-anchor=\"middle\">Rx</text>\n",
       "<path d=\"M125,25 L175,25\" stroke=\"darkred\" stroke-width=\"3\" fill=\"none\" />\n",
       "<path d=\"M130,40 L139,40 L153,10 L144,10 L130,40 L139,40 Z\" stroke=\"black\" fill=\"gray\" stroke-linejoin=\"miter\" />\n",
       "<text x=\"147\" y=\"38\" font-size=\"7\" text-anchor=\"start\">Φ=phi</text>\n",
       "<path d=\"M125,75.0 L175,75.0\" stroke=\"darkred\" stroke-width=\"3\" fill=\"none\" />\n",
       "<path d=\"M175,25 L203,25 L222,44\" stroke=\"darkred\" stroke-width=\"3\" fill=\"none\" />\n",
       "<path d=\"M228,44 L247,25 L275,25\" stroke=\"darkred\" stroke-width=\"3\" fill=\"none\" />\n",
       "<path d=\"M175,75 L203,75 L222,56\" stroke=\"darkred\" stroke-width=\"3\" fill=\"none\" />\n",
       "<path d=\"M228,56 L247,75 L275,75\" stroke=\"darkred\" stroke-width=\"3\" fill=\"none\" />\n",
       "<path d=\"M200,43 L250,43 L250,57 L200,57 Z\" stroke=\"black\" fill=\"black\" stroke-linejoin=\"miter\" />\n",
       "<text x=\"225\" y=\"85\" font-size=\"7\" text-anchor=\"middle\"></text>\n",
       "<text x=\"225\" y=\"26\" font-size=\"7\" text-anchor=\"middle\"></text>\n",
       "<path d=\"M200,43 L250,43 L250,47 L200,47 Z\" stroke=\"black\" fill=\"lightgray\" stroke-linejoin=\"miter\" />\n",
       "<path d=\"M243,50 L253,50 L253,60 L243,60 Z\" stroke=\"black\" fill=\"thistle\" stroke-linejoin=\"miter\" />\n",
       "<text x=\"248\" y=\"57\" font-size=\"6\" text-anchor=\"middle\">Rx</text>\n",
       "<path d=\"M275,25.0 L290,25.0\" stroke-width=\"3\" stroke=\"darkred\" stroke-linejoin=\"miter\" fill=\"none\" />\n",
       "<path d=\"M275,75.0 L290,75.0\" stroke-width=\"3\" stroke=\"darkred\" stroke-linejoin=\"miter\" fill=\"none\" />\n",
       "<text x=\"300\" y=\"28.0\" font-size=\"6\" text-anchor=\"end\">0</text>\n",
       "<text x=\"300\" y=\"78.0\" font-size=\"6\" text-anchor=\"end\">1</text>\n",
       "<text x=\"0\" y=\"28.0\" font-size=\"6\" text-anchor=\"start\">0</text>\n",
       "<text x=\"0\" y=\"78.0\" font-size=\"6\" text-anchor=\"start\">1</text>\n",
       "</svg>"
      ],
      "text/plain": [
       "<drawsvg.drawing.Drawing at 0x161ba4950>"
      ]
     },
     "execution_count": 36,
     "metadata": {},
     "output_type": "execute_result"
    }
   ],
   "source": [
    "# Define the variable `mzi`to be a circuit implementing this schema. We want the phase-shifter on the top arm to be a parameter with 'phi' value\n",
    "### ENTER CODE HERE\n",
    "mzi = pcvl.Circuit(2) // pcvl.BS() // pcvl.PS(phi=pcvl.P('phi')) // pcvl.BS()\n",
    "### END CODE\n",
    "pcvl.pdisplay(mzi)"
   ]
  },
  {
   "cell_type": "code",
   "execution_count": 37,
   "id": "e1abbae0-7020-499d-9ad7-9306d95acb2c",
   "metadata": {},
   "outputs": [
    {
     "data": {
      "image/png": "[encoded data removed]",
      "text/plain": [
       "<Figure size 640x480 with 1 Axes>"
      ]
     },
     "metadata": {},
     "output_type": "display_data"
    }
   ],
   "source": [
    "import matplotlib.pyplot as plt\n",
    "\n",
    "## We create a list of all different values for phi in the range [0,2*pi[\n",
    "X = np.linspace(0, 2*np.pi, 1000)\n",
    "Y = []\n",
    "for phi in X:\n",
    "    phase = mzi.get_parameters()[0]\n",
    "    phase.set_value(phi)\n",
    "    # we are interested in mzi.compute_unitary()[0,0] which is the probability of detecting a photon in first output mode while sending in one photon into the first input mode.\n",
    "    Y.append(abs(mzi.compute_unitary()[0,0])**2)\n",
    "   \n",
    "plt.plot(X, Y)\n",
    "plt.xlabel(\"phi\")\n",
    "plt.ylabel(\"R\")\n",
    "plt.show()"
   ]
  },
  {
   "cell_type": "markdown",
   "id": "414c3cb7-8193-4859-960e-39a06f9a0aa3",
   "metadata": {},
   "source": [
    "## Universal Circuits\n",
    "\n",
    "An operation on the modes of our circuit can also be expressed as a unitary.\n",
    "\n",
    "For three modes, the unitary $U=\\begin{pmatrix}\n",
    "a_{1,1} & a_{1,2} & a_{1,3}\\\\\n",
    "a_{2,1} & a_{2,2} & a_{2,3} \\\\ \n",
    "a_{3,1} & a_{3,2} & a_{3,3}\n",
    "\\end{pmatrix}$ performs the following operation on the Fock state basis:\n",
    "\n",
    "$$\\begin{array}{rcl}\n",
    "|1,0,0\\rangle &  \\mapsto&  a_{1,1}|1,0,0\\rangle + a_{1,2}|0,1,0\\rangle + a_{1,3}|0,0,1\\rangle\\\\\n",
    "|0,1,0\\rangle &  \\mapsto&  a_{2,1}|1,0,0\\rangle + a_{2,2}|0,1,0\\rangle + a_{2,3}|0,0,1\\rangle\\\\\n",
    "|0,0,1\\rangle &  \\mapsto&  a_{3,1}|1,0,0\\rangle + a_{3,2}|0,1,0\\rangle + a_{3,3}|0,0,1\\rangle\n",
    "\\end{array}$$"
   ]
  },
  {
   "cell_type": "markdown",
   "id": "c4fdadb7-bcd3-43c6-a48c-5ec9ee3b3e40",
   "metadata": {},
   "source": [
    "Since 1994, we know that any $U$ on the modes can be implemented as an LO-circuit [Reck's et al](https://journals.aps.org/prl/abstract/10.1103/PhysRevLett.73.58).\n",
    "\n",
    "This decomposition can be done easily in Perceval using beamsplitters and phase-shifters as follows. "
   ]
  },
  {
   "cell_type": "code",
   "execution_count": 38,
   "id": "3bb04181-4ea5-43fe-9d5a-7c92b861cf0d",
   "metadata": {},
   "outputs": [
    {
     "data": {
      "image/svg+xml": [
       "<?xml version=\"1.0\" encoding=\"UTF-8\"?>\n",
       "<svg xmlns=\"http://www.w3.org/2000/svg\" xmlns:xlink=\"http://www.w3.org/1999/xlink\"\n",
       "     width=\"570.0\" height=\"218.75\" viewBox=\"-28.0 0 456.0 175.0\">\n",
       "<defs>\n",
       "</defs>\n",
       "<path d=\"M10,25.0 L25,25.0\" stroke-width=\"3\" stroke=\"darkred\" stroke-linejoin=\"miter\" fill=\"none\" />\n",
       "<path d=\"M10,75.0 L25,75.0\" stroke-width=\"3\" stroke=\"darkred\" stroke-linejoin=\"miter\" fill=\"none\" />\n",
       "<path d=\"M10,125.0 L25,125.0\" stroke-width=\"3\" stroke=\"darkred\" stroke-linejoin=\"miter\" fill=\"none\" />\n",
       "<path d=\"M25,125 L75,125\" stroke=\"darkred\" stroke-width=\"3\" fill=\"none\" />\n",
       "<path d=\"M30,140 L39,140 L53,110 L44,110 L30,140 L39,140 Z\" stroke=\"black\" fill=\"gray\" stroke-linejoin=\"miter\" />\n",
       "<text x=\"47\" y=\"138\" font-size=\"7\" text-anchor=\"start\">Φ=4.728628</text>\n",
       "<path d=\"M25,75 L75,75\" stroke=\"darkred\" stroke-width=\"3\" fill=\"none\" />\n",
       "<path d=\"M30,90 L39,90 L53,60 L44,60 L30,90 L39,90 Z\" stroke=\"black\" fill=\"gray\" stroke-linejoin=\"miter\" />\n",
       "<text x=\"47\" y=\"88\" font-size=\"7\" text-anchor=\"start\">Φ=4.089896</text>\n",
       "<path d=\"M25,25 L75,25\" stroke=\"darkred\" stroke-width=\"3\" fill=\"none\" />\n",
       "<path d=\"M30,40 L39,40 L53,10 L44,10 L30,40 L39,40 Z\" stroke=\"black\" fill=\"gray\" stroke-linejoin=\"miter\" />\n",
       "<text x=\"47\" y=\"38\" font-size=\"7\" text-anchor=\"start\">Φ=5.386462</text>\n",
       "<path d=\"M75,25 L103,25 L122,44\" stroke=\"darkred\" stroke-width=\"3\" fill=\"none\" />\n",
       "<path d=\"M128,44 L147,25 L175,25\" stroke=\"darkred\" stroke-width=\"3\" fill=\"none\" />\n",
       "<path d=\"M75,75 L103,75 L122,56\" stroke=\"darkred\" stroke-width=\"3\" fill=\"none\" />\n",
       "<path d=\"M128,56 L147,75 L175,75\" stroke=\"darkred\" stroke-width=\"3\" fill=\"none\" />\n",
       "<path d=\"M100,43 L150,43 L150,57 L100,57 Z\" stroke=\"black\" fill=\"black\" stroke-linejoin=\"miter\" />\n",
       "<text x=\"125\" y=\"85\" font-size=\"7\" text-anchor=\"middle\">Φ_tr=1.341831</text>\n",
       "<text x=\"125\" y=\"26\" font-size=\"7\" text-anchor=\"middle\">Θ=8.019573</text>\n",
       "<path d=\"M100,43 L150,43 L150,47 L100,47 Z\" stroke=\"black\" fill=\"lightgray\" stroke-linejoin=\"miter\" />\n",
       "<path d=\"M143,50 L153,50 L153,60 L143,60 Z\" stroke=\"black\" fill=\"thistle\" stroke-linejoin=\"miter\" />\n",
       "<text x=\"148\" y=\"57\" font-size=\"6\" text-anchor=\"middle\">Rx</text>\n",
       "<path d=\"M75,125.0 L175,125.0\" stroke=\"darkred\" stroke-width=\"3\" fill=\"none\" />\n",
       "<path d=\"M175,75 L203,75 L222,94\" stroke=\"darkred\" stroke-width=\"3\" fill=\"none\" />\n",
       "<path d=\"M228,94 L247,75 L275,75\" stroke=\"darkred\" stroke-width=\"3\" fill=\"none\" />\n",
       "<path d=\"M175,125 L203,125 L222,106\" stroke=\"darkred\" stroke-width=\"3\" fill=\"none\" />\n",
       "<path d=\"M228,106 L247,125 L275,125\" stroke=\"darkred\" stroke-width=\"3\" fill=\"none\" />\n",
       "<path d=\"M200,93 L250,93 L250,107 L200,107 Z\" stroke=\"black\" fill=\"black\" stroke-linejoin=\"miter\" />\n",
       "<text x=\"225\" y=\"135\" font-size=\"7\" text-anchor=\"middle\">Φ_tr=2.656049</text>\n",
       "<text x=\"225\" y=\"76\" font-size=\"7\" text-anchor=\"middle\">Θ=8.224035</text>\n",
       "<path d=\"M200,93 L250,93 L250,97 L200,97 Z\" stroke=\"black\" fill=\"lightgray\" stroke-linejoin=\"miter\" />\n",
       "<path d=\"M243,100 L253,100 L253,110 L243,110 Z\" stroke=\"black\" fill=\"thistle\" stroke-linejoin=\"miter\" />\n",
       "<text x=\"248\" y=\"107\" font-size=\"6\" text-anchor=\"middle\">Rx</text>\n",
       "<path d=\"M175,25.0 L275,25.0\" stroke=\"darkred\" stroke-width=\"3\" fill=\"none\" />\n",
       "<path d=\"M275,25 L303,25 L322,44\" stroke=\"darkred\" stroke-width=\"3\" fill=\"none\" />\n",
       "<path d=\"M328,44 L347,25 L375,25\" stroke=\"darkred\" stroke-width=\"3\" fill=\"none\" />\n",
       "<path d=\"M275,75 L303,75 L322,56\" stroke=\"darkred\" stroke-width=\"3\" fill=\"none\" />\n",
       "<path d=\"M328,56 L347,75 L375,75\" stroke=\"darkred\" stroke-width=\"3\" fill=\"none\" />\n",
       "<path d=\"M300,43 L350,43 L350,57 L300,57 Z\" stroke=\"black\" fill=\"black\" stroke-linejoin=\"miter\" />\n",
       "<text x=\"325\" y=\"85\" font-size=\"7\" text-anchor=\"middle\">Φ_tr=5.581354</text>\n",
       "<text x=\"325\" y=\"26\" font-size=\"7\" text-anchor=\"middle\">Θ=1.95463</text>\n",
       "<path d=\"M300,43 L350,43 L350,47 L300,47 Z\" stroke=\"black\" fill=\"lightgray\" stroke-linejoin=\"miter\" />\n",
       "<path d=\"M343,50 L353,50 L353,60 L343,60 Z\" stroke=\"black\" fill=\"thistle\" stroke-linejoin=\"miter\" />\n",
       "<text x=\"348\" y=\"57\" font-size=\"6\" text-anchor=\"middle\">Rx</text>\n",
       "<path d=\"M275,125.0 L375,125.0\" stroke=\"darkred\" stroke-width=\"3\" fill=\"none\" />\n",
       "<path d=\"M375,25.0 L390,25.0\" stroke-width=\"3\" stroke=\"darkred\" stroke-linejoin=\"miter\" fill=\"none\" />\n",
       "<path d=\"M375,75.0 L390,75.0\" stroke-width=\"3\" stroke=\"darkred\" stroke-linejoin=\"miter\" fill=\"none\" />\n",
       "<path d=\"M375,125.0 L390,125.0\" stroke-width=\"3\" stroke=\"darkred\" stroke-linejoin=\"miter\" fill=\"none\" />\n",
       "<text x=\"400\" y=\"28.0\" font-size=\"6\" text-anchor=\"end\">0</text>\n",
       "<text x=\"400\" y=\"78.0\" font-size=\"6\" text-anchor=\"end\">1</text>\n",
       "<text x=\"400\" y=\"128.0\" font-size=\"6\" text-anchor=\"end\">2</text>\n",
       "<text x=\"0\" y=\"28.0\" font-size=\"6\" text-anchor=\"start\">0</text>\n",
       "<text x=\"0\" y=\"78.0\" font-size=\"6\" text-anchor=\"start\">1</text>\n",
       "<text x=\"0\" y=\"128.0\" font-size=\"6\" text-anchor=\"start\">2</text>\n",
       "</svg>"
      ],
      "text/plain": [
       "<drawsvg.drawing.Drawing at 0x161c93e50>"
      ]
     },
     "execution_count": 38,
     "metadata": {},
     "output_type": "execute_result"
    }
   ],
   "source": [
    "## From any unitary\n",
    "n = 3\n",
    "U = pcvl.Matrix.random_unitary(n)\n",
    "\n",
    "circuit_u = pcvl.Circuit.decomposition(U, pcvl_comp.BS(theta=pcvl.P('theta'),phi_tr=pcvl.P('phi')), phase_shifter_fn=pcvl_comp.PS)\n",
    "\n",
    "pcvl.pdisplay(circuit_u)"
   ]
  },
  {
   "cell_type": "code",
   "execution_count": 39,
   "id": "1f474f50-badc-495f-be5f-41fdc1497a52",
   "metadata": {},
   "outputs": [
    {
     "name": "stdout",
     "output_type": "stream",
     "text": [
      "The distance between the two unitaries is 6.774944867428865e-09\n"
     ]
    }
   ],
   "source": [
    "print(\"The distance between the two unitaries is\", np.linalg.norm(U-circuit_u.compute_unitary()))"
   ]
  },
  {
   "cell_type": "code",
   "execution_count": 40,
   "id": "1a80c0b3-116c-4804-8510-0c3c77a75a79",
   "metadata": {},
   "outputs": [
    {
     "data": {
      "image/svg+xml": [
       "<?xml version=\"1.0\" encoding=\"UTF-8\"?>\n",
       "<svg xmlns=\"http://www.w3.org/2000/svg\" xmlns:xlink=\"http://www.w3.org/1999/xlink\"\n",
       "     width=\"1195.0\" height=\"218.75\" viewBox=\"-28.0 0 956.0 175.0\">\n",
       "<defs>\n",
       "</defs>\n",
       "<path d=\"M10,25.0 L25,25.0\" stroke-width=\"3\" stroke=\"darkred\" stroke-linejoin=\"miter\" fill=\"none\" />\n",
       "<path d=\"M10,75.0 L25,75.0\" stroke-width=\"3\" stroke=\"darkred\" stroke-linejoin=\"miter\" fill=\"none\" />\n",
       "<path d=\"M10,125.0 L25,125.0\" stroke-width=\"3\" stroke=\"darkred\" stroke-linejoin=\"miter\" fill=\"none\" />\n",
       "<path d=\"M25,25 L53,25 L72,44\" stroke=\"darkred\" stroke-width=\"3\" fill=\"none\" />\n",
       "<path d=\"M78,44 L97,25 L125,25\" stroke=\"darkred\" stroke-width=\"3\" fill=\"none\" />\n",
       "<path d=\"M25,75 L53,75 L72,56\" stroke=\"darkred\" stroke-width=\"3\" fill=\"none\" />\n",
       "<path d=\"M78,56 L97,75 L125,75\" stroke=\"darkred\" stroke-width=\"3\" fill=\"none\" />\n",
       "<path d=\"M50,43 L100,43 L100,57 L50,57 Z\" stroke=\"black\" fill=\"black\" stroke-linejoin=\"miter\" />\n",
       "<text x=\"75\" y=\"85\" font-size=\"7\" text-anchor=\"middle\"></text>\n",
       "<text x=\"75\" y=\"26\" font-size=\"7\" text-anchor=\"middle\"></text>\n",
       "<path d=\"M50,43 L100,43 L100,47 L50,47 Z\" stroke=\"black\" fill=\"lightgray\" stroke-linejoin=\"miter\" />\n",
       "<path d=\"M93,50 L103,50 L103,60 L93,60 Z\" stroke=\"black\" fill=\"thistle\" stroke-linejoin=\"miter\" />\n",
       "<text x=\"98\" y=\"57\" font-size=\"6\" text-anchor=\"middle\">Rx</text>\n",
       "<path d=\"M125,25 L175,25\" stroke=\"darkred\" stroke-width=\"3\" fill=\"none\" />\n",
       "<path d=\"M130,40 L139,40 L153,10 L144,10 L130,40 L139,40 Z\" stroke=\"black\" fill=\"gray\" stroke-linejoin=\"miter\" />\n",
       "<text x=\"147\" y=\"38\" font-size=\"7\" text-anchor=\"start\">Φ=4.87798</text>\n",
       "<path d=\"M125,75.0 L175,75.0\" stroke=\"darkred\" stroke-width=\"3\" fill=\"none\" />\n",
       "<path d=\"M175,25 L203,25 L222,44\" stroke=\"darkred\" stroke-width=\"3\" fill=\"none\" />\n",
       "<path d=\"M228,44 L247,25 L275,25\" stroke=\"darkred\" stroke-width=\"3\" fill=\"none\" />\n",
       "<path d=\"M175,75 L203,75 L222,56\" stroke=\"darkred\" stroke-width=\"3\" fill=\"none\" />\n",
       "<path d=\"M228,56 L247,75 L275,75\" stroke=\"darkred\" stroke-width=\"3\" fill=\"none\" />\n",
       "<path d=\"M200,43 L250,43 L250,57 L200,57 Z\" stroke=\"black\" fill=\"black\" stroke-linejoin=\"miter\" />\n",
       "<text x=\"225\" y=\"85\" font-size=\"7\" text-anchor=\"middle\"></text>\n",
       "<text x=\"225\" y=\"26\" font-size=\"7\" text-anchor=\"middle\"></text>\n",
       "<path d=\"M200,43 L250,43 L250,47 L200,47 Z\" stroke=\"black\" fill=\"lightgray\" stroke-linejoin=\"miter\" />\n",
       "<path d=\"M243,50 L253,50 L253,60 L243,60 Z\" stroke=\"black\" fill=\"thistle\" stroke-linejoin=\"miter\" />\n",
       "<text x=\"248\" y=\"57\" font-size=\"6\" text-anchor=\"middle\">Rx</text>\n",
       "<path d=\"M275,25 L325,25\" stroke=\"darkred\" stroke-width=\"3\" fill=\"none\" />\n",
       "<path d=\"M280,40 L289,40 L303,10 L294,10 L280,40 L289,40 Z\" stroke=\"black\" fill=\"gray\" stroke-linejoin=\"miter\" />\n",
       "<text x=\"297\" y=\"38\" font-size=\"7\" text-anchor=\"start\">Φ=4.860367</text>\n",
       "<path d=\"M25,125.0 L275,125.0\" stroke=\"darkred\" stroke-width=\"3\" fill=\"none\" />\n",
       "<path d=\"M275,75 L303,75 L322,94\" stroke=\"darkred\" stroke-width=\"3\" fill=\"none\" />\n",
       "<path d=\"M328,94 L347,75 L375,75\" stroke=\"darkred\" stroke-width=\"3\" fill=\"none\" />\n",
       "<path d=\"M275,125 L303,125 L322,106\" stroke=\"darkred\" stroke-width=\"3\" fill=\"none\" />\n",
       "<path d=\"M328,106 L347,125 L375,125\" stroke=\"darkred\" stroke-width=\"3\" fill=\"none\" />\n",
       "<path d=\"M300,93 L350,93 L350,107 L300,107 Z\" stroke=\"black\" fill=\"black\" stroke-linejoin=\"miter\" />\n",
       "<text x=\"325\" y=\"135\" font-size=\"7\" text-anchor=\"middle\"></text>\n",
       "<text x=\"325\" y=\"76\" font-size=\"7\" text-anchor=\"middle\"></text>\n",
       "<path d=\"M300,93 L350,93 L350,97 L300,97 Z\" stroke=\"black\" fill=\"lightgray\" stroke-linejoin=\"miter\" />\n",
       "<path d=\"M343,100 L353,100 L353,110 L343,110 Z\" stroke=\"black\" fill=\"thistle\" stroke-linejoin=\"miter\" />\n",
       "<text x=\"348\" y=\"107\" font-size=\"6\" text-anchor=\"middle\">Rx</text>\n",
       "<path d=\"M375,75 L425,75\" stroke=\"darkred\" stroke-width=\"3\" fill=\"none\" />\n",
       "<path d=\"M380,90 L389,90 L403,60 L394,60 L380,90 L389,90 Z\" stroke=\"black\" fill=\"gray\" stroke-linejoin=\"miter\" />\n",
       "<text x=\"397\" y=\"88\" font-size=\"7\" text-anchor=\"start\">Φ=5.082443</text>\n",
       "<path d=\"M375,125.0 L425,125.0\" stroke=\"darkred\" stroke-width=\"3\" fill=\"none\" />\n",
       "<path d=\"M425,75 L453,75 L472,94\" stroke=\"darkred\" stroke-width=\"3\" fill=\"none\" />\n",
       "<path d=\"M478,94 L497,75 L525,75\" stroke=\"darkred\" stroke-width=\"3\" fill=\"none\" />\n",
       "<path d=\"M425,125 L453,125 L472,106\" stroke=\"darkred\" stroke-width=\"3\" fill=\"none\" />\n",
       "<path d=\"M478,106 L497,125 L525,125\" stroke=\"darkred\" stroke-width=\"3\" fill=\"none\" />\n",
       "<path d=\"M450,93 L500,93 L500,107 L450,107 Z\" stroke=\"black\" fill=\"black\" stroke-linejoin=\"miter\" />\n",
       "<text x=\"475\" y=\"135\" font-size=\"7\" text-anchor=\"middle\"></text>\n",
       "<text x=\"475\" y=\"76\" font-size=\"7\" text-anchor=\"middle\"></text>\n",
       "<path d=\"M450,93 L500,93 L500,97 L450,97 Z\" stroke=\"black\" fill=\"lightgray\" stroke-linejoin=\"miter\" />\n",
       "<path d=\"M493,100 L503,100 L503,110 L493,110 Z\" stroke=\"black\" fill=\"thistle\" stroke-linejoin=\"miter\" />\n",
       "<text x=\"498\" y=\"107\" font-size=\"6\" text-anchor=\"middle\">Rx</text>\n",
       "<path d=\"M525,75 L575,75\" stroke=\"darkred\" stroke-width=\"3\" fill=\"none\" />\n",
       "<path d=\"M530,90 L539,90 L553,60 L544,60 L530,90 L539,90 Z\" stroke=\"black\" fill=\"gray\" stroke-linejoin=\"miter\" />\n",
       "<text x=\"547\" y=\"88\" font-size=\"7\" text-anchor=\"start\">Φ=5.20416</text>\n",
       "<path d=\"M325,25.0 L575,25.0\" stroke=\"darkred\" stroke-width=\"3\" fill=\"none\" />\n",
       "<path d=\"M575,25 L603,25 L622,44\" stroke=\"darkred\" stroke-width=\"3\" fill=\"none\" />\n",
       "<path d=\"M628,44 L647,25 L675,25\" stroke=\"darkred\" stroke-width=\"3\" fill=\"none\" />\n",
       "<path d=\"M575,75 L603,75 L622,56\" stroke=\"darkred\" stroke-width=\"3\" fill=\"none\" />\n",
       "<path d=\"M628,56 L647,75 L675,75\" stroke=\"darkred\" stroke-width=\"3\" fill=\"none\" />\n",
       "<path d=\"M600,43 L650,43 L650,57 L600,57 Z\" stroke=\"black\" fill=\"black\" stroke-linejoin=\"miter\" />\n",
       "<text x=\"625\" y=\"85\" font-size=\"7\" text-anchor=\"middle\"></text>\n",
       "<text x=\"625\" y=\"26\" font-size=\"7\" text-anchor=\"middle\"></text>\n",
       "<path d=\"M600,43 L650,43 L650,47 L600,47 Z\" stroke=\"black\" fill=\"lightgray\" stroke-linejoin=\"miter\" />\n",
       "<path d=\"M643,50 L653,50 L653,60 L643,60 Z\" stroke=\"black\" fill=\"thistle\" stroke-linejoin=\"miter\" />\n",
       "<text x=\"648\" y=\"57\" font-size=\"6\" text-anchor=\"middle\">Rx</text>\n",
       "<path d=\"M675,25 L725,25\" stroke=\"darkred\" stroke-width=\"3\" fill=\"none\" />\n",
       "<path d=\"M680,40 L689,40 L703,10 L694,10 L680,40 L689,40 Z\" stroke=\"black\" fill=\"gray\" stroke-linejoin=\"miter\" />\n",
       "<text x=\"697\" y=\"38\" font-size=\"7\" text-anchor=\"start\">Φ=1.186963</text>\n",
       "<path d=\"M675,75.0 L725,75.0\" stroke=\"darkred\" stroke-width=\"3\" fill=\"none\" />\n",
       "<path d=\"M725,25 L753,25 L772,44\" stroke=\"darkred\" stroke-width=\"3\" fill=\"none\" />\n",
       "<path d=\"M778,44 L797,25 L825,25\" stroke=\"darkred\" stroke-width=\"3\" fill=\"none\" />\n",
       "<path d=\"M725,75 L753,75 L772,56\" stroke=\"darkred\" stroke-width=\"3\" fill=\"none\" />\n",
       "<path d=\"M778,56 L797,75 L825,75\" stroke=\"darkred\" stroke-width=\"3\" fill=\"none\" />\n",
       "<path d=\"M750,43 L800,43 L800,57 L750,57 Z\" stroke=\"black\" fill=\"black\" stroke-linejoin=\"miter\" />\n",
       "<text x=\"775\" y=\"85\" font-size=\"7\" text-anchor=\"middle\"></text>\n",
       "<text x=\"775\" y=\"26\" font-size=\"7\" text-anchor=\"middle\"></text>\n",
       "<path d=\"M750,43 L800,43 L800,47 L750,47 Z\" stroke=\"black\" fill=\"lightgray\" stroke-linejoin=\"miter\" />\n",
       "<path d=\"M793,50 L803,50 L803,60 L793,60 Z\" stroke=\"black\" fill=\"thistle\" stroke-linejoin=\"miter\" />\n",
       "<text x=\"798\" y=\"57\" font-size=\"6\" text-anchor=\"middle\">Rx</text>\n",
       "<path d=\"M825,25 L875,25\" stroke=\"darkred\" stroke-width=\"3\" fill=\"none\" />\n",
       "<path d=\"M830,40 L839,40 L853,10 L844,10 L830,40 L839,40 Z\" stroke=\"black\" fill=\"gray\" stroke-linejoin=\"miter\" />\n",
       "<text x=\"847\" y=\"38\" font-size=\"7\" text-anchor=\"start\">Φ=4.010558</text>\n",
       "<path d=\"M825,75.0 L875,75.0\" stroke=\"darkred\" stroke-width=\"3\" fill=\"none\" />\n",
       "<path d=\"M525,125.0 L875,125.0\" stroke=\"darkred\" stroke-width=\"3\" fill=\"none\" />\n",
       "<path d=\"M875,25.0 L890,25.0\" stroke-width=\"3\" stroke=\"darkred\" stroke-linejoin=\"miter\" fill=\"none\" />\n",
       "<path d=\"M875,75.0 L890,75.0\" stroke-width=\"3\" stroke=\"darkred\" stroke-linejoin=\"miter\" fill=\"none\" />\n",
       "<path d=\"M875,125.0 L890,125.0\" stroke-width=\"3\" stroke=\"darkred\" stroke-linejoin=\"miter\" fill=\"none\" />\n",
       "<text x=\"900\" y=\"28.0\" font-size=\"6\" text-anchor=\"end\">0</text>\n",
       "<text x=\"900\" y=\"78.0\" font-size=\"6\" text-anchor=\"end\">1</text>\n",
       "<text x=\"900\" y=\"128.0\" font-size=\"6\" text-anchor=\"end\">2</text>\n",
       "<text x=\"0\" y=\"28.0\" font-size=\"6\" text-anchor=\"start\">0</text>\n",
       "<text x=\"0\" y=\"78.0\" font-size=\"6\" text-anchor=\"start\">1</text>\n",
       "<text x=\"0\" y=\"128.0\" font-size=\"6\" text-anchor=\"start\">2</text>\n",
       "</svg>"
      ],
      "text/plain": [
       "<drawsvg.drawing.Drawing at 0x161fd1090>"
      ]
     },
     "execution_count": 40,
     "metadata": {},
     "output_type": "execute_result"
    }
   ],
   "source": [
    "# do the same, but do not use a parameterable beamsplitter, but rather a mzi as defined here\n",
    "mzi=pcvl.Circuit(2) // pcvl_comp.BS() // pcvl_comp.PS(pcvl.P(\"phi1\")) //  pcvl_comp.BS()  //  pcvl_comp.PS(pcvl.P(\"phi2\"))\n",
    "\n",
    "### ENTER CODE HERE\n",
    "circuit_u_2 = pcvl.Circuit.decomposition(U, mzi) \n",
    "### END CODE\n",
    "\n",
    "pcvl.pdisplay(circuit_u_2)"
   ]
  },
  {
   "cell_type": "code",
   "execution_count": 41,
   "id": "b2308a18-e57a-48b2-9b81-5e050db1a92e",
   "metadata": {},
   "outputs": [
    {
     "name": "stdout",
     "output_type": "stream",
     "text": [
      "The distance between the two unitaries is 2.0212956084436677\n"
     ]
    }
   ],
   "source": [
    "print(\"The distance between the two unitaries is\", np.linalg.norm(U-circuit_u_2.compute_unitary()))"
   ]
  },
  {
   "cell_type": "markdown",
   "id": "0e71f441-0bf7-4b8d-aefa-83a312a78f9a",
   "metadata": {},
   "source": [
    "## Black Box\n",
    "\n",
    "To improve readibility, the circuit can be constructed in multiple steps which are then combined as black boxes. This will also help when we'll need generic operations.\n"
   ]
  },
  {
   "cell_type": "code",
   "execution_count": 42,
   "id": "be658ac2-2689-4308-8f4d-cfe3984b7377",
   "metadata": {},
   "outputs": [
    {
     "data": {
      "image/svg+xml": [
       "<?xml version=\"1.0\" encoding=\"UTF-8\"?>\n",
       "<svg xmlns=\"http://www.w3.org/2000/svg\" xmlns:xlink=\"http://www.w3.org/1999/xlink\"\n",
       "     width=\"413.75\" height=\"281.25\" viewBox=\"-53.0 0 331.0 225.0\">\n",
       "<defs>\n",
       "</defs>\n",
       "<path d=\"M10,25.0 L25,25.0\" stroke-width=\"3\" stroke=\"darkred\" stroke-linejoin=\"miter\" fill=\"none\" />\n",
       "<path d=\"M10,75.0 L25,75.0\" stroke-width=\"3\" stroke=\"darkred\" stroke-linejoin=\"miter\" fill=\"none\" />\n",
       "<path d=\"M10,125.0 L25,125.0\" stroke-width=\"3\" stroke=\"darkred\" stroke-linejoin=\"miter\" fill=\"none\" />\n",
       "<path d=\"M10,175.0 L25,175.0\" stroke-width=\"3\" stroke=\"darkred\" stroke-linejoin=\"miter\" fill=\"none\" />\n",
       "<path d=\"M25,25 L125,25\" stroke=\"darkred\" stroke-width=\"3\" fill=\"none\" />\n",
       "<path d=\"M25,75 L125,75\" stroke=\"darkred\" stroke-width=\"3\" fill=\"none\" />\n",
       "<path d=\"M25,125 L125,125\" stroke=\"darkred\" stroke-width=\"3\" fill=\"none\" />\n",
       "<path d=\"M25,175 L125,175\" stroke=\"darkred\" stroke-width=\"3\" fill=\"none\" />\n",
       "<path d=\"M27.5,2.5 L122.5,2.5 L122.5,197.5 L27.5,197.5 Z\" stroke=\"darkred\" fill=\"lightpink\" stroke-linejoin=\"miter\" />\n",
       "<text x=\"35\" y=\"16\" font-size=\"7\" text-anchor=\"start\" font-weight=\"bold\">BELL STATE PREPAR.</text>\n",
       "<path d=\"M125,25 L225,25\" stroke=\"darkred\" stroke-width=\"3\" fill=\"none\" />\n",
       "<path d=\"M125,75 L225,75\" stroke=\"darkred\" stroke-width=\"3\" fill=\"none\" />\n",
       "<path d=\"M127.5,2.5 L222.5,2.5 L222.5,97.5 L127.5,97.5 Z\" stroke=\"darkred\" fill=\"lightpink\" stroke-linejoin=\"miter\" />\n",
       "<text x=\"135\" y=\"16\" font-size=\"8\" text-anchor=\"start\" font-weight=\"bold\">UPPER MZI</text>\n",
       "<path d=\"M125,125 L225,125\" stroke=\"darkred\" stroke-width=\"3\" fill=\"none\" />\n",
       "<path d=\"M125,175 L225,175\" stroke=\"darkred\" stroke-width=\"3\" fill=\"none\" />\n",
       "<path d=\"M127.5,102.5 L222.5,102.5 L222.5,197.5 L127.5,197.5 Z\" stroke=\"darkred\" fill=\"lightpink\" stroke-linejoin=\"miter\" />\n",
       "<text x=\"135\" y=\"116\" font-size=\"8\" text-anchor=\"start\" font-weight=\"bold\">LOWER MZI</text>\n",
       "<path d=\"M225,25.0 L240,25.0\" stroke-width=\"3\" stroke=\"darkred\" stroke-linejoin=\"miter\" fill=\"none\" />\n",
       "<path d=\"M225,75.0 L240,75.0\" stroke-width=\"3\" stroke=\"darkred\" stroke-linejoin=\"miter\" fill=\"none\" />\n",
       "<path d=\"M225,125.0 L240,125.0\" stroke-width=\"3\" stroke=\"darkred\" stroke-linejoin=\"miter\" fill=\"none\" />\n",
       "<path d=\"M225,175.0 L240,175.0\" stroke-width=\"3\" stroke=\"darkred\" stroke-linejoin=\"miter\" fill=\"none\" />\n",
       "<text x=\"250\" y=\"28.0\" font-size=\"6\" text-anchor=\"end\">0</text>\n",
       "<text x=\"250\" y=\"78.0\" font-size=\"6\" text-anchor=\"end\">1</text>\n",
       "<text x=\"250\" y=\"128.0\" font-size=\"6\" text-anchor=\"end\">2</text>\n",
       "<text x=\"250\" y=\"178.0\" font-size=\"6\" text-anchor=\"end\">3</text>\n",
       "<text x=\"0\" y=\"28.0\" font-size=\"6\" text-anchor=\"start\">0</text>\n",
       "<text x=\"0\" y=\"78.0\" font-size=\"6\" text-anchor=\"start\">1</text>\n",
       "<text x=\"0\" y=\"128.0\" font-size=\"6\" text-anchor=\"start\">2</text>\n",
       "<text x=\"0\" y=\"178.0\" font-size=\"6\" text-anchor=\"start\">3</text>\n",
       "</svg>"
      ],
      "text/plain": [
       "<drawsvg.drawing.Drawing at 0x161fe7750>"
      ]
     },
     "execution_count": 42,
     "metadata": {},
     "output_type": "execute_result"
    }
   ],
   "source": [
    "pre_MZI = (pcvl.Circuit(4, name=\"Bell State Prepar.\")\n",
    "           .add(0, pcvl_comp.BS())\n",
    "           .add(2, pcvl_comp.BS())\n",
    "           .add(1, pcvl_comp.PERM([1, 0])))\n",
    "\n",
    "upper_MZI = (pcvl.Circuit(2, name=\"upper MZI\")\n",
    "             .add(0, pcvl_comp.PS(phi=pcvl.P('phi_0')))\n",
    "             .add(0, pcvl_comp.BS())\n",
    "             .add(0, pcvl_comp.PS(phi=pcvl.P('phi_2')))\n",
    "             .add(0, pcvl_comp.BS()))\n",
    "\n",
    "lower_MZI = (pcvl.Circuit(2, name=\"lower MZI\")\n",
    "             .add(0, pcvl_comp.PS(phi=pcvl.P('phi_1')))\n",
    "             .add(0, pcvl_comp.BS())\n",
    "             .add(0, pcvl_comp.PS(phi=pcvl.P('phi_3')))\n",
    "             .add(0, pcvl_comp.BS()))\n",
    "\n",
    "chip = (pcvl.Circuit(4)\n",
    "              .add(0, pre_MZI)\n",
    "              .add(0, upper_MZI, merge=False)\n",
    "              .add(2, lower_MZI, merge=False))\n",
    "\n",
    "pcvl.pdisplay(chip)"
   ]
  },
  {
   "cell_type": "code",
   "execution_count": 43,
   "id": "3e34b4dd-75ce-48b0-9858-82da0ceac0fb",
   "metadata": {},
   "outputs": [
    {
     "data": {
      "image/svg+xml": [
       "<?xml version=\"1.0\" encoding=\"UTF-8\"?>\n",
       "<svg xmlns=\"http://www.w3.org/2000/svg\" xmlns:xlink=\"http://www.w3.org/1999/xlink\"\n",
       "     width=\"745.0\" height=\"281.25\" viewBox=\"-68.0 0 596.0 225.0\">\n",
       "<defs>\n",
       "</defs>\n",
       "<path d=\"M10,25.0 L25,25.0\" stroke-width=\"3\" stroke=\"darkred\" stroke-linejoin=\"miter\" fill=\"none\" />\n",
       "<path d=\"M10,75.0 L25,75.0\" stroke-width=\"3\" stroke=\"darkred\" stroke-linejoin=\"miter\" fill=\"none\" />\n",
       "<path d=\"M10,125.0 L25,125.0\" stroke-width=\"3\" stroke=\"darkred\" stroke-linejoin=\"miter\" fill=\"none\" />\n",
       "<path d=\"M10,175.0 L25,175.0\" stroke-width=\"3\" stroke=\"darkred\" stroke-linejoin=\"miter\" fill=\"none\" />\n",
       "<path d=\"M27,2 L173,2 L173,198 L27,198 Z\" stroke=\"black\" fill=\"lightblue\" stroke-dasharray=\"1,2\" stroke-linejoin=\"miter\" />\n",
       "<text x=\"29\" y=\"205\" font-size=\"8\" text-anchor=\"start\">BELL STATE PREPAR.</text>\n",
       "<path d=\"M25,25 L53,25 L72,44\" stroke=\"darkred\" stroke-width=\"3\" fill=\"none\" />\n",
       "<path d=\"M78,44 L97,25 L125,25\" stroke=\"darkred\" stroke-width=\"3\" fill=\"none\" />\n",
       "<path d=\"M25,75 L53,75 L72,56\" stroke=\"darkred\" stroke-width=\"3\" fill=\"none\" />\n",
       "<path d=\"M78,56 L97,75 L125,75\" stroke=\"darkred\" stroke-width=\"3\" fill=\"none\" />\n",
       "<path d=\"M50,43 L100,43 L100,57 L50,57 Z\" stroke=\"black\" fill=\"black\" stroke-linejoin=\"miter\" />\n",
       "<text x=\"75\" y=\"85\" font-size=\"7\" text-anchor=\"middle\"></text>\n",
       "<text x=\"75\" y=\"26\" font-size=\"7\" text-anchor=\"middle\"></text>\n",
       "<path d=\"M50,43 L100,43 L100,47 L50,47 Z\" stroke=\"black\" fill=\"lightgray\" stroke-linejoin=\"miter\" />\n",
       "<path d=\"M93,50 L103,50 L103,60 L93,60 Z\" stroke=\"black\" fill=\"thistle\" stroke-linejoin=\"miter\" />\n",
       "<text x=\"98\" y=\"57\" font-size=\"6\" text-anchor=\"middle\">Rx</text>\n",
       "<path d=\"M25,125 L53,125 L72,144\" stroke=\"darkred\" stroke-width=\"3\" fill=\"none\" />\n",
       "<path d=\"M78,144 L97,125 L125,125\" stroke=\"darkred\" stroke-width=\"3\" fill=\"none\" />\n",
       "<path d=\"M25,175 L53,175 L72,156\" stroke=\"darkred\" stroke-width=\"3\" fill=\"none\" />\n",
       "<path d=\"M78,156 L97,175 L125,175\" stroke=\"darkred\" stroke-width=\"3\" fill=\"none\" />\n",
       "<path d=\"M50,143 L100,143 L100,157 L50,157 Z\" stroke=\"black\" fill=\"black\" stroke-linejoin=\"miter\" />\n",
       "<text x=\"75\" y=\"185\" font-size=\"7\" text-anchor=\"middle\"></text>\n",
       "<text x=\"75\" y=\"126\" font-size=\"7\" text-anchor=\"middle\"></text>\n",
       "<path d=\"M50,143 L100,143 L100,147 L50,147 Z\" stroke=\"black\" fill=\"lightgray\" stroke-linejoin=\"miter\" />\n",
       "<path d=\"M93,150 L103,150 L103,160 L93,160 Z\" stroke=\"black\" fill=\"thistle\" stroke-linejoin=\"miter\" />\n",
       "<text x=\"98\" y=\"157\" font-size=\"6\" text-anchor=\"middle\">Rx</text>\n",
       "<path d=\"M128,75 L172,125\" stroke=\"white\" stroke-width=\"6\" fill=\"none\" />\n",
       "<path d=\"M125,75 L128,75 L172,125 L175,125\" stroke=\"darkred\" stroke-width=\"3\" fill=\"none\" />\n",
       "<path d=\"M128,125 L172,75\" stroke=\"white\" stroke-width=\"6\" fill=\"none\" />\n",
       "<path d=\"M125,125 L128,125 L172,75 L175,75\" stroke=\"darkred\" stroke-width=\"3\" fill=\"none\" />\n",
       "<path d=\"M125,25.0 L175,25.0\" stroke=\"darkred\" stroke-width=\"3\" fill=\"none\" />\n",
       "<path d=\"M125,175.0 L175,175.0\" stroke=\"darkred\" stroke-width=\"3\" fill=\"none\" />\n",
       "<path d=\"M177,2 L473,2 L473,98 L177,98 Z\" stroke=\"black\" fill=\"lightblue\" stroke-dasharray=\"1,2\" stroke-linejoin=\"miter\" />\n",
       "<text x=\"179\" y=\"105\" font-size=\"8\" text-anchor=\"start\">UPPER MZI</text>\n",
       "<path d=\"M175,25 L225,25\" stroke=\"darkred\" stroke-width=\"3\" fill=\"none\" />\n",
       "<path d=\"M180,40 L189,40 L203,10 L194,10 L180,40 L189,40 Z\" stroke=\"black\" fill=\"gray\" stroke-linejoin=\"miter\" />\n",
       "<text x=\"197\" y=\"38\" font-size=\"7\" text-anchor=\"start\">Φ=phi_0</text>\n",
       "<path d=\"M175,75.0 L225,75.0\" stroke=\"darkred\" stroke-width=\"3\" fill=\"none\" />\n",
       "<path d=\"M225,25 L253,25 L272,44\" stroke=\"darkred\" stroke-width=\"3\" fill=\"none\" />\n",
       "<path d=\"M278,44 L297,25 L325,25\" stroke=\"darkred\" stroke-width=\"3\" fill=\"none\" />\n",
       "<path d=\"M225,75 L253,75 L272,56\" stroke=\"darkred\" stroke-width=\"3\" fill=\"none\" />\n",
       "<path d=\"M278,56 L297,75 L325,75\" stroke=\"darkred\" stroke-width=\"3\" fill=\"none\" />\n",
       "<path d=\"M250,43 L300,43 L300,57 L250,57 Z\" stroke=\"black\" fill=\"black\" stroke-linejoin=\"miter\" />\n",
       "<text x=\"275\" y=\"85\" font-size=\"7\" text-anchor=\"middle\"></text>\n",
       "<text x=\"275\" y=\"26\" font-size=\"7\" text-anchor=\"middle\"></text>\n",
       "<path d=\"M250,43 L300,43 L300,47 L250,47 Z\" stroke=\"black\" fill=\"lightgray\" stroke-linejoin=\"miter\" />\n",
       "<path d=\"M293,50 L303,50 L303,60 L293,60 Z\" stroke=\"black\" fill=\"thistle\" stroke-linejoin=\"miter\" />\n",
       "<text x=\"298\" y=\"57\" font-size=\"6\" text-anchor=\"middle\">Rx</text>\n",
       "<path d=\"M325,25 L375,25\" stroke=\"darkred\" stroke-width=\"3\" fill=\"none\" />\n",
       "<path d=\"M330,40 L339,40 L353,10 L344,10 L330,40 L339,40 Z\" stroke=\"black\" fill=\"gray\" stroke-linejoin=\"miter\" />\n",
       "<text x=\"347\" y=\"38\" font-size=\"7\" text-anchor=\"start\">Φ=phi_2</text>\n",
       "<path d=\"M325,75.0 L375,75.0\" stroke=\"darkred\" stroke-width=\"3\" fill=\"none\" />\n",
       "<path d=\"M375,25 L403,25 L422,44\" stroke=\"darkred\" stroke-width=\"3\" fill=\"none\" />\n",
       "<path d=\"M428,44 L447,25 L475,25\" stroke=\"darkred\" stroke-width=\"3\" fill=\"none\" />\n",
       "<path d=\"M375,75 L403,75 L422,56\" stroke=\"darkred\" stroke-width=\"3\" fill=\"none\" />\n",
       "<path d=\"M428,56 L447,75 L475,75\" stroke=\"darkred\" stroke-width=\"3\" fill=\"none\" />\n",
       "<path d=\"M400,43 L450,43 L450,57 L400,57 Z\" stroke=\"black\" fill=\"black\" stroke-linejoin=\"miter\" />\n",
       "<text x=\"425\" y=\"85\" font-size=\"7\" text-anchor=\"middle\"></text>\n",
       "<text x=\"425\" y=\"26\" font-size=\"7\" text-anchor=\"middle\"></text>\n",
       "<path d=\"M400,43 L450,43 L450,47 L400,47 Z\" stroke=\"black\" fill=\"lightgray\" stroke-linejoin=\"miter\" />\n",
       "<path d=\"M443,50 L453,50 L453,60 L443,60 Z\" stroke=\"black\" fill=\"thistle\" stroke-linejoin=\"miter\" />\n",
       "<text x=\"448\" y=\"57\" font-size=\"6\" text-anchor=\"middle\">Rx</text>\n",
       "<path d=\"M177,102 L473,102 L473,198 L177,198 Z\" stroke=\"black\" fill=\"lightblue\" stroke-dasharray=\"1,2\" stroke-linejoin=\"miter\" />\n",
       "<text x=\"179\" y=\"205\" font-size=\"8\" text-anchor=\"start\">LOWER MZI</text>\n",
       "<path d=\"M175,125 L225,125\" stroke=\"darkred\" stroke-width=\"3\" fill=\"none\" />\n",
       "<path d=\"M180,140 L189,140 L203,110 L194,110 L180,140 L189,140 Z\" stroke=\"black\" fill=\"gray\" stroke-linejoin=\"miter\" />\n",
       "<text x=\"197\" y=\"138\" font-size=\"7\" text-anchor=\"start\">Φ=phi_1</text>\n",
       "<path d=\"M175,175.0 L225,175.0\" stroke=\"darkred\" stroke-width=\"3\" fill=\"none\" />\n",
       "<path d=\"M225,125 L253,125 L272,144\" stroke=\"darkred\" stroke-width=\"3\" fill=\"none\" />\n",
       "<path d=\"M278,144 L297,125 L325,125\" stroke=\"darkred\" stroke-width=\"3\" fill=\"none\" />\n",
       "<path d=\"M225,175 L253,175 L272,156\" stroke=\"darkred\" stroke-width=\"3\" fill=\"none\" />\n",
       "<path d=\"M278,156 L297,175 L325,175\" stroke=\"darkred\" stroke-width=\"3\" fill=\"none\" />\n",
       "<path d=\"M250,143 L300,143 L300,157 L250,157 Z\" stroke=\"black\" fill=\"black\" stroke-linejoin=\"miter\" />\n",
       "<text x=\"275\" y=\"185\" font-size=\"7\" text-anchor=\"middle\"></text>\n",
       "<text x=\"275\" y=\"126\" font-size=\"7\" text-anchor=\"middle\"></text>\n",
       "<path d=\"M250,143 L300,143 L300,147 L250,147 Z\" stroke=\"black\" fill=\"lightgray\" stroke-linejoin=\"miter\" />\n",
       "<path d=\"M293,150 L303,150 L303,160 L293,160 Z\" stroke=\"black\" fill=\"thistle\" stroke-linejoin=\"miter\" />\n",
       "<text x=\"298\" y=\"157\" font-size=\"6\" text-anchor=\"middle\">Rx</text>\n",
       "<path d=\"M325,125 L375,125\" stroke=\"darkred\" stroke-width=\"3\" fill=\"none\" />\n",
       "<path d=\"M330,140 L339,140 L353,110 L344,110 L330,140 L339,140 Z\" stroke=\"black\" fill=\"gray\" stroke-linejoin=\"miter\" />\n",
       "<text x=\"347\" y=\"138\" font-size=\"7\" text-anchor=\"start\">Φ=phi_3</text>\n",
       "<path d=\"M325,175.0 L375,175.0\" stroke=\"darkred\" stroke-width=\"3\" fill=\"none\" />\n",
       "<path d=\"M375,125 L403,125 L422,144\" stroke=\"darkred\" stroke-width=\"3\" fill=\"none\" />\n",
       "<path d=\"M428,144 L447,125 L475,125\" stroke=\"darkred\" stroke-width=\"3\" fill=\"none\" />\n",
       "<path d=\"M375,175 L403,175 L422,156\" stroke=\"darkred\" stroke-width=\"3\" fill=\"none\" />\n",
       "<path d=\"M428,156 L447,175 L475,175\" stroke=\"darkred\" stroke-width=\"3\" fill=\"none\" />\n",
       "<path d=\"M400,143 L450,143 L450,157 L400,157 Z\" stroke=\"black\" fill=\"black\" stroke-linejoin=\"miter\" />\n",
       "<text x=\"425\" y=\"185\" font-size=\"7\" text-anchor=\"middle\"></text>\n",
       "<text x=\"425\" y=\"126\" font-size=\"7\" text-anchor=\"middle\"></text>\n",
       "<path d=\"M400,143 L450,143 L450,147 L400,147 Z\" stroke=\"black\" fill=\"lightgray\" stroke-linejoin=\"miter\" />\n",
       "<path d=\"M443,150 L453,150 L453,160 L443,160 Z\" stroke=\"black\" fill=\"thistle\" stroke-linejoin=\"miter\" />\n",
       "<text x=\"448\" y=\"157\" font-size=\"6\" text-anchor=\"middle\">Rx</text>\n",
       "<path d=\"M475,25.0 L490,25.0\" stroke-width=\"3\" stroke=\"darkred\" stroke-linejoin=\"miter\" fill=\"none\" />\n",
       "<path d=\"M475,75.0 L490,75.0\" stroke-width=\"3\" stroke=\"darkred\" stroke-linejoin=\"miter\" fill=\"none\" />\n",
       "<path d=\"M475,125.0 L490,125.0\" stroke-width=\"3\" stroke=\"darkred\" stroke-linejoin=\"miter\" fill=\"none\" />\n",
       "<path d=\"M475,175.0 L490,175.0\" stroke-width=\"3\" stroke=\"darkred\" stroke-linejoin=\"miter\" fill=\"none\" />\n",
       "<text x=\"500\" y=\"28.0\" font-size=\"6\" text-anchor=\"end\">0</text>\n",
       "<text x=\"500\" y=\"78.0\" font-size=\"6\" text-anchor=\"end\">1</text>\n",
       "<text x=\"500\" y=\"128.0\" font-size=\"6\" text-anchor=\"end\">2</text>\n",
       "<text x=\"500\" y=\"178.0\" font-size=\"6\" text-anchor=\"end\">3</text>\n",
       "<text x=\"0\" y=\"28.0\" font-size=\"6\" text-anchor=\"start\">0</text>\n",
       "<text x=\"0\" y=\"78.0\" font-size=\"6\" text-anchor=\"start\">1</text>\n",
       "<text x=\"0\" y=\"128.0\" font-size=\"6\" text-anchor=\"start\">2</text>\n",
       "<text x=\"0\" y=\"178.0\" font-size=\"6\" text-anchor=\"start\">3</text>\n",
       "</svg>"
      ],
      "text/plain": [
       "<drawsvg.drawing.Drawing at 0x161ff8650>"
      ]
     },
     "execution_count": 43,
     "metadata": {},
     "output_type": "execute_result"
    }
   ],
   "source": [
    "## You can still display the inside of black boxes with:\n",
    "pcvl.pdisplay(chip, recursive=True)"
   ]
  },
  {
   "cell_type": "markdown",
   "id": "c3a2cfda-ff75-4730-816f-8c64999ec66d",
   "metadata": {},
   "source": [
    "# Simulation\n",
    "\n",
    "Up to this point, we have focused on creating circuits.\n",
    "It's time to learn how to sample from them or describe their output distribution, on many different inputs."
   ]
  },
  {
   "cell_type": "markdown",
   "id": "ed8bc7eb",
   "metadata": {},
   "source": [
    "## HOM\n",
    "\n",
    "For this part, we will take the [Hong-Ou-Mandel](https://en.wikipedia.org/wiki/Hong%E2%80%93Ou%E2%80%93Mandel_effect) experience as an example.\n",
    "\n",
    "It's one of the simplest experiments and yet it is very useful.\n",
    "\n",
    "Using two indistinguishable photons, one in each mode, enter one balanced beamsplitter $BS=\\frac{1}{\\sqrt{2}} \\left[\\begin{matrix}1 & 1\\\\1& -1\\end{matrix}\\right]$, we expect the outcome to be:\n",
    "\n",
    "$$|1,1\\rangle \\mapsto \\frac{|2,0\\rangle - |0,2\\rangle}{\\sqrt{2}}$$\n",
    "\n",
    "If the two photons are completely distinguishable, then we expect the two photons to have independent journey through the beamsplitter thus generating 3 possible states $|2,0\\rangle$ and $|0,2\\rangle$ with 25% probability each and $|1,1\\rangle$ with 50% chance probability.\n",
    "\n",
    "<img src=\"img/indistinguishability.png\" width=50%>\n",
    "\n",
    "We will show how to verify this in the next steps using the different backends and tools available in Perceval."
   ]
  },
  {
   "cell_type": "code",
   "execution_count": 44,
   "id": "11973977-eb3d-402a-9930-c7fefc734956",
   "metadata": {},
   "outputs": [
    {
     "data": {
      "image/svg+xml": [
       "<?xml version=\"1.0\" encoding=\"UTF-8\"?>\n",
       "<svg xmlns=\"http://www.w3.org/2000/svg\" xmlns:xlink=\"http://www.w3.org/1999/xlink\"\n",
       "     width=\"257.5\" height=\"156.25\" viewBox=\"-28.0 0 206.0 125.0\">\n",
       "<defs>\n",
       "</defs>\n",
       "<path d=\"M10,25.0 L25,25.0\" stroke-width=\"3\" stroke=\"darkred\" stroke-linejoin=\"miter\" fill=\"none\" />\n",
       "<path d=\"M10,75.0 L25,75.0\" stroke-width=\"3\" stroke=\"darkred\" stroke-linejoin=\"miter\" fill=\"none\" />\n",
       "<path d=\"M25,25 L53,25 L72,44\" stroke=\"darkred\" stroke-width=\"3\" fill=\"none\" />\n",
       "<path d=\"M78,44 L97,25 L125,25\" stroke=\"darkred\" stroke-width=\"3\" fill=\"none\" />\n",
       "<path d=\"M25,75 L53,75 L72,56\" stroke=\"darkred\" stroke-width=\"3\" fill=\"none\" />\n",
       "<path d=\"M78,56 L97,75 L125,75\" stroke=\"darkred\" stroke-width=\"3\" fill=\"none\" />\n",
       "<path d=\"M50,43 L100,43 L100,57 L50,57 Z\" stroke=\"black\" fill=\"black\" stroke-linejoin=\"miter\" />\n",
       "<text x=\"75\" y=\"85\" font-size=\"7\" text-anchor=\"middle\"></text>\n",
       "<text x=\"75\" y=\"26\" font-size=\"7\" text-anchor=\"middle\"></text>\n",
       "<path d=\"M50,43 L100,43 L100,47 L50,47 Z\" stroke=\"black\" fill=\"lightgray\" stroke-linejoin=\"miter\" />\n",
       "<path d=\"M93,50 L103,50 L103,60 L93,60 Z\" stroke=\"black\" fill=\"aquamarine\" stroke-linejoin=\"miter\" />\n",
       "<text x=\"98\" y=\"57\" font-size=\"6\" text-anchor=\"middle\">H</text>\n",
       "<path d=\"M125,25.0 L140,25.0\" stroke-width=\"3\" stroke=\"darkred\" stroke-linejoin=\"miter\" fill=\"none\" />\n",
       "<path d=\"M125,75.0 L140,75.0\" stroke-width=\"3\" stroke=\"darkred\" stroke-linejoin=\"miter\" fill=\"none\" />\n",
       "<text x=\"150\" y=\"28.0\" font-size=\"6\" text-anchor=\"end\">0</text>\n",
       "<text x=\"150\" y=\"78.0\" font-size=\"6\" text-anchor=\"end\">1</text>\n",
       "<text x=\"0\" y=\"28.0\" font-size=\"6\" text-anchor=\"start\">0</text>\n",
       "<text x=\"0\" y=\"78.0\" font-size=\"6\" text-anchor=\"start\">1</text>\n",
       "</svg>"
      ],
      "text/plain": [
       "<drawsvg.drawing.Drawing at 0x162001290>"
      ]
     },
     "execution_count": 44,
     "metadata": {},
     "output_type": "execute_result"
    }
   ],
   "source": [
    "# The circuit is simply the following\n",
    "circuit_hom = pcvl.Circuit(2) // pcvl_comp.BS.H()\n",
    "pcvl.pdisplay(circuit_hom)"
   ]
  },
  {
   "cell_type": "markdown",
   "id": "79d48605",
   "metadata": {},
   "source": [
    "## Using Backends\n",
    "Backends are the computation primitive as defined here: <a src=\"https://perceval.quandela.net/docs/backends.html\">https://perceval.quandela.net/docs/backends.html</a>.\n",
    "\n",
    "Backends may implement the following method:\n",
    "* `prob_amplitude` and `probability` - only for strong simulation\n",
    "* `sample` - only for weak simulation `CliffordClifford2017`\n",
    "#### Getting probability distribution or samples with computing backend"
   ]
  },
  {
   "cell_type": "code",
   "execution_count": 45,
   "id": "32c6c38c",
   "metadata": {},
   "outputs": [
    {
     "name": "stdout",
     "output_type": "stream",
     "text": [
      "---- Naive backend\n",
      "\tprob_ampli(|0,2>)=-sqrt(2)/2\tprob(|0,2>)=1/2\n",
      "\tprob_ampli(|1,1>)=0         \tprob(|1,1>)=0\n",
      "\tprob_ampli(|2,0>)=sqrt(2)/2 \tprob(|2,0>)=1/2\n",
      "\t10 samples=N/A\n",
      "---- SLOS backend\n",
      "\tprob_ampli(|0,2>)=-sqrt(2)/2\tprob(|0,2>)=1/2\n",
      "\tprob_ampli(|1,1>)=0         \tprob(|1,1>)=0\n",
      "\tprob_ampli(|2,0>)=sqrt(2)/2 \tprob(|2,0>)=1/2\n",
      "\t10 samples=N/A\n",
      "---- CliffordClifford2017 backend\n",
      "\tprob_ampli(|0,2>)=N/A       \tprob(|0,2>)=N/A\n",
      "\tprob_ampli(|1,1>)=N/A       \tprob(|1,1>)=N/A\n",
      "\tprob_ampli(|2,0>)=N/A       \tprob(|2,0>)=N/A\n",
      "\t10 samples=[|0,2>, |2,0>, |0,2>, |2,0>, |2,0>, |2,0>, |2,0>, |0,2>, |2,0>, |2,0>]\n"
     ]
    }
   ],
   "source": [
    "for backend_name in [\"Naive\", \"SLOS\", \"CliffordClifford2017\"]:\n",
    "    backend = pcvl.BackendFactory.get_backend(backend_name)\n",
    "    backend.set_circuit(circuit_hom)\n",
    "    backend.set_input_state(pcvl.BasicState([1,1]))\n",
    "    print(\"----\", backend_name, \"backend\")\n",
    "    all_states = [pcvl.BasicState([0,2]), pcvl.BasicState([1,1]), pcvl.BasicState([2,0])]\n",
    "    for bs in all_states:\n",
    "        try:\n",
    "            print(f\"\\tprob_ampli({bs})={pcvl.simple_complex(backend.prob_amplitude(bs))[1]:10}\\tprob({bs})={pcvl.simple_float(backend.probability(bs))[1]}\")\n",
    "        except:\n",
    "            print(f\"\\tprob_ampli({bs})={'N/A':10}\\tprob({bs})=N/A\")\n",
    "    try:\n",
    "        samples = [backend.sample() for _ in range(10)]\n",
    "    except:\n",
    "        samples = \"N/A\"\n",
    "    print(f\"\\t10 samples={samples}\")"
   ]
  },
  {
   "cell_type": "markdown",
   "id": "a0d34b45",
   "metadata": {},
   "source": [
    "#### Getting State Vector with Stepper\n",
    "\n",
    "While a backend is applying a circuit as a whole and produce probability amplitudes from which we can build output state vectors, or sample list, there are some cases, where we want to direct see the evolution of a state vector through individual components of a circuit - in such case, we will be using a new concept: the \"stepper\". This is an elegant operation, but it obviously does not scale, since the number of components of a state vector grows exponentially with the number of modes/photons. However, for small circuit, it gives a very simple debugging tool."
   ]
  },
  {
   "cell_type": "code",
   "execution_count": 46,
   "id": "71a29e8e",
   "metadata": {},
   "outputs": [
    {
     "name": "stdout",
     "output_type": "stream",
     "text": [
      "final state vector -0.707*|0,2>+0.707*|2,0>\n"
     ]
    }
   ],
   "source": [
    "stepper = pcvl.simulators.Stepper(pcvl.backends.SLOSBackend())\n",
    "stepper.set_circuit(circuit_hom)\n",
    "sv = pcvl.StateVector([1,1])\n",
    "\n",
    "# we make the state vector evolve through all components of the circuit - here there is only one component\n",
    "for r, c in circuit_hom:\n",
    "    sv = stepper.apply(sv, r, c)\n",
    "\n",
    "print(\"final state vector\", sv)"
   ]
  },
  {
   "cell_type": "markdown",
   "id": "eba28e41",
   "metadata": {},
   "source": [
    "## Using Processors\n",
    "\n",
    "Backends give access to the mathematical primitives allowing to simulate evolution of a states through a circuit. However, it does not really illustrate what one would directly get from an hardware QPU - only able to produce sequence of \"samples\". For that, we use the concept of `Processor`.\n",
    "\n",
    "A processor can be using a local backend, or use a remote processor available on the cloud.\n",
    "\n",
    "In this section, we show how we can use a Processor to get closer to actual hardware programming, also taking into account a real source, threshold detector, circuit loss, ... \n",
    "\n",
    "### Sampling with Processor"
   ]
  },
  {
   "cell_type": "code",
   "execution_count": 47,
   "id": "ab476bc5",
   "metadata": {},
   "outputs": [
    {
     "name": "stdout",
     "output_type": "stream",
     "text": [
      "{\n",
      "  |0,2>: 498\n",
      "  |2,0>: 502\n",
      "}\n"
     ]
    }
   ],
   "source": [
    "p = pcvl.Processor(\"SLOS\", circuit_hom)\n",
    "p.with_input(pcvl.BasicState([1,1]))\n",
    "\n",
    "# The sampler holds 'probs', 'sample_count' and 'samples' calls. You can use the one that fits your needs!\n",
    "sampler = pcvl.algorithm.Sampler(p)  \n",
    "sample_count = sampler.sample_count(1000)\n",
    "print(sample_count['results'])"
   ]
  },
  {
   "cell_type": "markdown",
   "id": "bab18ad3",
   "metadata": {},
   "source": [
    "### Using Analyzer algorithm\n",
    "\n",
    "Processor gives access to a variety of algorithms allowing to analyze results "
   ]
  },
  {
   "cell_type": "code",
   "execution_count": 48,
   "id": "40aa46ec",
   "metadata": {},
   "outputs": [
    {
     "data": {
      "text/html": [
       "<table>\n",
       "<thead>\n",
       "<tr><th>     </th><th>|0,2&gt;  </th><th>|1,1&gt;  </th><th>|2,0&gt;  </th></tr>\n",
       "</thead>\n",
       "<tbody>\n",
       "<tr><td>|0,2&gt;</td><td>1/4    </td><td>1/2    </td><td>1/4    </td></tr>\n",
       "<tr><td>|1,1&gt;</td><td>1/2    </td><td>0      </td><td>1/2    </td></tr>\n",
       "<tr><td>|2,0&gt;</td><td>1/4    </td><td>1/2    </td><td>1/4    </td></tr>\n",
       "</tbody>\n",
       "</table>"
      ],
      "text/plain": [
       "<IPython.core.display.HTML object>"
      ]
     },
     "metadata": {},
     "output_type": "display_data"
    }
   ],
   "source": [
    "# built-in Analyzer algorithm is building the \"truth-table\" of a circuit - ie the probability distribution of output states given a list of input_states\n",
    "p = pcvl.Processor(\"Naive\", circuit_hom)\n",
    "analyzer = pcvl.algorithm.Analyzer(p, all_states, all_states)\n",
    "pcvl.pdisplay(analyzer)"
   ]
  },
  {
   "cell_type": "markdown",
   "id": "43f337ef",
   "metadata": {},
   "source": [
    "## Sampling on a random unitary\n"
   ]
  },
  {
   "cell_type": "code",
   "execution_count": 49,
   "id": "c6bb7974",
   "metadata": {},
   "outputs": [
    {
     "name": "stdout",
     "output_type": "stream",
     "text": [
      "{\n",
      "  |0,0,2>: 1188\n",
      "  |1,1,0>: 2423\n",
      "  |2,0,0>: 516\n",
      "  |0,1,1>: 696\n",
      "  |0,2,0>: 3279\n",
      "  |1,0,1>: 1898\n",
      "}\n"
     ]
    }
   ],
   "source": [
    "# Let us do the same for the random 3x3 matrix with 2 photon inputs on mode 0 and 1\n",
    "\n",
    "randU=pcvl.Unitary(pcvl.Matrix.random_unitary(3))   \n",
    "input=pcvl.BasicState([1,1,0])\n",
    "\n",
    "# Define processor and input\n",
    "\n",
    "### ENTER CODE HERE\n",
    "p=pcvl.Processor(\"CliffordClifford2017\",randU)\n",
    "p.with_input(pcvl.BasicState([1,1,0]))\n",
    "### END CODE\n",
    "\n",
    "sampler = pcvl.algorithm.Sampler(p)  \n",
    "sample_count = sampler.sample_count(10000)\n",
    "print(sample_count['results'])\n",
    "\n",
    "## Question: how many states do we have for 3 modes and 2 photons?\n",
    "## There are 6 different states\n",
    "\n",
    "\n",
    "## Question : how many states do we have for m modes and n photons? \n",
    "## There are m+n-1 choose n different states. Cf Bar and Star problems."
   ]
  },
  {
   "cell_type": "markdown",
   "id": "25bafee4-e4c6-43e7-9a33-e2f28e66704e",
   "metadata": {},
   "source": [
    "Note : to approximate with decent precision a distribution over $M$ different states, we would need $M^2$ samples. This can be shown by [Hoeffding's inequality](https://en.wikipedia.org/wiki/Hoeffding%27s_inequality). "
   ]
  },
  {
   "cell_type": "markdown",
   "id": "bef29bcb-bdd1-4932-ab0e-c52e47329438",
   "metadata": {},
   "source": [
    "## Sampling with real world source\n",
    "\n",
    "In the precedent cells, we have simulated a quantum processor using a perfect source, `Processor` initialization takes a third parameter which is a `Source` object as defined above"
   ]
  },
  {
   "cell_type": "code",
   "execution_count": 50,
   "id": "60750d77-12d4-4a7f-866a-fea687c98694",
   "metadata": {},
   "outputs": [
    {
     "name": "stdout",
     "output_type": "stream",
     "text": [
      "{\n",
      "  |0,0,1>: 220\n",
      "  |0,1,0>: 451\n",
      "  |0,0,0>: 9068\n",
      "  |0,1,1>: 2\n",
      "  |1,0,1>: 6\n",
      "  |1,1,0>: 6\n",
      "  |1,0,0>: 244\n",
      "  |0,0,2>: 3\n",
      "}\n"
     ]
    }
   ],
   "source": [
    "# Run the sampling again on the random unitary, but setting a real world source - compare the results\n",
    "\n",
    "### ENTER CODE HERE\n",
    "noise_model = pcvl.NoiseModel(indistinguishability=0.9, g2=0.04,  transmittance=0.05)\n",
    "p = pcvl.Processor('SLOS', randU, noise=noise_model)\n",
    "p.min_detected_photons_filter(0)  # Do not filter out any output state\n",
    "p.with_input(input)\n",
    "### END CODE\n",
    "\n",
    "sampler_realworld = pcvl.algorithm.Sampler(p)  \n",
    "sample_count_realworld = sampler_realworld.sample_count(10000)\n",
    "\n",
    "print(sample_count_realworld['results'])"
   ]
  },
  {
   "cell_type": "markdown",
   "id": "23a13ef2",
   "metadata": {},
   "source": [
    "<div class=\"alert alert-warning\">\n",
    "Most of the sample we get have less than 2 photons! It is normal since we are using a photon source in high-loss regime, but this is clearly ruining our statistics\n",
    "</div>"
   ]
  },
  {
   "cell_type": "markdown",
   "id": "78bb856a",
   "metadata": {},
   "source": [
    "### Using real world source and threshold detector\n",
    "\n",
    "So far, we supposed that we could make a difference in the difference between 1 and 2 photons when measuring output states. This is not for granted: a \"normal\" SNSPD detector is called \"Threshold detector\" and will only be able to make a difference and more photons. Ideal detector is in contrast called \"Photon Number Resolving\" (PNR). Let suppose that we have real world detectors."
   ]
  },
  {
   "cell_type": "code",
   "execution_count": 51,
   "id": "13d2f4ca",
   "metadata": {},
   "outputs": [
    {
     "name": "stdout",
     "output_type": "stream",
     "text": [
      "[warning] DeprecationWarning: Call to deprecated function (or staticmethod) thresholded_output. (Add detectors as components) -- Deprecated since version 0.12\n",
      "{\n",
      "  |0,0,1>: 230\n",
      "  |0,1,0>: 492\n",
      "  |1,0,1>: 3\n",
      "  |1,1,0>: 6\n",
      "  |1,0,0>: 254\n",
      "  |0,1,1>: 3\n",
      "  |0,0,0>: 9012\n",
      "}\n"
     ]
    }
   ],
   "source": [
    "# we simulate detector unable to make a difference between 1 and more photons\n",
    "p.thresholded_output(1)\n",
    "\n",
    "sampler_realworld_2 = pcvl.algorithm.Sampler(p)  \n",
    "sample_count_realworld_2 = sampler_realworld_2.sample_count(10000)\n",
    "print(sample_count_realworld_2['results'])"
   ]
  },
  {
   "cell_type": "markdown",
   "id": "6d4162ff",
   "metadata": {},
   "source": [
    "<div class=\"alert alert-info\">\n",
    "As expected, we don't have anymore information about states with 2 photon in the same mode - for now, it is the same than observing 1 photon. \n",
    "</div>\n",
    "\n",
    "Let us see how all of that impacts the HOM experiment..."
   ]
  },
  {
   "cell_type": "code",
   "execution_count": 52,
   "id": "c16ff6c4",
   "metadata": {},
   "outputs": [
    {
     "name": "stdout",
     "output_type": "stream",
     "text": [
      "[warning] DeprecationWarning: Call to deprecated function (or staticmethod) thresholded_output. (Add detectors as components) -- Deprecated since version 0.12\n",
      "[warning] DeprecationWarning: Call to deprecated function (or staticmethod) thresholded_output. (Add detectors as components) -- Deprecated since version 0.12\n",
      "[warning] DeprecationWarning: Call to deprecated function (or staticmethod) thresholded_output. (Add detectors as components) -- Deprecated since version 0.12\n",
      "[warning] DeprecationWarning: Call to deprecated function (or staticmethod) thresholded_output. (Add detectors as components) -- Deprecated since version 0.12\n",
      "[warning] DeprecationWarning: Call to deprecated function (or staticmethod) thresholded_output. (Add detectors as components) -- Deprecated since version 0.12\n",
      "[warning] DeprecationWarning: Call to deprecated function (or staticmethod) thresholded_output. (Add detectors as components) -- Deprecated since version 0.12\n",
      "[warning] DeprecationWarning: Call to deprecated function (or staticmethod) thresholded_output. (Add detectors as components) -- Deprecated since version 0.12\n",
      "[warning] DeprecationWarning: Call to deprecated function (or staticmethod) thresholded_output. (Add detectors as components) -- Deprecated since version 0.12\n",
      "[warning] DeprecationWarning: Call to deprecated function (or staticmethod) thresholded_output. (Add detectors as components) -- Deprecated since version 0.12\n",
      "[warning] DeprecationWarning: Call to deprecated function (or staticmethod) thresholded_output. (Add detectors as components) -- Deprecated since version 0.12\n",
      "[warning] DeprecationWarning: Call to deprecated function (or staticmethod) thresholded_output. (Add detectors as components) -- Deprecated since version 0.12\n",
      "[warning] DeprecationWarning: Call to deprecated function (or staticmethod) thresholded_output. (Add detectors as components) -- Deprecated since version 0.12\n",
      "[warning] DeprecationWarning: Call to deprecated function (or staticmethod) thresholded_output. (Add detectors as components) -- Deprecated since version 0.12\n",
      "[warning] DeprecationWarning: Call to deprecated function (or staticmethod) thresholded_output. (Add detectors as components) -- Deprecated since version 0.12\n",
      "[warning] DeprecationWarning: Call to deprecated function (or staticmethod) thresholded_output. (Add detectors as components) -- Deprecated since version 0.12\n",
      "[warning] DeprecationWarning: Call to deprecated function (or staticmethod) thresholded_output. (Add detectors as components) -- Deprecated since version 0.12\n",
      "[warning] DeprecationWarning: Call to deprecated function (or staticmethod) thresholded_output. (Add detectors as components) -- Deprecated since version 0.12\n",
      "[warning] DeprecationWarning: Call to deprecated function (or staticmethod) thresholded_output. (Add detectors as components) -- Deprecated since version 0.12\n",
      "[warning] DeprecationWarning: Call to deprecated function (or staticmethod) thresholded_output. (Add detectors as components) -- Deprecated since version 0.12\n",
      "[warning] DeprecationWarning: Call to deprecated function (or staticmethod) thresholded_output. (Add detectors as components) -- Deprecated since version 0.12\n",
      "[warning] DeprecationWarning: Call to deprecated function (or staticmethod) thresholded_output. (Add detectors as components) -- Deprecated since version 0.12\n",
      "[warning] DeprecationWarning: Call to deprecated function (or staticmethod) thresholded_output. (Add detectors as components) -- Deprecated since version 0.12\n",
      "[warning] DeprecationWarning: Call to deprecated function (or staticmethod) thresholded_output. (Add detectors as components) -- Deprecated since version 0.12\n",
      "[warning] DeprecationWarning: Call to deprecated function (or staticmethod) thresholded_output. (Add detectors as components) -- Deprecated since version 0.12\n",
      "[warning] DeprecationWarning: Call to deprecated function (or staticmethod) thresholded_output. (Add detectors as components) -- Deprecated since version 0.12\n",
      "[warning] DeprecationWarning: Call to deprecated function (or staticmethod) thresholded_output. (Add detectors as components) -- Deprecated since version 0.12\n",
      "[warning] DeprecationWarning: Call to deprecated function (or staticmethod) thresholded_output. (Add detectors as components) -- Deprecated since version 0.12\n",
      "[warning] DeprecationWarning: Call to deprecated function (or staticmethod) thresholded_output. (Add detectors as components) -- Deprecated since version 0.12\n",
      "[warning] DeprecationWarning: Call to deprecated function (or staticmethod) thresholded_output. (Add detectors as components) -- Deprecated since version 0.12\n",
      "[warning] DeprecationWarning: Call to deprecated function (or staticmethod) thresholded_output. (Add detectors as components) -- Deprecated since version 0.12\n",
      "[warning] DeprecationWarning: Call to deprecated function (or staticmethod) thresholded_output. (Add detectors as components) -- Deprecated since version 0.12\n",
      "[warning] DeprecationWarning: Call to deprecated function (or staticmethod) thresholded_output. (Add detectors as components) -- Deprecated since version 0.12\n",
      "[warning] DeprecationWarning: Call to deprecated function (or staticmethod) thresholded_output. (Add detectors as components) -- Deprecated since version 0.12\n",
      "[warning] DeprecationWarning: Call to deprecated function (or staticmethod) thresholded_output. (Add detectors as components) -- Deprecated since version 0.12\n",
      "[warning] DeprecationWarning: Call to deprecated function (or staticmethod) thresholded_output. (Add detectors as components) -- Deprecated since version 0.12\n",
      "[warning] DeprecationWarning: Call to deprecated function (or staticmethod) thresholded_output. (Add detectors as components) -- Deprecated since version 0.12\n",
      "[warning] DeprecationWarning: Call to deprecated function (or staticmethod) thresholded_output. (Add detectors as components) -- Deprecated since version 0.12\n",
      "[warning] DeprecationWarning: Call to deprecated function (or staticmethod) thresholded_output. (Add detectors as components) -- Deprecated since version 0.12\n",
      "[warning] DeprecationWarning: Call to deprecated function (or staticmethod) thresholded_output. (Add detectors as components) -- Deprecated since version 0.12\n",
      "[warning] DeprecationWarning: Call to deprecated function (or staticmethod) thresholded_output. (Add detectors as components) -- Deprecated since version 0.12\n",
      "[warning] DeprecationWarning: Call to deprecated function (or staticmethod) thresholded_output. (Add detectors as components) -- Deprecated since version 0.12\n",
      "[warning] DeprecationWarning: Call to deprecated function (or staticmethod) thresholded_output. (Add detectors as components) -- Deprecated since version 0.12\n",
      "[warning] DeprecationWarning: Call to deprecated function (or staticmethod) thresholded_output. (Add detectors as components) -- Deprecated since version 0.12\n",
      "[warning] DeprecationWarning: Call to deprecated function (or staticmethod) thresholded_output. (Add detectors as components) -- Deprecated since version 0.12\n",
      "[warning] DeprecationWarning: Call to deprecated function (or staticmethod) thresholded_output. (Add detectors as components) -- Deprecated since version 0.12\n",
      "[warning] DeprecationWarning: Call to deprecated function (or staticmethod) thresholded_output. (Add detectors as components) -- Deprecated since version 0.12\n",
      "[warning] DeprecationWarning: Call to deprecated function (or staticmethod) thresholded_output. (Add detectors as components) -- Deprecated since version 0.12\n",
      "[warning] DeprecationWarning: Call to deprecated function (or staticmethod) thresholded_output. (Add detectors as components) -- Deprecated since version 0.12\n",
      "[warning] DeprecationWarning: Call to deprecated function (or staticmethod) thresholded_output. (Add detectors as components) -- Deprecated since version 0.12\n",
      "[warning] DeprecationWarning: Call to deprecated function (or staticmethod) thresholded_output. (Add detectors as components) -- Deprecated since version 0.12\n",
      "[warning] DeprecationWarning: Call to deprecated function (or staticmethod) thresholded_output. (Add detectors as components) -- Deprecated since version 0.12\n",
      "[warning] DeprecationWarning: Call to deprecated function (or staticmethod) thresholded_output. (Add detectors as components) -- Deprecated since version 0.12\n",
      "[warning] DeprecationWarning: Call to deprecated function (or staticmethod) thresholded_output. (Add detectors as components) -- Deprecated since version 0.12\n",
      "[warning] DeprecationWarning: Call to deprecated function (or staticmethod) thresholded_output. (Add detectors as components) -- Deprecated since version 0.12\n",
      "[warning] DeprecationWarning: Call to deprecated function (or staticmethod) thresholded_output. (Add detectors as components) -- Deprecated since version 0.12\n",
      "[warning] DeprecationWarning: Call to deprecated function (or staticmethod) thresholded_output. (Add detectors as components) -- Deprecated since version 0.12\n",
      "[warning] DeprecationWarning: Call to deprecated function (or staticmethod) thresholded_output. (Add detectors as components) -- Deprecated since version 0.12\n",
      "[warning] DeprecationWarning: Call to deprecated function (or staticmethod) thresholded_output. (Add detectors as components) -- Deprecated since version 0.12\n",
      "[warning] DeprecationWarning: Call to deprecated function (or staticmethod) thresholded_output. (Add detectors as components) -- Deprecated since version 0.12\n",
      "[warning] DeprecationWarning: Call to deprecated function (or staticmethod) thresholded_output. (Add detectors as components) -- Deprecated since version 0.12\n",
      "[warning] DeprecationWarning: Call to deprecated function (or staticmethod) thresholded_output. (Add detectors as components) -- Deprecated since version 0.12\n",
      "[warning] DeprecationWarning: Call to deprecated function (or staticmethod) thresholded_output. (Add detectors as components) -- Deprecated since version 0.12\n",
      "[warning] DeprecationWarning: Call to deprecated function (or staticmethod) thresholded_output. (Add detectors as components) -- Deprecated since version 0.12\n",
      "[warning] DeprecationWarning: Call to deprecated function (or staticmethod) thresholded_output. (Add detectors as components) -- Deprecated since version 0.12\n",
      "[warning] DeprecationWarning: Call to deprecated function (or staticmethod) thresholded_output. (Add detectors as components) -- Deprecated since version 0.12\n",
      "[warning] DeprecationWarning: Call to deprecated function (or staticmethod) thresholded_output. (Add detectors as components) -- Deprecated since version 0.12\n",
      "[warning] DeprecationWarning: Call to deprecated function (or staticmethod) thresholded_output. (Add detectors as components) -- Deprecated since version 0.12\n",
      "[warning] DeprecationWarning: Call to deprecated function (or staticmethod) thresholded_output. (Add detectors as components) -- Deprecated since version 0.12\n",
      "[warning] DeprecationWarning: Call to deprecated function (or staticmethod) thresholded_output. (Add detectors as components) -- Deprecated since version 0.12\n",
      "[warning] DeprecationWarning: Call to deprecated function (or staticmethod) thresholded_output. (Add detectors as components) -- Deprecated since version 0.12\n",
      "[warning] DeprecationWarning: Call to deprecated function (or staticmethod) thresholded_output. (Add detectors as components) -- Deprecated since version 0.12\n",
      "[warning] DeprecationWarning: Call to deprecated function (or staticmethod) thresholded_output. (Add detectors as components) -- Deprecated since version 0.12\n",
      "[warning] DeprecationWarning: Call to deprecated function (or staticmethod) thresholded_output. (Add detectors as components) -- Deprecated since version 0.12\n",
      "[warning] DeprecationWarning: Call to deprecated function (or staticmethod) thresholded_output. (Add detectors as components) -- Deprecated since version 0.12\n",
      "[warning] DeprecationWarning: Call to deprecated function (or staticmethod) thresholded_output. (Add detectors as components) -- Deprecated since version 0.12\n",
      "[warning] DeprecationWarning: Call to deprecated function (or staticmethod) thresholded_output. (Add detectors as components) -- Deprecated since version 0.12\n",
      "[warning] DeprecationWarning: Call to deprecated function (or staticmethod) thresholded_output. (Add detectors as components) -- Deprecated since version 0.12\n",
      "[warning] DeprecationWarning: Call to deprecated function (or staticmethod) thresholded_output. (Add detectors as components) -- Deprecated since version 0.12\n",
      "[warning] DeprecationWarning: Call to deprecated function (or staticmethod) thresholded_output. (Add detectors as components) -- Deprecated since version 0.12\n",
      "[warning] DeprecationWarning: Call to deprecated function (or staticmethod) thresholded_output. (Add detectors as components) -- Deprecated since version 0.12\n",
      "[warning] DeprecationWarning: Call to deprecated function (or staticmethod) thresholded_output. (Add detectors as components) -- Deprecated since version 0.12\n",
      "[warning] DeprecationWarning: Call to deprecated function (or staticmethod) thresholded_output. (Add detectors as components) -- Deprecated since version 0.12\n",
      "[warning] DeprecationWarning: Call to deprecated function (or staticmethod) thresholded_output. (Add detectors as components) -- Deprecated since version 0.12\n",
      "[warning] DeprecationWarning: Call to deprecated function (or staticmethod) thresholded_output. (Add detectors as components) -- Deprecated since version 0.12\n",
      "[warning] DeprecationWarning: Call to deprecated function (or staticmethod) thresholded_output. (Add detectors as components) -- Deprecated since version 0.12\n",
      "[warning] DeprecationWarning: Call to deprecated function (or staticmethod) thresholded_output. (Add detectors as components) -- Deprecated since version 0.12\n",
      "[warning] DeprecationWarning: Call to deprecated function (or staticmethod) thresholded_output. (Add detectors as components) -- Deprecated since version 0.12\n",
      "[warning] DeprecationWarning: Call to deprecated function (or staticmethod) thresholded_output. (Add detectors as components) -- Deprecated since version 0.12\n",
      "[warning] DeprecationWarning: Call to deprecated function (or staticmethod) thresholded_output. (Add detectors as components) -- Deprecated since version 0.12\n",
      "[warning] DeprecationWarning: Call to deprecated function (or staticmethod) thresholded_output. (Add detectors as components) -- Deprecated since version 0.12\n",
      "[warning] DeprecationWarning: Call to deprecated function (or staticmethod) thresholded_output. (Add detectors as components) -- Deprecated since version 0.12\n",
      "[warning] DeprecationWarning: Call to deprecated function (or staticmethod) thresholded_output. (Add detectors as components) -- Deprecated since version 0.12\n",
      "[warning] DeprecationWarning: Call to deprecated function (or staticmethod) thresholded_output. (Add detectors as components) -- Deprecated since version 0.12\n",
      "[warning] DeprecationWarning: Call to deprecated function (or staticmethod) thresholded_output. (Add detectors as components) -- Deprecated since version 0.12\n",
      "[warning] DeprecationWarning: Call to deprecated function (or staticmethod) thresholded_output. (Add detectors as components) -- Deprecated since version 0.12\n",
      "[warning] DeprecationWarning: Call to deprecated function (or staticmethod) thresholded_output. (Add detectors as components) -- Deprecated since version 0.12\n",
      "[warning] DeprecationWarning: Call to deprecated function (or staticmethod) thresholded_output. (Add detectors as components) -- Deprecated since version 0.12\n",
      "[warning] DeprecationWarning: Call to deprecated function (or staticmethod) thresholded_output. (Add detectors as components) -- Deprecated since version 0.12\n",
      "[warning] DeprecationWarning: Call to deprecated function (or staticmethod) thresholded_output. (Add detectors as components) -- Deprecated since version 0.12\n",
      "[warning] DeprecationWarning: Call to deprecated function (or staticmethod) thresholded_output. (Add detectors as components) -- Deprecated since version 0.12\n",
      "[warning] DeprecationWarning: Call to deprecated function (or staticmethod) thresholded_output. (Add detectors as components) -- Deprecated since version 0.12\n",
      "[warning] DeprecationWarning: Call to deprecated function (or staticmethod) thresholded_output. (Add detectors as components) -- Deprecated since version 0.12\n",
      "[warning] DeprecationWarning: Call to deprecated function (or staticmethod) thresholded_output. (Add detectors as components) -- Deprecated since version 0.12\n",
      "[warning] DeprecationWarning: Call to deprecated function (or staticmethod) thresholded_output. (Add detectors as components) -- Deprecated since version 0.12\n",
      "[warning] DeprecationWarning: Call to deprecated function (or staticmethod) thresholded_output. (Add detectors as components) -- Deprecated since version 0.12\n",
      "[warning] DeprecationWarning: Call to deprecated function (or staticmethod) thresholded_output. (Add detectors as components) -- Deprecated since version 0.12\n",
      "[warning] DeprecationWarning: Call to deprecated function (or staticmethod) thresholded_output. (Add detectors as components) -- Deprecated since version 0.12\n",
      "[warning] DeprecationWarning: Call to deprecated function (or staticmethod) thresholded_output. (Add detectors as components) -- Deprecated since version 0.12\n",
      "[warning] DeprecationWarning: Call to deprecated function (or staticmethod) thresholded_output. (Add detectors as components) -- Deprecated since version 0.12\n",
      "[warning] DeprecationWarning: Call to deprecated function (or staticmethod) thresholded_output. (Add detectors as components) -- Deprecated since version 0.12\n",
      "[warning] DeprecationWarning: Call to deprecated function (or staticmethod) thresholded_output. (Add detectors as components) -- Deprecated since version 0.12\n",
      "[warning] DeprecationWarning: Call to deprecated function (or staticmethod) thresholded_output. (Add detectors as components) -- Deprecated since version 0.12\n",
      "[warning] DeprecationWarning: Call to deprecated function (or staticmethod) thresholded_output. (Add detectors as components) -- Deprecated since version 0.12\n",
      "[warning] DeprecationWarning: Call to deprecated function (or staticmethod) thresholded_output. (Add detectors as components) -- Deprecated since version 0.12\n",
      "[warning] DeprecationWarning: Call to deprecated function (or staticmethod) thresholded_output. (Add detectors as components) -- Deprecated since version 0.12\n",
      "[warning] DeprecationWarning: Call to deprecated function (or staticmethod) thresholded_output. (Add detectors as components) -- Deprecated since version 0.12\n",
      "[warning] DeprecationWarning: Call to deprecated function (or staticmethod) thresholded_output. (Add detectors as components) -- Deprecated since version 0.12\n",
      "[warning] DeprecationWarning: Call to deprecated function (or staticmethod) thresholded_output. (Add detectors as components) -- Deprecated since version 0.12\n",
      "[warning] DeprecationWarning: Call to deprecated function (or staticmethod) thresholded_output. (Add detectors as components) -- Deprecated since version 0.12\n",
      "[warning] DeprecationWarning: Call to deprecated function (or staticmethod) thresholded_output. (Add detectors as components) -- Deprecated since version 0.12\n",
      "[warning] DeprecationWarning: Call to deprecated function (or staticmethod) thresholded_output. (Add detectors as components) -- Deprecated since version 0.12\n",
      "[warning] DeprecationWarning: Call to deprecated function (or staticmethod) thresholded_output. (Add detectors as components) -- Deprecated since version 0.12\n",
      "[warning] DeprecationWarning: Call to deprecated function (or staticmethod) thresholded_output. (Add detectors as components) -- Deprecated since version 0.12\n",
      "[warning] DeprecationWarning: Call to deprecated function (or staticmethod) thresholded_output. (Add detectors as components) -- Deprecated since version 0.12\n",
      "[warning] DeprecationWarning: Call to deprecated function (or staticmethod) thresholded_output. (Add detectors as components) -- Deprecated since version 0.12\n",
      "[warning] DeprecationWarning: Call to deprecated function (or staticmethod) thresholded_output. (Add detectors as components) -- Deprecated since version 0.12\n",
      "[warning] DeprecationWarning: Call to deprecated function (or staticmethod) thresholded_output. (Add detectors as components) -- Deprecated since version 0.12\n",
      "[warning] DeprecationWarning: Call to deprecated function (or staticmethod) thresholded_output. (Add detectors as components) -- Deprecated since version 0.12\n",
      "[warning] DeprecationWarning: Call to deprecated function (or staticmethod) thresholded_output. (Add detectors as components) -- Deprecated since version 0.12\n",
      "[warning] DeprecationWarning: Call to deprecated function (or staticmethod) thresholded_output. (Add detectors as components) -- Deprecated since version 0.12\n",
      "[warning] DeprecationWarning: Call to deprecated function (or staticmethod) thresholded_output. (Add detectors as components) -- Deprecated since version 0.12\n",
      "[warning] DeprecationWarning: Call to deprecated function (or staticmethod) thresholded_output. (Add detectors as components) -- Deprecated since version 0.12\n",
      "[warning] DeprecationWarning: Call to deprecated function (or staticmethod) thresholded_output. (Add detectors as components) -- Deprecated since version 0.12\n",
      "[warning] DeprecationWarning: Call to deprecated function (or staticmethod) thresholded_output. (Add detectors as components) -- Deprecated since version 0.12\n",
      "[warning] DeprecationWarning: Call to deprecated function (or staticmethod) thresholded_output. (Add detectors as components) -- Deprecated since version 0.12\n",
      "[warning] DeprecationWarning: Call to deprecated function (or staticmethod) thresholded_output. (Add detectors as components) -- Deprecated since version 0.12\n",
      "[warning] DeprecationWarning: Call to deprecated function (or staticmethod) thresholded_output. (Add detectors as components) -- Deprecated since version 0.12\n",
      "[warning] DeprecationWarning: Call to deprecated function (or staticmethod) thresholded_output. (Add detectors as components) -- Deprecated since version 0.12\n",
      "[warning] DeprecationWarning: Call to deprecated function (or staticmethod) thresholded_output. (Add detectors as components) -- Deprecated since version 0.12\n",
      "[warning] DeprecationWarning: Call to deprecated function (or staticmethod) thresholded_output. (Add detectors as components) -- Deprecated since version 0.12\n",
      "[warning] DeprecationWarning: Call to deprecated function (or staticmethod) thresholded_output. (Add detectors as components) -- Deprecated since version 0.12\n",
      "[warning] DeprecationWarning: Call to deprecated function (or staticmethod) thresholded_output. (Add detectors as components) -- Deprecated since version 0.12\n",
      "[warning] DeprecationWarning: Call to deprecated function (or staticmethod) thresholded_output. (Add detectors as components) -- Deprecated since version 0.12\n",
      "[warning] DeprecationWarning: Call to deprecated function (or staticmethod) thresholded_output. (Add detectors as components) -- Deprecated since version 0.12\n",
      "[warning] DeprecationWarning: Call to deprecated function (or staticmethod) thresholded_output. (Add detectors as components) -- Deprecated since version 0.12\n",
      "[warning] DeprecationWarning: Call to deprecated function (or staticmethod) thresholded_output. (Add detectors as components) -- Deprecated since version 0.12\n",
      "[warning] DeprecationWarning: Call to deprecated function (or staticmethod) thresholded_output. (Add detectors as components) -- Deprecated since version 0.12\n",
      "[warning] DeprecationWarning: Call to deprecated function (or staticmethod) thresholded_output. (Add detectors as components) -- Deprecated since version 0.12\n",
      "[warning] DeprecationWarning: Call to deprecated function (or staticmethod) thresholded_output. (Add detectors as components) -- Deprecated since version 0.12\n",
      "[warning] DeprecationWarning: Call to deprecated function (or staticmethod) thresholded_output. (Add detectors as components) -- Deprecated since version 0.12\n",
      "[warning] DeprecationWarning: Call to deprecated function (or staticmethod) thresholded_output. (Add detectors as components) -- Deprecated since version 0.12\n",
      "[warning] DeprecationWarning: Call to deprecated function (or staticmethod) thresholded_output. (Add detectors as components) -- Deprecated since version 0.12\n",
      "[warning] DeprecationWarning: Call to deprecated function (or staticmethod) thresholded_output. (Add detectors as components) -- Deprecated since version 0.12\n",
      "[warning] DeprecationWarning: Call to deprecated function (or staticmethod) thresholded_output. (Add detectors as components) -- Deprecated since version 0.12\n",
      "[warning] DeprecationWarning: Call to deprecated function (or staticmethod) thresholded_output. (Add detectors as components) -- Deprecated since version 0.12\n",
      "[warning] DeprecationWarning: Call to deprecated function (or staticmethod) thresholded_output. (Add detectors as components) -- Deprecated since version 0.12\n",
      "[warning] DeprecationWarning: Call to deprecated function (or staticmethod) thresholded_output. (Add detectors as components) -- Deprecated since version 0.12\n",
      "[warning] DeprecationWarning: Call to deprecated function (or staticmethod) thresholded_output. (Add detectors as components) -- Deprecated since version 0.12\n",
      "[warning] DeprecationWarning: Call to deprecated function (or staticmethod) thresholded_output. (Add detectors as components) -- Deprecated since version 0.12\n",
      "[warning] DeprecationWarning: Call to deprecated function (or staticmethod) thresholded_output. (Add detectors as components) -- Deprecated since version 0.12\n",
      "[warning] DeprecationWarning: Call to deprecated function (or staticmethod) thresholded_output. (Add detectors as components) -- Deprecated since version 0.12\n",
      "[warning] DeprecationWarning: Call to deprecated function (or staticmethod) thresholded_output. (Add detectors as components) -- Deprecated since version 0.12\n",
      "[warning] DeprecationWarning: Call to deprecated function (or staticmethod) thresholded_output. (Add detectors as components) -- Deprecated since version 0.12\n",
      "[warning] DeprecationWarning: Call to deprecated function (or staticmethod) thresholded_output. (Add detectors as components) -- Deprecated since version 0.12\n",
      "[warning] DeprecationWarning: Call to deprecated function (or staticmethod) thresholded_output. (Add detectors as components) -- Deprecated since version 0.12\n",
      "[warning] DeprecationWarning: Call to deprecated function (or staticmethod) thresholded_output. (Add detectors as components) -- Deprecated since version 0.12\n",
      "[warning] DeprecationWarning: Call to deprecated function (or staticmethod) thresholded_output. (Add detectors as components) -- Deprecated since version 0.12\n",
      "[warning] DeprecationWarning: Call to deprecated function (or staticmethod) thresholded_output. (Add detectors as components) -- Deprecated since version 0.12\n",
      "[warning] DeprecationWarning: Call to deprecated function (or staticmethod) thresholded_output. (Add detectors as components) -- Deprecated since version 0.12\n",
      "[warning] DeprecationWarning: Call to deprecated function (or staticmethod) thresholded_output. (Add detectors as components) -- Deprecated since version 0.12\n",
      "[warning] DeprecationWarning: Call to deprecated function (or staticmethod) thresholded_output. (Add detectors as components) -- Deprecated since version 0.12\n",
      "[warning] DeprecationWarning: Call to deprecated function (or staticmethod) thresholded_output. (Add detectors as components) -- Deprecated since version 0.12\n",
      "[warning] DeprecationWarning: Call to deprecated function (or staticmethod) thresholded_output. (Add detectors as components) -- Deprecated since version 0.12\n",
      "[warning] DeprecationWarning: Call to deprecated function (or staticmethod) thresholded_output. (Add detectors as components) -- Deprecated since version 0.12\n",
      "[warning] DeprecationWarning: Call to deprecated function (or staticmethod) thresholded_output. (Add detectors as components) -- Deprecated since version 0.12\n",
      "[warning] DeprecationWarning: Call to deprecated function (or staticmethod) thresholded_output. (Add detectors as components) -- Deprecated since version 0.12\n",
      "[warning] DeprecationWarning: Call to deprecated function (or staticmethod) thresholded_output. (Add detectors as components) -- Deprecated since version 0.12\n",
      "[warning] DeprecationWarning: Call to deprecated function (or staticmethod) thresholded_output. (Add detectors as components) -- Deprecated since version 0.12\n",
      "[warning] DeprecationWarning: Call to deprecated function (or staticmethod) thresholded_output. (Add detectors as components) -- Deprecated since version 0.12\n",
      "[warning] DeprecationWarning: Call to deprecated function (or staticmethod) thresholded_output. (Add detectors as components) -- Deprecated since version 0.12\n",
      "[warning] DeprecationWarning: Call to deprecated function (or staticmethod) thresholded_output. (Add detectors as components) -- Deprecated since version 0.12\n",
      "[warning] DeprecationWarning: Call to deprecated function (or staticmethod) thresholded_output. (Add detectors as components) -- Deprecated since version 0.12\n",
      "[warning] DeprecationWarning: Call to deprecated function (or staticmethod) thresholded_output. (Add detectors as components) -- Deprecated since version 0.12\n",
      "[warning] DeprecationWarning: Call to deprecated function (or staticmethod) thresholded_output. (Add detectors as components) -- Deprecated since version 0.12\n",
      "[warning] DeprecationWarning: Call to deprecated function (or staticmethod) thresholded_output. (Add detectors as components) -- Deprecated since version 0.12\n",
      "[warning] DeprecationWarning: Call to deprecated function (or staticmethod) thresholded_output. (Add detectors as components) -- Deprecated since version 0.12\n",
      "[warning] DeprecationWarning: Call to deprecated function (or staticmethod) thresholded_output. (Add detectors as components) -- Deprecated since version 0.12\n",
      "[warning] DeprecationWarning: Call to deprecated function (or staticmethod) thresholded_output. (Add detectors as components) -- Deprecated since version 0.12\n",
      "[warning] DeprecationWarning: Call to deprecated function (or staticmethod) thresholded_output. (Add detectors as components) -- Deprecated since version 0.12\n",
      "[warning] DeprecationWarning: Call to deprecated function (or staticmethod) thresholded_output. (Add detectors as components) -- Deprecated since version 0.12\n",
      "[warning] DeprecationWarning: Call to deprecated function (or staticmethod) thresholded_output. (Add detectors as components) -- Deprecated since version 0.12\n",
      "[warning] DeprecationWarning: Call to deprecated function (or staticmethod) thresholded_output. (Add detectors as components) -- Deprecated since version 0.12\n",
      "[warning] DeprecationWarning: Call to deprecated function (or staticmethod) thresholded_output. (Add detectors as components) -- Deprecated since version 0.12\n",
      "[warning] DeprecationWarning: Call to deprecated function (or staticmethod) thresholded_output. (Add detectors as components) -- Deprecated since version 0.12\n",
      "[warning] DeprecationWarning: Call to deprecated function (or staticmethod) thresholded_output. (Add detectors as components) -- Deprecated since version 0.12\n",
      "[warning] DeprecationWarning: Call to deprecated function (or staticmethod) thresholded_output. (Add detectors as components) -- Deprecated since version 0.12\n",
      "[warning] DeprecationWarning: Call to deprecated function (or staticmethod) thresholded_output. (Add detectors as components) -- Deprecated since version 0.12\n",
      "[warning] DeprecationWarning: Call to deprecated function (or staticmethod) thresholded_output. (Add detectors as components) -- Deprecated since version 0.12\n",
      "[warning] DeprecationWarning: Call to deprecated function (or staticmethod) thresholded_output. (Add detectors as components) -- Deprecated since version 0.12\n",
      "[warning] DeprecationWarning: Call to deprecated function (or staticmethod) thresholded_output. (Add detectors as components) -- Deprecated since version 0.12\n",
      "[warning] DeprecationWarning: Call to deprecated function (or staticmethod) thresholded_output. (Add detectors as components) -- Deprecated since version 0.12\n",
      "[warning] DeprecationWarning: Call to deprecated function (or staticmethod) thresholded_output. (Add detectors as components) -- Deprecated since version 0.12\n",
      "[warning] DeprecationWarning: Call to deprecated function (or staticmethod) thresholded_output. (Add detectors as components) -- Deprecated since version 0.12\n",
      "[warning] DeprecationWarning: Call to deprecated function (or staticmethod) thresholded_output. (Add detectors as components) -- Deprecated since version 0.12\n",
      "[warning] DeprecationWarning: Call to deprecated function (or staticmethod) thresholded_output. (Add detectors as components) -- Deprecated since version 0.12\n",
      "[warning] DeprecationWarning: Call to deprecated function (or staticmethod) thresholded_output. (Add detectors as components) -- Deprecated since version 0.12\n",
      "[warning] DeprecationWarning: Call to deprecated function (or staticmethod) thresholded_output. (Add detectors as components) -- Deprecated since version 0.12\n",
      "[warning] DeprecationWarning: Call to deprecated function (or staticmethod) thresholded_output. (Add detectors as components) -- Deprecated since version 0.12\n",
      "[warning] DeprecationWarning: Call to deprecated function (or staticmethod) thresholded_output. (Add detectors as components) -- Deprecated since version 0.12\n",
      "[warning] DeprecationWarning: Call to deprecated function (or staticmethod) thresholded_output. (Add detectors as components) -- Deprecated since version 0.12\n",
      "[warning] DeprecationWarning: Call to deprecated function (or staticmethod) thresholded_output. (Add detectors as components) -- Deprecated since version 0.12\n",
      "[warning] DeprecationWarning: Call to deprecated function (or staticmethod) thresholded_output. (Add detectors as components) -- Deprecated since version 0.12\n",
      "[warning] DeprecationWarning: Call to deprecated function (or staticmethod) thresholded_output. (Add detectors as components) -- Deprecated since version 0.12\n",
      "[warning] DeprecationWarning: Call to deprecated function (or staticmethod) thresholded_output. (Add detectors as components) -- Deprecated since version 0.12\n",
      "[warning] DeprecationWarning: Call to deprecated function (or staticmethod) thresholded_output. (Add detectors as components) -- Deprecated since version 0.12\n",
      "[warning] DeprecationWarning: Call to deprecated function (or staticmethod) thresholded_output. (Add detectors as components) -- Deprecated since version 0.12\n",
      "[warning] DeprecationWarning: Call to deprecated function (or staticmethod) thresholded_output. (Add detectors as components) -- Deprecated since version 0.12\n",
      "[warning] DeprecationWarning: Call to deprecated function (or staticmethod) thresholded_output. (Add detectors as components) -- Deprecated since version 0.12\n",
      "[warning] DeprecationWarning: Call to deprecated function (or staticmethod) thresholded_output. (Add detectors as components) -- Deprecated since version 0.12\n",
      "[warning] DeprecationWarning: Call to deprecated function (or staticmethod) thresholded_output. (Add detectors as components) -- Deprecated since version 0.12\n",
      "[warning] DeprecationWarning: Call to deprecated function (or staticmethod) thresholded_output. (Add detectors as components) -- Deprecated since version 0.12\n",
      "[warning] DeprecationWarning: Call to deprecated function (or staticmethod) thresholded_output. (Add detectors as components) -- Deprecated since version 0.12\n",
      "[warning] DeprecationWarning: Call to deprecated function (or staticmethod) thresholded_output. (Add detectors as components) -- Deprecated since version 0.12\n",
      "[warning] DeprecationWarning: Call to deprecated function (or staticmethod) thresholded_output. (Add detectors as components) -- Deprecated since version 0.12\n",
      "[warning] DeprecationWarning: Call to deprecated function (or staticmethod) thresholded_output. (Add detectors as components) -- Deprecated since version 0.12\n",
      "[warning] DeprecationWarning: Call to deprecated function (or staticmethod) thresholded_output. (Add detectors as components) -- Deprecated since version 0.12\n",
      "[warning] DeprecationWarning: Call to deprecated function (or staticmethod) thresholded_output. (Add detectors as components) -- Deprecated since version 0.12\n",
      "[warning] DeprecationWarning: Call to deprecated function (or staticmethod) thresholded_output. (Add detectors as components) -- Deprecated since version 0.12\n",
      "[warning] DeprecationWarning: Call to deprecated function (or staticmethod) thresholded_output. (Add detectors as components) -- Deprecated since version 0.12\n",
      "[warning] DeprecationWarning: Call to deprecated function (or staticmethod) thresholded_output. (Add detectors as components) -- Deprecated since version 0.12\n",
      "[warning] DeprecationWarning: Call to deprecated function (or staticmethod) thresholded_output. (Add detectors as components) -- Deprecated since version 0.12\n",
      "[warning] DeprecationWarning: Call to deprecated function (or staticmethod) thresholded_output. (Add detectors as components) -- Deprecated since version 0.12\n",
      "[warning] DeprecationWarning: Call to deprecated function (or staticmethod) thresholded_output. (Add detectors as components) -- Deprecated since version 0.12\n",
      "[warning] DeprecationWarning: Call to deprecated function (or staticmethod) thresholded_output. (Add detectors as components) -- Deprecated since version 0.12\n",
      "[warning] DeprecationWarning: Call to deprecated function (or staticmethod) thresholded_output. (Add detectors as components) -- Deprecated since version 0.12\n",
      "[warning] DeprecationWarning: Call to deprecated function (or staticmethod) thresholded_output. (Add detectors as components) -- Deprecated since version 0.12\n",
      "[warning] DeprecationWarning: Call to deprecated function (or staticmethod) thresholded_output. (Add detectors as components) -- Deprecated since version 0.12\n",
      "[warning] DeprecationWarning: Call to deprecated function (or staticmethod) thresholded_output. (Add detectors as components) -- Deprecated since version 0.12\n",
      "[warning] DeprecationWarning: Call to deprecated function (or staticmethod) thresholded_output. (Add detectors as components) -- Deprecated since version 0.12\n",
      "[warning] DeprecationWarning: Call to deprecated function (or staticmethod) thresholded_output. (Add detectors as components) -- Deprecated since version 0.12\n",
      "[warning] DeprecationWarning: Call to deprecated function (or staticmethod) thresholded_output. (Add detectors as components) -- Deprecated since version 0.12\n",
      "[warning] DeprecationWarning: Call to deprecated function (or staticmethod) thresholded_output. (Add detectors as components) -- Deprecated since version 0.12\n",
      "[warning] DeprecationWarning: Call to deprecated function (or staticmethod) thresholded_output. (Add detectors as components) -- Deprecated since version 0.12\n",
      "[warning] DeprecationWarning: Call to deprecated function (or staticmethod) thresholded_output. (Add detectors as components) -- Deprecated since version 0.12\n",
      "[warning] DeprecationWarning: Call to deprecated function (or staticmethod) thresholded_output. (Add detectors as components) -- Deprecated since version 0.12\n",
      "[warning] DeprecationWarning: Call to deprecated function (or staticmethod) thresholded_output. (Add detectors as components) -- Deprecated since version 0.12\n",
      "[warning] DeprecationWarning: Call to deprecated function (or staticmethod) thresholded_output. (Add detectors as components) -- Deprecated since version 0.12\n",
      "[warning] DeprecationWarning: Call to deprecated function (or staticmethod) thresholded_output. (Add detectors as components) -- Deprecated since version 0.12\n",
      "[warning] DeprecationWarning: Call to deprecated function (or staticmethod) thresholded_output. (Add detectors as components) -- Deprecated since version 0.12\n",
      "[warning] DeprecationWarning: Call to deprecated function (or staticmethod) thresholded_output. (Add detectors as components) -- Deprecated since version 0.12\n",
      "[warning] DeprecationWarning: Call to deprecated function (or staticmethod) thresholded_output. (Add detectors as components) -- Deprecated since version 0.12\n",
      "[warning] DeprecationWarning: Call to deprecated function (or staticmethod) thresholded_output. (Add detectors as components) -- Deprecated since version 0.12\n",
      "[warning] DeprecationWarning: Call to deprecated function (or staticmethod) thresholded_output. (Add detectors as components) -- Deprecated since version 0.12\n",
      "[warning] DeprecationWarning: Call to deprecated function (or staticmethod) thresholded_output. (Add detectors as components) -- Deprecated since version 0.12\n",
      "[warning] DeprecationWarning: Call to deprecated function (or staticmethod) thresholded_output. (Add detectors as components) -- Deprecated since version 0.12\n",
      "[warning] DeprecationWarning: Call to deprecated function (or staticmethod) thresholded_output. (Add detectors as components) -- Deprecated since version 0.12\n",
      "[warning] DeprecationWarning: Call to deprecated function (or staticmethod) thresholded_output. (Add detectors as components) -- Deprecated since version 0.12\n",
      "[warning] DeprecationWarning: Call to deprecated function (or staticmethod) thresholded_output. (Add detectors as components) -- Deprecated since version 0.12\n",
      "[warning] DeprecationWarning: Call to deprecated function (or staticmethod) thresholded_output. (Add detectors as components) -- Deprecated since version 0.12\n",
      "[warning] DeprecationWarning: Call to deprecated function (or staticmethod) thresholded_output. (Add detectors as components) -- Deprecated since version 0.12\n",
      "[warning] DeprecationWarning: Call to deprecated function (or staticmethod) thresholded_output. (Add detectors as components) -- Deprecated since version 0.12\n",
      "[warning] DeprecationWarning: Call to deprecated function (or staticmethod) thresholded_output. (Add detectors as components) -- Deprecated since version 0.12\n",
      "[warning] DeprecationWarning: Call to deprecated function (or staticmethod) thresholded_output. (Add detectors as components) -- Deprecated since version 0.12\n",
      "[warning] DeprecationWarning: Call to deprecated function (or staticmethod) thresholded_output. (Add detectors as components) -- Deprecated since version 0.12\n",
      "[warning] DeprecationWarning: Call to deprecated function (or staticmethod) thresholded_output. (Add detectors as components) -- Deprecated since version 0.12\n",
      "[warning] DeprecationWarning: Call to deprecated function (or staticmethod) thresholded_output. (Add detectors as components) -- Deprecated since version 0.12\n",
      "[warning] DeprecationWarning: Call to deprecated function (or staticmethod) thresholded_output. (Add detectors as components) -- Deprecated since version 0.12\n",
      "[warning] DeprecationWarning: Call to deprecated function (or staticmethod) thresholded_output. (Add detectors as components) -- Deprecated since version 0.12\n",
      "[warning] DeprecationWarning: Call to deprecated function (or staticmethod) thresholded_output. (Add detectors as components) -- Deprecated since version 0.12\n",
      "[warning] DeprecationWarning: Call to deprecated function (or staticmethod) thresholded_output. (Add detectors as components) -- Deprecated since version 0.12\n",
      "[warning] DeprecationWarning: Call to deprecated function (or staticmethod) thresholded_output. (Add detectors as components) -- Deprecated since version 0.12\n",
      "[warning] DeprecationWarning: Call to deprecated function (or staticmethod) thresholded_output. (Add detectors as components) -- Deprecated since version 0.12\n",
      "[warning] DeprecationWarning: Call to deprecated function (or staticmethod) thresholded_output. (Add detectors as components) -- Deprecated since version 0.12\n",
      "[warning] DeprecationWarning: Call to deprecated function (or staticmethod) thresholded_output. (Add detectors as components) -- Deprecated since version 0.12\n",
      "[warning] DeprecationWarning: Call to deprecated function (or staticmethod) thresholded_output. (Add detectors as components) -- Deprecated since version 0.12\n",
      "[warning] DeprecationWarning: Call to deprecated function (or staticmethod) thresholded_output. (Add detectors as components) -- Deprecated since version 0.12\n",
      "[warning] DeprecationWarning: Call to deprecated function (or staticmethod) thresholded_output. (Add detectors as components) -- Deprecated since version 0.12\n",
      "[warning] DeprecationWarning: Call to deprecated function (or staticmethod) thresholded_output. (Add detectors as components) -- Deprecated since version 0.12\n",
      "[warning] DeprecationWarning: Call to deprecated function (or staticmethod) thresholded_output. (Add detectors as components) -- Deprecated since version 0.12\n",
      "[warning] DeprecationWarning: Call to deprecated function (or staticmethod) thresholded_output. (Add detectors as components) -- Deprecated since version 0.12\n",
      "[warning] DeprecationWarning: Call to deprecated function (or staticmethod) thresholded_output. (Add detectors as components) -- Deprecated since version 0.12\n",
      "[warning] DeprecationWarning: Call to deprecated function (or staticmethod) thresholded_output. (Add detectors as components) -- Deprecated since version 0.12\n",
      "[warning] DeprecationWarning: Call to deprecated function (or staticmethod) thresholded_output. (Add detectors as components) -- Deprecated since version 0.12\n",
      "[warning] DeprecationWarning: Call to deprecated function (or staticmethod) thresholded_output. (Add detectors as components) -- Deprecated since version 0.12\n",
      "[warning] DeprecationWarning: Call to deprecated function (or staticmethod) thresholded_output. (Add detectors as components) -- Deprecated since version 0.12\n",
      "[warning] DeprecationWarning: Call to deprecated function (or staticmethod) thresholded_output. (Add detectors as components) -- Deprecated since version 0.12\n",
      "[warning] DeprecationWarning: Call to deprecated function (or staticmethod) thresholded_output. (Add detectors as components) -- Deprecated since version 0.12\n",
      "[warning] DeprecationWarning: Call to deprecated function (or staticmethod) thresholded_output. (Add detectors as components) -- Deprecated since version 0.12\n",
      "[warning] DeprecationWarning: Call to deprecated function (or staticmethod) thresholded_output. (Add detectors as components) -- Deprecated since version 0.12\n",
      "[warning] DeprecationWarning: Call to deprecated function (or staticmethod) thresholded_output. (Add detectors as components) -- Deprecated since version 0.12\n",
      "[warning] DeprecationWarning: Call to deprecated function (or staticmethod) thresholded_output. (Add detectors as components) -- Deprecated since version 0.12\n",
      "[warning] DeprecationWarning: Call to deprecated function (or staticmethod) thresholded_output. (Add detectors as components) -- Deprecated since version 0.12\n",
      "[warning] DeprecationWarning: Call to deprecated function (or staticmethod) thresholded_output. (Add detectors as components) -- Deprecated since version 0.12\n",
      "[warning] DeprecationWarning: Call to deprecated function (or staticmethod) thresholded_output. (Add detectors as components) -- Deprecated since version 0.12\n",
      "[warning] DeprecationWarning: Call to deprecated function (or staticmethod) thresholded_output. (Add detectors as components) -- Deprecated since version 0.12\n",
      "[warning] DeprecationWarning: Call to deprecated function (or staticmethod) thresholded_output. (Add detectors as components) -- Deprecated since version 0.12\n",
      "[warning] DeprecationWarning: Call to deprecated function (or staticmethod) thresholded_output. (Add detectors as components) -- Deprecated since version 0.12\n",
      "[warning] DeprecationWarning: Call to deprecated function (or staticmethod) thresholded_output. (Add detectors as components) -- Deprecated since version 0.12\n",
      "[warning] DeprecationWarning: Call to deprecated function (or staticmethod) thresholded_output. (Add detectors as components) -- Deprecated since version 0.12\n",
      "[warning] DeprecationWarning: Call to deprecated function (or staticmethod) thresholded_output. (Add detectors as components) -- Deprecated since version 0.12\n",
      "[warning] DeprecationWarning: Call to deprecated function (or staticmethod) thresholded_output. (Add detectors as components) -- Deprecated since version 0.12\n",
      "[warning] DeprecationWarning: Call to deprecated function (or staticmethod) thresholded_output. (Add detectors as components) -- Deprecated since version 0.12\n",
      "[warning] DeprecationWarning: Call to deprecated function (or staticmethod) thresholded_output. (Add detectors as components) -- Deprecated since version 0.12\n",
      "[warning] DeprecationWarning: Call to deprecated function (or staticmethod) thresholded_output. (Add detectors as components) -- Deprecated since version 0.12\n",
      "[warning] DeprecationWarning: Call to deprecated function (or staticmethod) thresholded_output. (Add detectors as components) -- Deprecated since version 0.12\n",
      "[warning] DeprecationWarning: Call to deprecated function (or staticmethod) thresholded_output. (Add detectors as components) -- Deprecated since version 0.12\n",
      "[warning] DeprecationWarning: Call to deprecated function (or staticmethod) thresholded_output. (Add detectors as components) -- Deprecated since version 0.12\n",
      "[warning] DeprecationWarning: Call to deprecated function (or staticmethod) thresholded_output. (Add detectors as components) -- Deprecated since version 0.12\n",
      "[warning] DeprecationWarning: Call to deprecated function (or staticmethod) thresholded_output. (Add detectors as components) -- Deprecated since version 0.12\n",
      "[warning] DeprecationWarning: Call to deprecated function (or staticmethod) thresholded_output. (Add detectors as components) -- Deprecated since version 0.12\n",
      "[warning] DeprecationWarning: Call to deprecated function (or staticmethod) thresholded_output. (Add detectors as components) -- Deprecated since version 0.12\n",
      "[warning] DeprecationWarning: Call to deprecated function (or staticmethod) thresholded_output. (Add detectors as components) -- Deprecated since version 0.12\n",
      "[warning] DeprecationWarning: Call to deprecated function (or staticmethod) thresholded_output. (Add detectors as components) -- Deprecated since version 0.12\n",
      "[warning] DeprecationWarning: Call to deprecated function (or staticmethod) thresholded_output. (Add detectors as components) -- Deprecated since version 0.12\n",
      "[warning] DeprecationWarning: Call to deprecated function (or staticmethod) thresholded_output. (Add detectors as components) -- Deprecated since version 0.12\n",
      "[warning] DeprecationWarning: Call to deprecated function (or staticmethod) thresholded_output. (Add detectors as components) -- Deprecated since version 0.12\n",
      "[warning] DeprecationWarning: Call to deprecated function (or staticmethod) thresholded_output. (Add detectors as components) -- Deprecated since version 0.12\n",
      "[warning] DeprecationWarning: Call to deprecated function (or staticmethod) thresholded_output. (Add detectors as components) -- Deprecated since version 0.12\n",
      "[warning] DeprecationWarning: Call to deprecated function (or staticmethod) thresholded_output. (Add detectors as components) -- Deprecated since version 0.12\n",
      "[warning] DeprecationWarning: Call to deprecated function (or staticmethod) thresholded_output. (Add detectors as components) -- Deprecated since version 0.12\n",
      "[warning] DeprecationWarning: Call to deprecated function (or staticmethod) thresholded_output. (Add detectors as components) -- Deprecated since version 0.12\n",
      "[warning] DeprecationWarning: Call to deprecated function (or staticmethod) thresholded_output. (Add detectors as components) -- Deprecated since version 0.12\n",
      "[warning] DeprecationWarning: Call to deprecated function (or staticmethod) thresholded_output. (Add detectors as components) -- Deprecated since version 0.12\n",
      "[warning] DeprecationWarning: Call to deprecated function (or staticmethod) thresholded_output. (Add detectors as components) -- Deprecated since version 0.12\n",
      "[warning] DeprecationWarning: Call to deprecated function (or staticmethod) thresholded_output. (Add detectors as components) -- Deprecated since version 0.12\n",
      "[warning] DeprecationWarning: Call to deprecated function (or staticmethod) thresholded_output. (Add detectors as components) -- Deprecated since version 0.12\n",
      "[warning] DeprecationWarning: Call to deprecated function (or staticmethod) thresholded_output. (Add detectors as components) -- Deprecated since version 0.12\n",
      "[warning] DeprecationWarning: Call to deprecated function (or staticmethod) thresholded_output. (Add detectors as components) -- Deprecated since version 0.12\n",
      "[warning] DeprecationWarning: Call to deprecated function (or staticmethod) thresholded_output. (Add detectors as components) -- Deprecated since version 0.12\n",
      "[warning] DeprecationWarning: Call to deprecated function (or staticmethod) thresholded_output. (Add detectors as components) -- Deprecated since version 0.12\n",
      "[warning] DeprecationWarning: Call to deprecated function (or staticmethod) thresholded_output. (Add detectors as components) -- Deprecated since version 0.12\n",
      "[warning] DeprecationWarning: Call to deprecated function (or staticmethod) thresholded_output. (Add detectors as components) -- Deprecated since version 0.12\n",
      "[warning] DeprecationWarning: Call to deprecated function (or staticmethod) thresholded_output. (Add detectors as components) -- Deprecated since version 0.12\n",
      "[warning] DeprecationWarning: Call to deprecated function (or staticmethod) thresholded_output. (Add detectors as components) -- Deprecated since version 0.12\n",
      "[warning] DeprecationWarning: Call to deprecated function (or staticmethod) thresholded_output. (Add detectors as components) -- Deprecated since version 0.12\n",
      "[warning] DeprecationWarning: Call to deprecated function (or staticmethod) thresholded_output. (Add detectors as components) -- Deprecated since version 0.12\n",
      "[warning] DeprecationWarning: Call to deprecated function (or staticmethod) thresholded_output. (Add detectors as components) -- Deprecated since version 0.12\n",
      "[warning] DeprecationWarning: Call to deprecated function (or staticmethod) thresholded_output. (Add detectors as components) -- Deprecated since version 0.12\n",
      "[warning] DeprecationWarning: Call to deprecated function (or staticmethod) thresholded_output. (Add detectors as components) -- Deprecated since version 0.12\n",
      "[warning] DeprecationWarning: Call to deprecated function (or staticmethod) thresholded_output. (Add detectors as components) -- Deprecated since version 0.12\n",
      "[warning] DeprecationWarning: Call to deprecated function (or staticmethod) thresholded_output. (Add detectors as components) -- Deprecated since version 0.12\n",
      "[warning] DeprecationWarning: Call to deprecated function (or staticmethod) thresholded_output. (Add detectors as components) -- Deprecated since version 0.12\n",
      "[warning] DeprecationWarning: Call to deprecated function (or staticmethod) thresholded_output. (Add detectors as components) -- Deprecated since version 0.12\n",
      "[warning] DeprecationWarning: Call to deprecated function (or staticmethod) thresholded_output. (Add detectors as components) -- Deprecated since version 0.12\n",
      "[warning] DeprecationWarning: Call to deprecated function (or staticmethod) thresholded_output. (Add detectors as components) -- Deprecated since version 0.12\n",
      "[warning] DeprecationWarning: Call to deprecated function (or staticmethod) thresholded_output. (Add detectors as components) -- Deprecated since version 0.12\n",
      "[warning] DeprecationWarning: Call to deprecated function (or staticmethod) thresholded_output. (Add detectors as components) -- Deprecated since version 0.12\n",
      "[warning] DeprecationWarning: Call to deprecated function (or staticmethod) thresholded_output. (Add detectors as components) -- Deprecated since version 0.12\n",
      "[warning] DeprecationWarning: Call to deprecated function (or staticmethod) thresholded_output. (Add detectors as components) -- Deprecated since version 0.12\n",
      "[warning] DeprecationWarning: Call to deprecated function (or staticmethod) thresholded_output. (Add detectors as components) -- Deprecated since version 0.12\n",
      "[warning] DeprecationWarning: Call to deprecated function (or staticmethod) thresholded_output. (Add detectors as components) -- Deprecated since version 0.12\n",
      "[warning] DeprecationWarning: Call to deprecated function (or staticmethod) thresholded_output. (Add detectors as components) -- Deprecated since version 0.12\n",
      "[warning] DeprecationWarning: Call to deprecated function (or staticmethod) thresholded_output. (Add detectors as components) -- Deprecated since version 0.12\n",
      "[warning] DeprecationWarning: Call to deprecated function (or staticmethod) thresholded_output. (Add detectors as components) -- Deprecated since version 0.12\n",
      "[warning] DeprecationWarning: Call to deprecated function (or staticmethod) thresholded_output. (Add detectors as components) -- Deprecated since version 0.12\n",
      "[warning] DeprecationWarning: Call to deprecated function (or staticmethod) thresholded_output. (Add detectors as components) -- Deprecated since version 0.12\n",
      "[warning] DeprecationWarning: Call to deprecated function (or staticmethod) thresholded_output. (Add detectors as components) -- Deprecated since version 0.12\n",
      "[warning] DeprecationWarning: Call to deprecated function (or staticmethod) thresholded_output. (Add detectors as components) -- Deprecated since version 0.12\n",
      "[warning] DeprecationWarning: Call to deprecated function (or staticmethod) thresholded_output. (Add detectors as components) -- Deprecated since version 0.12\n",
      "[warning] DeprecationWarning: Call to deprecated function (or staticmethod) thresholded_output. (Add detectors as components) -- Deprecated since version 0.12\n",
      "[warning] DeprecationWarning: Call to deprecated function (or staticmethod) thresholded_output. (Add detectors as components) -- Deprecated since version 0.12\n",
      "[warning] DeprecationWarning: Call to deprecated function (or staticmethod) thresholded_output. (Add detectors as components) -- Deprecated since version 0.12\n",
      "[warning] DeprecationWarning: Call to deprecated function (or staticmethod) thresholded_output. (Add detectors as components) -- Deprecated since version 0.12\n",
      "[warning] DeprecationWarning: Call to deprecated function (or staticmethod) thresholded_output. (Add detectors as components) -- Deprecated since version 0.12\n",
      "[warning] DeprecationWarning: Call to deprecated function (or staticmethod) thresholded_output. (Add detectors as components) -- Deprecated since version 0.12\n",
      "[warning] DeprecationWarning: Call to deprecated function (or staticmethod) thresholded_output. (Add detectors as components) -- Deprecated since version 0.12\n",
      "[warning] DeprecationWarning: Call to deprecated function (or staticmethod) thresholded_output. (Add detectors as components) -- Deprecated since version 0.12\n",
      "[warning] DeprecationWarning: Call to deprecated function (or staticmethod) thresholded_output. (Add detectors as components) -- Deprecated since version 0.12\n",
      "[warning] DeprecationWarning: Call to deprecated function (or staticmethod) thresholded_output. (Add detectors as components) -- Deprecated since version 0.12\n",
      "[warning] DeprecationWarning: Call to deprecated function (or staticmethod) thresholded_output. (Add detectors as components) -- Deprecated since version 0.12\n",
      "[warning] DeprecationWarning: Call to deprecated function (or staticmethod) thresholded_output. (Add detectors as components) -- Deprecated since version 0.12\n",
      "[warning] DeprecationWarning: Call to deprecated function (or staticmethod) thresholded_output. (Add detectors as components) -- Deprecated since version 0.12\n",
      "[warning] DeprecationWarning: Call to deprecated function (or staticmethod) thresholded_output. (Add detectors as components) -- Deprecated since version 0.12\n",
      "[warning] DeprecationWarning: Call to deprecated function (or staticmethod) thresholded_output. (Add detectors as components) -- Deprecated since version 0.12\n",
      "[warning] DeprecationWarning: Call to deprecated function (or staticmethod) thresholded_output. (Add detectors as components) -- Deprecated since version 0.12\n",
      "[warning] DeprecationWarning: Call to deprecated function (or staticmethod) thresholded_output. (Add detectors as components) -- Deprecated since version 0.12\n",
      "[warning] DeprecationWarning: Call to deprecated function (or staticmethod) thresholded_output. (Add detectors as components) -- Deprecated since version 0.12\n",
      "[warning] DeprecationWarning: Call to deprecated function (or staticmethod) thresholded_output. (Add detectors as components) -- Deprecated since version 0.12\n",
      "[warning] DeprecationWarning: Call to deprecated function (or staticmethod) thresholded_output. (Add detectors as components) -- Deprecated since version 0.12\n",
      "[warning] DeprecationWarning: Call to deprecated function (or staticmethod) thresholded_output. (Add detectors as components) -- Deprecated since version 0.12\n",
      "[warning] DeprecationWarning: Call to deprecated function (or staticmethod) thresholded_output. (Add detectors as components) -- Deprecated since version 0.12\n",
      "[warning] DeprecationWarning: Call to deprecated function (or staticmethod) thresholded_output. (Add detectors as components) -- Deprecated since version 0.12\n",
      "[warning] DeprecationWarning: Call to deprecated function (or staticmethod) thresholded_output. (Add detectors as components) -- Deprecated since version 0.12\n",
      "[warning] DeprecationWarning: Call to deprecated function (or staticmethod) thresholded_output. (Add detectors as components) -- Deprecated since version 0.12\n",
      "[warning] DeprecationWarning: Call to deprecated function (or staticmethod) thresholded_output. (Add detectors as components) -- Deprecated since version 0.12\n",
      "[warning] DeprecationWarning: Call to deprecated function (or staticmethod) thresholded_output. (Add detectors as components) -- Deprecated since version 0.12\n",
      "[warning] DeprecationWarning: Call to deprecated function (or staticmethod) thresholded_output. (Add detectors as components) -- Deprecated since version 0.12\n",
      "[warning] DeprecationWarning: Call to deprecated function (or staticmethod) thresholded_output. (Add detectors as components) -- Deprecated since version 0.12\n",
      "[warning] DeprecationWarning: Call to deprecated function (or staticmethod) thresholded_output. (Add detectors as components) -- Deprecated since version 0.12\n",
      "[warning] DeprecationWarning: Call to deprecated function (or staticmethod) thresholded_output. (Add detectors as components) -- Deprecated since version 0.12\n",
      "[warning] DeprecationWarning: Call to deprecated function (or staticmethod) thresholded_output. (Add detectors as components) -- Deprecated since version 0.12\n",
      "[warning] DeprecationWarning: Call to deprecated function (or staticmethod) thresholded_output. (Add detectors as components) -- Deprecated since version 0.12\n",
      "[warning] DeprecationWarning: Call to deprecated function (or staticmethod) thresholded_output. (Add detectors as components) -- Deprecated since version 0.12\n",
      "[warning] DeprecationWarning: Call to deprecated function (or staticmethod) thresholded_output. (Add detectors as components) -- Deprecated since version 0.12\n",
      "[warning] DeprecationWarning: Call to deprecated function (or staticmethod) thresholded_output. (Add detectors as components) -- Deprecated since version 0.12\n",
      "[warning] DeprecationWarning: Call to deprecated function (or staticmethod) thresholded_output. (Add detectors as components) -- Deprecated since version 0.12\n",
      "[warning] DeprecationWarning: Call to deprecated function (or staticmethod) thresholded_output. (Add detectors as components) -- Deprecated since version 0.12\n",
      "[warning] DeprecationWarning: Call to deprecated function (or staticmethod) thresholded_output. (Add detectors as components) -- Deprecated since version 0.12\n",
      "[warning] DeprecationWarning: Call to deprecated function (or staticmethod) thresholded_output. (Add detectors as components) -- Deprecated since version 0.12\n",
      "[warning] DeprecationWarning: Call to deprecated function (or staticmethod) thresholded_output. (Add detectors as components) -- Deprecated since version 0.12\n",
      "[warning] DeprecationWarning: Call to deprecated function (or staticmethod) thresholded_output. (Add detectors as components) -- Deprecated since version 0.12\n",
      "[warning] DeprecationWarning: Call to deprecated function (or staticmethod) thresholded_output. (Add detectors as components) -- Deprecated since version 0.12\n",
      "[warning] DeprecationWarning: Call to deprecated function (or staticmethod) thresholded_output. (Add detectors as components) -- Deprecated since version 0.12\n",
      "[warning] DeprecationWarning: Call to deprecated function (or staticmethod) thresholded_output. (Add detectors as components) -- Deprecated since version 0.12\n",
      "[warning] DeprecationWarning: Call to deprecated function (or staticmethod) thresholded_output. (Add detectors as components) -- Deprecated since version 0.12\n",
      "[warning] DeprecationWarning: Call to deprecated function (or staticmethod) thresholded_output. (Add detectors as components) -- Deprecated since version 0.12\n",
      "[warning] DeprecationWarning: Call to deprecated function (or staticmethod) thresholded_output. (Add detectors as components) -- Deprecated since version 0.12\n",
      "[warning] DeprecationWarning: Call to deprecated function (or staticmethod) thresholded_output. (Add detectors as components) -- Deprecated since version 0.12\n",
      "[warning] DeprecationWarning: Call to deprecated function (or staticmethod) thresholded_output. (Add detectors as components) -- Deprecated since version 0.12\n",
      "[warning] DeprecationWarning: Call to deprecated function (or staticmethod) thresholded_output. (Add detectors as components) -- Deprecated since version 0.12\n",
      "[warning] DeprecationWarning: Call to deprecated function (or staticmethod) thresholded_output. (Add detectors as components) -- Deprecated since version 0.12\n",
      "[warning] DeprecationWarning: Call to deprecated function (or staticmethod) thresholded_output. (Add detectors as components) -- Deprecated since version 0.12\n",
      "[warning] DeprecationWarning: Call to deprecated function (or staticmethod) thresholded_output. (Add detectors as components) -- Deprecated since version 0.12\n",
      "[warning] DeprecationWarning: Call to deprecated function (or staticmethod) thresholded_output. (Add detectors as components) -- Deprecated since version 0.12\n",
      "[warning] DeprecationWarning: Call to deprecated function (or staticmethod) thresholded_output. (Add detectors as components) -- Deprecated since version 0.12\n",
      "[warning] DeprecationWarning: Call to deprecated function (or staticmethod) thresholded_output. (Add detectors as components) -- Deprecated since version 0.12\n",
      "[warning] DeprecationWarning: Call to deprecated function (or staticmethod) thresholded_output. (Add detectors as components) -- Deprecated since version 0.12\n",
      "[warning] DeprecationWarning: Call to deprecated function (or staticmethod) thresholded_output. (Add detectors as components) -- Deprecated since version 0.12\n",
      "[warning] DeprecationWarning: Call to deprecated function (or staticmethod) thresholded_output. (Add detectors as components) -- Deprecated since version 0.12\n",
      "[warning] DeprecationWarning: Call to deprecated function (or staticmethod) thresholded_output. (Add detectors as components) -- Deprecated since version 0.12\n",
      "[warning] DeprecationWarning: Call to deprecated function (or staticmethod) thresholded_output. (Add detectors as components) -- Deprecated since version 0.12\n",
      "[warning] DeprecationWarning: Call to deprecated function (or staticmethod) thresholded_output. (Add detectors as components) -- Deprecated since version 0.12\n",
      "[warning] DeprecationWarning: Call to deprecated function (or staticmethod) thresholded_output. (Add detectors as components) -- Deprecated since version 0.12\n",
      "[warning] DeprecationWarning: Call to deprecated function (or staticmethod) thresholded_output. (Add detectors as components) -- Deprecated since version 0.12\n",
      "[warning] DeprecationWarning: Call to deprecated function (or staticmethod) thresholded_output. (Add detectors as components) -- Deprecated since version 0.12\n",
      "[warning] DeprecationWarning: Call to deprecated function (or staticmethod) thresholded_output. (Add detectors as components) -- Deprecated since version 0.12\n",
      "[warning] DeprecationWarning: Call to deprecated function (or staticmethod) thresholded_output. (Add detectors as components) -- Deprecated since version 0.12\n",
      "[warning] DeprecationWarning: Call to deprecated function (or staticmethod) thresholded_output. (Add detectors as components) -- Deprecated since version 0.12\n",
      "[warning] DeprecationWarning: Call to deprecated function (or staticmethod) thresholded_output. (Add detectors as components) -- Deprecated since version 0.12\n",
      "[warning] DeprecationWarning: Call to deprecated function (or staticmethod) thresholded_output. (Add detectors as components) -- Deprecated since version 0.12\n",
      "[warning] DeprecationWarning: Call to deprecated function (or staticmethod) thresholded_output. (Add detectors as components) -- Deprecated since version 0.12\n",
      "[warning] DeprecationWarning: Call to deprecated function (or staticmethod) thresholded_output. (Add detectors as components) -- Deprecated since version 0.12\n",
      "[warning] DeprecationWarning: Call to deprecated function (or staticmethod) thresholded_output. (Add detectors as components) -- Deprecated since version 0.12\n",
      "[warning] DeprecationWarning: Call to deprecated function (or staticmethod) thresholded_output. (Add detectors as components) -- Deprecated since version 0.12\n",
      "[warning] DeprecationWarning: Call to deprecated function (or staticmethod) thresholded_output. (Add detectors as components) -- Deprecated since version 0.12\n",
      "[warning] DeprecationWarning: Call to deprecated function (or staticmethod) thresholded_output. (Add detectors as components) -- Deprecated since version 0.12\n",
      "[warning] DeprecationWarning: Call to deprecated function (or staticmethod) thresholded_output. (Add detectors as components) -- Deprecated since version 0.12\n",
      "[warning] DeprecationWarning: Call to deprecated function (or staticmethod) thresholded_output. (Add detectors as components) -- Deprecated since version 0.12\n",
      "[warning] DeprecationWarning: Call to deprecated function (or staticmethod) thresholded_output. (Add detectors as components) -- Deprecated since version 0.12\n",
      "[warning] DeprecationWarning: Call to deprecated function (or staticmethod) thresholded_output. (Add detectors as components) -- Deprecated since version 0.12\n",
      "[warning] DeprecationWarning: Call to deprecated function (or staticmethod) thresholded_output. (Add detectors as components) -- Deprecated since version 0.12\n",
      "[warning] DeprecationWarning: Call to deprecated function (or staticmethod) thresholded_output. (Add detectors as components) -- Deprecated since version 0.12\n",
      "[warning] DeprecationWarning: Call to deprecated function (or staticmethod) thresholded_output. (Add detectors as components) -- Deprecated since version 0.12\n",
      "[warning] DeprecationWarning: Call to deprecated function (or staticmethod) thresholded_output. (Add detectors as components) -- Deprecated since version 0.12\n",
      "[warning] DeprecationWarning: Call to deprecated function (or staticmethod) thresholded_output. (Add detectors as components) -- Deprecated since version 0.12\n",
      "[warning] DeprecationWarning: Call to deprecated function (or staticmethod) thresholded_output. (Add detectors as components) -- Deprecated since version 0.12\n",
      "[warning] DeprecationWarning: Call to deprecated function (or staticmethod) thresholded_output. (Add detectors as components) -- Deprecated since version 0.12\n",
      "[warning] DeprecationWarning: Call to deprecated function (or staticmethod) thresholded_output. (Add detectors as components) -- Deprecated since version 0.12\n",
      "[warning] DeprecationWarning: Call to deprecated function (or staticmethod) thresholded_output. (Add detectors as components) -- Deprecated since version 0.12\n",
      "[warning] DeprecationWarning: Call to deprecated function (or staticmethod) thresholded_output. (Add detectors as components) -- Deprecated since version 0.12\n",
      "[warning] DeprecationWarning: Call to deprecated function (or staticmethod) thresholded_output. (Add detectors as components) -- Deprecated since version 0.12\n",
      "[warning] DeprecationWarning: Call to deprecated function (or staticmethod) thresholded_output. (Add detectors as components) -- Deprecated since version 0.12\n",
      "[warning] DeprecationWarning: Call to deprecated function (or staticmethod) thresholded_output. (Add detectors as components) -- Deprecated since version 0.12\n",
      "[warning] DeprecationWarning: Call to deprecated function (or staticmethod) thresholded_output. (Add detectors as components) -- Deprecated since version 0.12\n",
      "[warning] DeprecationWarning: Call to deprecated function (or staticmethod) thresholded_output. (Add detectors as components) -- Deprecated since version 0.12\n",
      "[warning] DeprecationWarning: Call to deprecated function (or staticmethod) thresholded_output. (Add detectors as components) -- Deprecated since version 0.12\n",
      "[warning] DeprecationWarning: Call to deprecated function (or staticmethod) thresholded_output. (Add detectors as components) -- Deprecated since version 0.12\n",
      "[warning] DeprecationWarning: Call to deprecated function (or staticmethod) thresholded_output. (Add detectors as components) -- Deprecated since version 0.12\n",
      "[warning] DeprecationWarning: Call to deprecated function (or staticmethod) thresholded_output. (Add detectors as components) -- Deprecated since version 0.12\n",
      "[warning] DeprecationWarning: Call to deprecated function (or staticmethod) thresholded_output. (Add detectors as components) -- Deprecated since version 0.12\n",
      "[warning] DeprecationWarning: Call to deprecated function (or staticmethod) thresholded_output. (Add detectors as components) -- Deprecated since version 0.12\n",
      "[warning] DeprecationWarning: Call to deprecated function (or staticmethod) thresholded_output. (Add detectors as components) -- Deprecated since version 0.12\n",
      "[warning] DeprecationWarning: Call to deprecated function (or staticmethod) thresholded_output. (Add detectors as components) -- Deprecated since version 0.12\n",
      "[warning] DeprecationWarning: Call to deprecated function (or staticmethod) thresholded_output. (Add detectors as components) -- Deprecated since version 0.12\n",
      "[warning] DeprecationWarning: Call to deprecated function (or staticmethod) thresholded_output. (Add detectors as components) -- Deprecated since version 0.12\n",
      "[warning] DeprecationWarning: Call to deprecated function (or staticmethod) thresholded_output. (Add detectors as components) -- Deprecated since version 0.12\n",
      "[warning] DeprecationWarning: Call to deprecated function (or staticmethod) thresholded_output. (Add detectors as components) -- Deprecated since version 0.12\n",
      "[warning] DeprecationWarning: Call to deprecated function (or staticmethod) thresholded_output. (Add detectors as components) -- Deprecated since version 0.12\n",
      "[warning] DeprecationWarning: Call to deprecated function (or staticmethod) thresholded_output. (Add detectors as components) -- Deprecated since version 0.12\n",
      "[warning] DeprecationWarning: Call to deprecated function (or staticmethod) thresholded_output. (Add detectors as components) -- Deprecated since version 0.12\n",
      "[warning] DeprecationWarning: Call to deprecated function (or staticmethod) thresholded_output. (Add detectors as components) -- Deprecated since version 0.12\n",
      "[warning] DeprecationWarning: Call to deprecated function (or staticmethod) thresholded_output. (Add detectors as components) -- Deprecated since version 0.12\n",
      "[warning] DeprecationWarning: Call to deprecated function (or staticmethod) thresholded_output. (Add detectors as components) -- Deprecated since version 0.12\n",
      "[warning] DeprecationWarning: Call to deprecated function (or staticmethod) thresholded_output. (Add detectors as components) -- Deprecated since version 0.12\n",
      "[warning] DeprecationWarning: Call to deprecated function (or staticmethod) thresholded_output. (Add detectors as components) -- Deprecated since version 0.12\n",
      "[warning] DeprecationWarning: Call to deprecated function (or staticmethod) thresholded_output. (Add detectors as components) -- Deprecated since version 0.12\n",
      "[warning] DeprecationWarning: Call to deprecated function (or staticmethod) thresholded_output. (Add detectors as components) -- Deprecated since version 0.12\n",
      "[warning] DeprecationWarning: Call to deprecated function (or staticmethod) thresholded_output. (Add detectors as components) -- Deprecated since version 0.12\n",
      "[warning] DeprecationWarning: Call to deprecated function (or staticmethod) thresholded_output. (Add detectors as components) -- Deprecated since version 0.12\n",
      "[warning] DeprecationWarning: Call to deprecated function (or staticmethod) thresholded_output. (Add detectors as components) -- Deprecated since version 0.12\n",
      "[warning] DeprecationWarning: Call to deprecated function (or staticmethod) thresholded_output. (Add detectors as components) -- Deprecated since version 0.12\n",
      "[warning] DeprecationWarning: Call to deprecated function (or staticmethod) thresholded_output. (Add detectors as components) -- Deprecated since version 0.12\n",
      "[warning] DeprecationWarning: Call to deprecated function (or staticmethod) thresholded_output. (Add detectors as components) -- Deprecated since version 0.12\n",
      "[warning] DeprecationWarning: Call to deprecated function (or staticmethod) thresholded_output. (Add detectors as components) -- Deprecated since version 0.12\n",
      "[warning] DeprecationWarning: Call to deprecated function (or staticmethod) thresholded_output. (Add detectors as components) -- Deprecated since version 0.12\n",
      "[warning] DeprecationWarning: Call to deprecated function (or staticmethod) thresholded_output. (Add detectors as components) -- Deprecated since version 0.12\n",
      "[warning] DeprecationWarning: Call to deprecated function (or staticmethod) thresholded_output. (Add detectors as components) -- Deprecated since version 0.12\n",
      "[warning] DeprecationWarning: Call to deprecated function (or staticmethod) thresholded_output. (Add detectors as components) -- Deprecated since version 0.12\n",
      "[warning] DeprecationWarning: Call to deprecated function (or staticmethod) thresholded_output. (Add detectors as components) -- Deprecated since version 0.12\n",
      "[warning] DeprecationWarning: Call to deprecated function (or staticmethod) thresholded_output. (Add detectors as components) -- Deprecated since version 0.12\n",
      "[warning] DeprecationWarning: Call to deprecated function (or staticmethod) thresholded_output. (Add detectors as components) -- Deprecated since version 0.12\n",
      "[warning] DeprecationWarning: Call to deprecated function (or staticmethod) thresholded_output. (Add detectors as components) -- Deprecated since version 0.12\n",
      "[warning] DeprecationWarning: Call to deprecated function (or staticmethod) thresholded_output. (Add detectors as components) -- Deprecated since version 0.12\n",
      "[warning] DeprecationWarning: Call to deprecated function (or staticmethod) thresholded_output. (Add detectors as components) -- Deprecated since version 0.12\n",
      "[warning] DeprecationWarning: Call to deprecated function (or staticmethod) thresholded_output. (Add detectors as components) -- Deprecated since version 0.12\n",
      "[warning] DeprecationWarning: Call to deprecated function (or staticmethod) thresholded_output. (Add detectors as components) -- Deprecated since version 0.12\n",
      "[warning] DeprecationWarning: Call to deprecated function (or staticmethod) thresholded_output. (Add detectors as components) -- Deprecated since version 0.12\n",
      "[warning] DeprecationWarning: Call to deprecated function (or staticmethod) thresholded_output. (Add detectors as components) -- Deprecated since version 0.12\n",
      "[warning] DeprecationWarning: Call to deprecated function (or staticmethod) thresholded_output. (Add detectors as components) -- Deprecated since version 0.12\n",
      "[warning] DeprecationWarning: Call to deprecated function (or staticmethod) thresholded_output. (Add detectors as components) -- Deprecated since version 0.12\n",
      "[warning] DeprecationWarning: Call to deprecated function (or staticmethod) thresholded_output. (Add detectors as components) -- Deprecated since version 0.12\n",
      "[warning] DeprecationWarning: Call to deprecated function (or staticmethod) thresholded_output. (Add detectors as components) -- Deprecated since version 0.12\n",
      "[warning] DeprecationWarning: Call to deprecated function (or staticmethod) thresholded_output. (Add detectors as components) -- Deprecated since version 0.12\n",
      "[warning] DeprecationWarning: Call to deprecated function (or staticmethod) thresholded_output. (Add detectors as components) -- Deprecated since version 0.12\n",
      "[warning] DeprecationWarning: Call to deprecated function (or staticmethod) thresholded_output. (Add detectors as components) -- Deprecated since version 0.12\n",
      "[warning] DeprecationWarning: Call to deprecated function (or staticmethod) thresholded_output. (Add detectors as components) -- Deprecated since version 0.12\n",
      "[warning] DeprecationWarning: Call to deprecated function (or staticmethod) thresholded_output. (Add detectors as components) -- Deprecated since version 0.12\n",
      "[warning] DeprecationWarning: Call to deprecated function (or staticmethod) thresholded_output. (Add detectors as components) -- Deprecated since version 0.12\n",
      "[warning] DeprecationWarning: Call to deprecated function (or staticmethod) thresholded_output. (Add detectors as components) -- Deprecated since version 0.12\n",
      "[warning] DeprecationWarning: Call to deprecated function (or staticmethod) thresholded_output. (Add detectors as components) -- Deprecated since version 0.12\n",
      "[warning] DeprecationWarning: Call to deprecated function (or staticmethod) thresholded_output. (Add detectors as components) -- Deprecated since version 0.12\n",
      "[warning] DeprecationWarning: Call to deprecated function (or staticmethod) thresholded_output. (Add detectors as components) -- Deprecated since version 0.12\n",
      "[warning] DeprecationWarning: Call to deprecated function (or staticmethod) thresholded_output. (Add detectors as components) -- Deprecated since version 0.12\n",
      "[warning] DeprecationWarning: Call to deprecated function (or staticmethod) thresholded_output. (Add detectors as components) -- Deprecated since version 0.12\n",
      "[warning] DeprecationWarning: Call to deprecated function (or staticmethod) thresholded_output. (Add detectors as components) -- Deprecated since version 0.12\n",
      "[warning] DeprecationWarning: Call to deprecated function (or staticmethod) thresholded_output. (Add detectors as components) -- Deprecated since version 0.12\n",
      "[warning] DeprecationWarning: Call to deprecated function (or staticmethod) thresholded_output. (Add detectors as components) -- Deprecated since version 0.12\n",
      "[warning] DeprecationWarning: Call to deprecated function (or staticmethod) thresholded_output. (Add detectors as components) -- Deprecated since version 0.12\n",
      "[warning] DeprecationWarning: Call to deprecated function (or staticmethod) thresholded_output. (Add detectors as components) -- Deprecated since version 0.12\n",
      "[warning] DeprecationWarning: Call to deprecated function (or staticmethod) thresholded_output. (Add detectors as components) -- Deprecated since version 0.12\n",
      "[warning] DeprecationWarning: Call to deprecated function (or staticmethod) thresholded_output. (Add detectors as components) -- Deprecated since version 0.12\n",
      "[warning] DeprecationWarning: Call to deprecated function (or staticmethod) thresholded_output. (Add detectors as components) -- Deprecated since version 0.12\n",
      "[warning] DeprecationWarning: Call to deprecated function (or staticmethod) thresholded_output. (Add detectors as components) -- Deprecated since version 0.12\n",
      "[warning] DeprecationWarning: Call to deprecated function (or staticmethod) thresholded_output. (Add detectors as components) -- Deprecated since version 0.12\n",
      "[warning] DeprecationWarning: Call to deprecated function (or staticmethod) thresholded_output. (Add detectors as components) -- Deprecated since version 0.12\n",
      "[warning] DeprecationWarning: Call to deprecated function (or staticmethod) thresholded_output. (Add detectors as components) -- Deprecated since version 0.12\n",
      "[warning] DeprecationWarning: Call to deprecated function (or staticmethod) thresholded_output. (Add detectors as components) -- Deprecated since version 0.12\n",
      "[warning] DeprecationWarning: Call to deprecated function (or staticmethod) thresholded_output. (Add detectors as components) -- Deprecated since version 0.12\n",
      "[warning] DeprecationWarning: Call to deprecated function (or staticmethod) thresholded_output. (Add detectors as components) -- Deprecated since version 0.12\n",
      "[warning] DeprecationWarning: Call to deprecated function (or staticmethod) thresholded_output. (Add detectors as components) -- Deprecated since version 0.12\n",
      "[warning] DeprecationWarning: Call to deprecated function (or staticmethod) thresholded_output. (Add detectors as components) -- Deprecated since version 0.12\n",
      "[warning] DeprecationWarning: Call to deprecated function (or staticmethod) thresholded_output. (Add detectors as components) -- Deprecated since version 0.12\n",
      "[warning] DeprecationWarning: Call to deprecated function (or staticmethod) thresholded_output. (Add detectors as components) -- Deprecated since version 0.12\n",
      "[warning] DeprecationWarning: Call to deprecated function (or staticmethod) thresholded_output. (Add detectors as components) -- Deprecated since version 0.12\n",
      "[warning] DeprecationWarning: Call to deprecated function (or staticmethod) thresholded_output. (Add detectors as components) -- Deprecated since version 0.12\n",
      "[warning] DeprecationWarning: Call to deprecated function (or staticmethod) thresholded_output. (Add detectors as components) -- Deprecated since version 0.12\n",
      "[warning] DeprecationWarning: Call to deprecated function (or staticmethod) thresholded_output. (Add detectors as components) -- Deprecated since version 0.12\n",
      "[warning] DeprecationWarning: Call to deprecated function (or staticmethod) thresholded_output. (Add detectors as components) -- Deprecated since version 0.12\n",
      "[warning] DeprecationWarning: Call to deprecated function (or staticmethod) thresholded_output. (Add detectors as components) -- Deprecated since version 0.12\n",
      "[warning] DeprecationWarning: Call to deprecated function (or staticmethod) thresholded_output. (Add detectors as components) -- Deprecated since version 0.12\n",
      "[warning] DeprecationWarning: Call to deprecated function (or staticmethod) thresholded_output. (Add detectors as components) -- Deprecated since version 0.12\n",
      "[warning] DeprecationWarning: Call to deprecated function (or staticmethod) thresholded_output. (Add detectors as components) -- Deprecated since version 0.12\n",
      "[warning] DeprecationWarning: Call to deprecated function (or staticmethod) thresholded_output. (Add detectors as components) -- Deprecated since version 0.12\n",
      "[warning] DeprecationWarning: Call to deprecated function (or staticmethod) thresholded_output. (Add detectors as components) -- Deprecated since version 0.12\n",
      "[warning] DeprecationWarning: Call to deprecated function (or staticmethod) thresholded_output. (Add detectors as components) -- Deprecated since version 0.12\n",
      "[warning] DeprecationWarning: Call to deprecated function (or staticmethod) thresholded_output. (Add detectors as components) -- Deprecated since version 0.12\n",
      "[warning] DeprecationWarning: Call to deprecated function (or staticmethod) thresholded_output. (Add detectors as components) -- Deprecated since version 0.12\n",
      "[warning] DeprecationWarning: Call to deprecated function (or staticmethod) thresholded_output. (Add detectors as components) -- Deprecated since version 0.12\n",
      "[warning] DeprecationWarning: Call to deprecated function (or staticmethod) thresholded_output. (Add detectors as components) -- Deprecated since version 0.12\n",
      "[warning] DeprecationWarning: Call to deprecated function (or staticmethod) thresholded_output. (Add detectors as components) -- Deprecated since version 0.12\n",
      "[warning] DeprecationWarning: Call to deprecated function (or staticmethod) thresholded_output. (Add detectors as components) -- Deprecated since version 0.12\n",
      "[warning] DeprecationWarning: Call to deprecated function (or staticmethod) thresholded_output. (Add detectors as components) -- Deprecated since version 0.12\n",
      "[warning] DeprecationWarning: Call to deprecated function (or staticmethod) thresholded_output. (Add detectors as components) -- Deprecated since version 0.12\n",
      "[warning] DeprecationWarning: Call to deprecated function (or staticmethod) thresholded_output. (Add detectors as components) -- Deprecated since version 0.12\n",
      "[warning] DeprecationWarning: Call to deprecated function (or staticmethod) thresholded_output. (Add detectors as components) -- Deprecated since version 0.12\n",
      "[warning] DeprecationWarning: Call to deprecated function (or staticmethod) thresholded_output. (Add detectors as components) -- Deprecated since version 0.12\n",
      "[warning] DeprecationWarning: Call to deprecated function (or staticmethod) thresholded_output. (Add detectors as components) -- Deprecated since version 0.12\n",
      "[warning] DeprecationWarning: Call to deprecated function (or staticmethod) thresholded_output. (Add detectors as components) -- Deprecated since version 0.12\n",
      "[warning] DeprecationWarning: Call to deprecated function (or staticmethod) thresholded_output. (Add detectors as components) -- Deprecated since version 0.12\n",
      "[warning] DeprecationWarning: Call to deprecated function (or staticmethod) thresholded_output. (Add detectors as components) -- Deprecated since version 0.12\n",
      "[warning] DeprecationWarning: Call to deprecated function (or staticmethod) thresholded_output. (Add detectors as components) -- Deprecated since version 0.12\n",
      "[warning] DeprecationWarning: Call to deprecated function (or staticmethod) thresholded_output. (Add detectors as components) -- Deprecated since version 0.12\n",
      "[warning] DeprecationWarning: Call to deprecated function (or staticmethod) thresholded_output. (Add detectors as components) -- Deprecated since version 0.12\n",
      "[warning] DeprecationWarning: Call to deprecated function (or staticmethod) thresholded_output. (Add detectors as components) -- Deprecated since version 0.12\n",
      "[warning] DeprecationWarning: Call to deprecated function (or staticmethod) thresholded_output. (Add detectors as components) -- Deprecated since version 0.12\n",
      "[warning] DeprecationWarning: Call to deprecated function (or staticmethod) thresholded_output. (Add detectors as components) -- Deprecated since version 0.12\n",
      "[warning] DeprecationWarning: Call to deprecated function (or staticmethod) thresholded_output. (Add detectors as components) -- Deprecated since version 0.12\n",
      "[warning] DeprecationWarning: Call to deprecated function (or staticmethod) thresholded_output. (Add detectors as components) -- Deprecated since version 0.12\n",
      "[warning] DeprecationWarning: Call to deprecated function (or staticmethod) thresholded_output. (Add detectors as components) -- Deprecated since version 0.12\n",
      "[warning] DeprecationWarning: Call to deprecated function (or staticmethod) thresholded_output. (Add detectors as components) -- Deprecated since version 0.12\n",
      "[warning] DeprecationWarning: Call to deprecated function (or staticmethod) thresholded_output. (Add detectors as components) -- Deprecated since version 0.12\n",
      "[warning] DeprecationWarning: Call to deprecated function (or staticmethod) thresholded_output. (Add detectors as components) -- Deprecated since version 0.12\n",
      "[warning] DeprecationWarning: Call to deprecated function (or staticmethod) thresholded_output. (Add detectors as components) -- Deprecated since version 0.12\n",
      "[warning] DeprecationWarning: Call to deprecated function (or staticmethod) thresholded_output. (Add detectors as components) -- Deprecated since version 0.12\n",
      "[warning] DeprecationWarning: Call to deprecated function (or staticmethod) thresholded_output. (Add detectors as components) -- Deprecated since version 0.12\n",
      "[warning] DeprecationWarning: Call to deprecated function (or staticmethod) thresholded_output. (Add detectors as components) -- Deprecated since version 0.12\n",
      "[warning] DeprecationWarning: Call to deprecated function (or staticmethod) thresholded_output. (Add detectors as components) -- Deprecated since version 0.12\n",
      "[warning] DeprecationWarning: Call to deprecated function (or staticmethod) thresholded_output. (Add detectors as components) -- Deprecated since version 0.12\n",
      "[warning] DeprecationWarning: Call to deprecated function (or staticmethod) thresholded_output. (Add detectors as components) -- Deprecated since version 0.12\n",
      "[warning] DeprecationWarning: Call to deprecated function (or staticmethod) thresholded_output. (Add detectors as components) -- Deprecated since version 0.12\n",
      "[warning] DeprecationWarning: Call to deprecated function (or staticmethod) thresholded_output. (Add detectors as components) -- Deprecated since version 0.12\n",
      "[warning] DeprecationWarning: Call to deprecated function (or staticmethod) thresholded_output. (Add detectors as components) -- Deprecated since version 0.12\n",
      "[warning] DeprecationWarning: Call to deprecated function (or staticmethod) thresholded_output. (Add detectors as components) -- Deprecated since version 0.12\n",
      "[warning] DeprecationWarning: Call to deprecated function (or staticmethod) thresholded_output. (Add detectors as components) -- Deprecated since version 0.12\n",
      "[warning] DeprecationWarning: Call to deprecated function (or staticmethod) thresholded_output. (Add detectors as components) -- Deprecated since version 0.12\n",
      "[warning] DeprecationWarning: Call to deprecated function (or staticmethod) thresholded_output. (Add detectors as components) -- Deprecated since version 0.12\n",
      "[warning] DeprecationWarning: Call to deprecated function (or staticmethod) thresholded_output. (Add detectors as components) -- Deprecated since version 0.12\n",
      "[warning] DeprecationWarning: Call to deprecated function (or staticmethod) thresholded_output. (Add detectors as components) -- Deprecated since version 0.12\n",
      "[warning] DeprecationWarning: Call to deprecated function (or staticmethod) thresholded_output. (Add detectors as components) -- Deprecated since version 0.12\n",
      "[warning] DeprecationWarning: Call to deprecated function (or staticmethod) thresholded_output. (Add detectors as components) -- Deprecated since version 0.12\n",
      "[warning] DeprecationWarning: Call to deprecated function (or staticmethod) thresholded_output. (Add detectors as components) -- Deprecated since version 0.12\n",
      "[warning] DeprecationWarning: Call to deprecated function (or staticmethod) thresholded_output. (Add detectors as components) -- Deprecated since version 0.12\n",
      "[warning] DeprecationWarning: Call to deprecated function (or staticmethod) thresholded_output. (Add detectors as components) -- Deprecated since version 0.12\n",
      "[warning] DeprecationWarning: Call to deprecated function (or staticmethod) thresholded_output. (Add detectors as components) -- Deprecated since version 0.12\n",
      "[warning] DeprecationWarning: Call to deprecated function (or staticmethod) thresholded_output. (Add detectors as components) -- Deprecated since version 0.12\n",
      "[warning] DeprecationWarning: Call to deprecated function (or staticmethod) thresholded_output. (Add detectors as components) -- Deprecated since version 0.12\n",
      "[warning] DeprecationWarning: Call to deprecated function (or staticmethod) thresholded_output. (Add detectors as components) -- Deprecated since version 0.12\n",
      "[warning] DeprecationWarning: Call to deprecated function (or staticmethod) thresholded_output. (Add detectors as components) -- Deprecated since version 0.12\n",
      "[warning] DeprecationWarning: Call to deprecated function (or staticmethod) thresholded_output. (Add detectors as components) -- Deprecated since version 0.12\n",
      "[warning] DeprecationWarning: Call to deprecated function (or staticmethod) thresholded_output. (Add detectors as components) -- Deprecated since version 0.12\n",
      "[warning] DeprecationWarning: Call to deprecated function (or staticmethod) thresholded_output. (Add detectors as components) -- Deprecated since version 0.12\n",
      "[warning] DeprecationWarning: Call to deprecated function (or staticmethod) thresholded_output. (Add detectors as components) -- Deprecated since version 0.12\n",
      "[warning] DeprecationWarning: Call to deprecated function (or staticmethod) thresholded_output. (Add detectors as components) -- Deprecated since version 0.12\n",
      "[warning] DeprecationWarning: Call to deprecated function (or staticmethod) thresholded_output. (Add detectors as components) -- Deprecated since version 0.12\n",
      "[warning] DeprecationWarning: Call to deprecated function (or staticmethod) thresholded_output. (Add detectors as components) -- Deprecated since version 0.12\n",
      "[warning] DeprecationWarning: Call to deprecated function (or staticmethod) thresholded_output. (Add detectors as components) -- Deprecated since version 0.12\n",
      "[warning] DeprecationWarning: Call to deprecated function (or staticmethod) thresholded_output. (Add detectors as components) -- Deprecated since version 0.12\n",
      "[warning] DeprecationWarning: Call to deprecated function (or staticmethod) thresholded_output. (Add detectors as components) -- Deprecated since version 0.12\n",
      "[warning] DeprecationWarning: Call to deprecated function (or staticmethod) thresholded_output. (Add detectors as components) -- Deprecated since version 0.12\n",
      "[warning] DeprecationWarning: Call to deprecated function (or staticmethod) thresholded_output. (Add detectors as components) -- Deprecated since version 0.12\n",
      "[warning] DeprecationWarning: Call to deprecated function (or staticmethod) thresholded_output. (Add detectors as components) -- Deprecated since version 0.12\n",
      "[warning] DeprecationWarning: Call to deprecated function (or staticmethod) thresholded_output. (Add detectors as components) -- Deprecated since version 0.12\n",
      "[warning] DeprecationWarning: Call to deprecated function (or staticmethod) thresholded_output. (Add detectors as components) -- Deprecated since version 0.12\n",
      "[warning] DeprecationWarning: Call to deprecated function (or staticmethod) thresholded_output. (Add detectors as components) -- Deprecated since version 0.12\n",
      "[warning] DeprecationWarning: Call to deprecated function (or staticmethod) thresholded_output. (Add detectors as components) -- Deprecated since version 0.12\n",
      "[warning] DeprecationWarning: Call to deprecated function (or staticmethod) thresholded_output. (Add detectors as components) -- Deprecated since version 0.12\n",
      "[warning] DeprecationWarning: Call to deprecated function (or staticmethod) thresholded_output. (Add detectors as components) -- Deprecated since version 0.12\n",
      "[warning] DeprecationWarning: Call to deprecated function (or staticmethod) thresholded_output. (Add detectors as components) -- Deprecated since version 0.12\n",
      "[warning] DeprecationWarning: Call to deprecated function (or staticmethod) thresholded_output. (Add detectors as components) -- Deprecated since version 0.12\n",
      "[warning] DeprecationWarning: Call to deprecated function (or staticmethod) thresholded_output. (Add detectors as components) -- Deprecated since version 0.12\n",
      "[warning] DeprecationWarning: Call to deprecated function (or staticmethod) thresholded_output. (Add detectors as components) -- Deprecated since version 0.12\n",
      "[warning] DeprecationWarning: Call to deprecated function (or staticmethod) thresholded_output. (Add detectors as components) -- Deprecated since version 0.12\n",
      "[warning] DeprecationWarning: Call to deprecated function (or staticmethod) thresholded_output. (Add detectors as components) -- Deprecated since version 0.12\n",
      "[warning] DeprecationWarning: Call to deprecated function (or staticmethod) thresholded_output. (Add detectors as components) -- Deprecated since version 0.12\n",
      "[warning] DeprecationWarning: Call to deprecated function (or staticmethod) thresholded_output. (Add detectors as components) -- Deprecated since version 0.12\n",
      "[warning] DeprecationWarning: Call to deprecated function (or staticmethod) thresholded_output. (Add detectors as components) -- Deprecated since version 0.12\n",
      "[warning] DeprecationWarning: Call to deprecated function (or staticmethod) thresholded_output. (Add detectors as components) -- Deprecated since version 0.12\n",
      "[warning] DeprecationWarning: Call to deprecated function (or staticmethod) thresholded_output. (Add detectors as components) -- Deprecated since version 0.12\n",
      "[warning] DeprecationWarning: Call to deprecated function (or staticmethod) thresholded_output. (Add detectors as components) -- Deprecated since version 0.12\n",
      "[warning] DeprecationWarning: Call to deprecated function (or staticmethod) thresholded_output. (Add detectors as components) -- Deprecated since version 0.12\n",
      "[warning] DeprecationWarning: Call to deprecated function (or staticmethod) thresholded_output. (Add detectors as components) -- Deprecated since version 0.12\n",
      "[warning] DeprecationWarning: Call to deprecated function (or staticmethod) thresholded_output. (Add detectors as components) -- Deprecated since version 0.12\n",
      "[warning] DeprecationWarning: Call to deprecated function (or staticmethod) thresholded_output. (Add detectors as components) -- Deprecated since version 0.12\n",
      "[warning] DeprecationWarning: Call to deprecated function (or staticmethod) thresholded_output. (Add detectors as components) -- Deprecated since version 0.12\n",
      "[warning] DeprecationWarning: Call to deprecated function (or staticmethod) thresholded_output. (Add detectors as components) -- Deprecated since version 0.12\n",
      "[warning] DeprecationWarning: Call to deprecated function (or staticmethod) thresholded_output. (Add detectors as components) -- Deprecated since version 0.12\n",
      "[warning] DeprecationWarning: Call to deprecated function (or staticmethod) thresholded_output. (Add detectors as components) -- Deprecated since version 0.12\n",
      "[warning] DeprecationWarning: Call to deprecated function (or staticmethod) thresholded_output. (Add detectors as components) -- Deprecated since version 0.12\n",
      "[warning] DeprecationWarning: Call to deprecated function (or staticmethod) thresholded_output. (Add detectors as components) -- Deprecated since version 0.12\n",
      "[warning] DeprecationWarning: Call to deprecated function (or staticmethod) thresholded_output. (Add detectors as components) -- Deprecated since version 0.12\n",
      "[warning] DeprecationWarning: Call to deprecated function (or staticmethod) thresholded_output. (Add detectors as components) -- Deprecated since version 0.12\n",
      "[warning] DeprecationWarning: Call to deprecated function (or staticmethod) thresholded_output. (Add detectors as components) -- Deprecated since version 0.12\n",
      "[warning] DeprecationWarning: Call to deprecated function (or staticmethod) thresholded_output. (Add detectors as components) -- Deprecated since version 0.12\n",
      "[warning] DeprecationWarning: Call to deprecated function (or staticmethod) thresholded_output. (Add detectors as components) -- Deprecated since version 0.12\n",
      "[warning] DeprecationWarning: Call to deprecated function (or staticmethod) thresholded_output. (Add detectors as components) -- Deprecated since version 0.12\n",
      "[warning] DeprecationWarning: Call to deprecated function (or staticmethod) thresholded_output. (Add detectors as components) -- Deprecated since version 0.12\n",
      "[warning] DeprecationWarning: Call to deprecated function (or staticmethod) thresholded_output. (Add detectors as components) -- Deprecated since version 0.12\n",
      "[warning] DeprecationWarning: Call to deprecated function (or staticmethod) thresholded_output. (Add detectors as components) -- Deprecated since version 0.12\n",
      "[warning] DeprecationWarning: Call to deprecated function (or staticmethod) thresholded_output. (Add detectors as components) -- Deprecated since version 0.12\n",
      "[warning] DeprecationWarning: Call to deprecated function (or staticmethod) thresholded_output. (Add detectors as components) -- Deprecated since version 0.12\n",
      "[warning] DeprecationWarning: Call to deprecated function (or staticmethod) thresholded_output. (Add detectors as components) -- Deprecated since version 0.12\n",
      "[warning] DeprecationWarning: Call to deprecated function (or staticmethod) thresholded_output. (Add detectors as components) -- Deprecated since version 0.12\n",
      "[warning] DeprecationWarning: Call to deprecated function (or staticmethod) thresholded_output. (Add detectors as components) -- Deprecated since version 0.12\n",
      "[warning] DeprecationWarning: Call to deprecated function (or staticmethod) thresholded_output. (Add detectors as components) -- Deprecated since version 0.12\n",
      "[warning] DeprecationWarning: Call to deprecated function (or staticmethod) thresholded_output. (Add detectors as components) -- Deprecated since version 0.12\n",
      "[warning] DeprecationWarning: Call to deprecated function (or staticmethod) thresholded_output. (Add detectors as components) -- Deprecated since version 0.12\n",
      "[warning] DeprecationWarning: Call to deprecated function (or staticmethod) thresholded_output. (Add detectors as components) -- Deprecated since version 0.12\n",
      "[warning] DeprecationWarning: Call to deprecated function (or staticmethod) thresholded_output. (Add detectors as components) -- Deprecated since version 0.12\n",
      "[warning] DeprecationWarning: Call to deprecated function (or staticmethod) thresholded_output. (Add detectors as components) -- Deprecated since version 0.12\n",
      "[warning] DeprecationWarning: Call to deprecated function (or staticmethod) thresholded_output. (Add detectors as components) -- Deprecated since version 0.12\n",
      "[warning] DeprecationWarning: Call to deprecated function (or staticmethod) thresholded_output. (Add detectors as components) -- Deprecated since version 0.12\n",
      "[warning] DeprecationWarning: Call to deprecated function (or staticmethod) thresholded_output. (Add detectors as components) -- Deprecated since version 0.12\n",
      "[warning] DeprecationWarning: Call to deprecated function (or staticmethod) thresholded_output. (Add detectors as components) -- Deprecated since version 0.12\n",
      "[warning] DeprecationWarning: Call to deprecated function (or staticmethod) thresholded_output. (Add detectors as components) -- Deprecated since version 0.12\n",
      "[warning] DeprecationWarning: Call to deprecated function (or staticmethod) thresholded_output. (Add detectors as components) -- Deprecated since version 0.12\n",
      "[warning] DeprecationWarning: Call to deprecated function (or staticmethod) thresholded_output. (Add detectors as components) -- Deprecated since version 0.12\n",
      "[warning] DeprecationWarning: Call to deprecated function (or staticmethod) thresholded_output. (Add detectors as components) -- Deprecated since version 0.12\n",
      "[warning] DeprecationWarning: Call to deprecated function (or staticmethod) thresholded_output. (Add detectors as components) -- Deprecated since version 0.12\n",
      "[warning] DeprecationWarning: Call to deprecated function (or staticmethod) thresholded_output. (Add detectors as components) -- Deprecated since version 0.12\n",
      "[warning] DeprecationWarning: Call to deprecated function (or staticmethod) thresholded_output. (Add detectors as components) -- Deprecated since version 0.12\n",
      "[warning] DeprecationWarning: Call to deprecated function (or staticmethod) thresholded_output. (Add detectors as components) -- Deprecated since version 0.12\n",
      "[warning] DeprecationWarning: Call to deprecated function (or staticmethod) thresholded_output. (Add detectors as components) -- Deprecated since version 0.12\n",
      "[warning] DeprecationWarning: Call to deprecated function (or staticmethod) thresholded_output. (Add detectors as components) -- Deprecated since version 0.12\n",
      "[warning] DeprecationWarning: Call to deprecated function (or staticmethod) thresholded_output. (Add detectors as components) -- Deprecated since version 0.12\n",
      "[warning] DeprecationWarning: Call to deprecated function (or staticmethod) thresholded_output. (Add detectors as components) -- Deprecated since version 0.12\n",
      "[warning] DeprecationWarning: Call to deprecated function (or staticmethod) thresholded_output. (Add detectors as components) -- Deprecated since version 0.12\n",
      "[warning] DeprecationWarning: Call to deprecated function (or staticmethod) thresholded_output. (Add detectors as components) -- Deprecated since version 0.12\n",
      "[warning] DeprecationWarning: Call to deprecated function (or staticmethod) thresholded_output. (Add detectors as components) -- Deprecated since version 0.12\n",
      "[warning] DeprecationWarning: Call to deprecated function (or staticmethod) thresholded_output. (Add detectors as components) -- Deprecated since version 0.12\n",
      "[warning] DeprecationWarning: Call to deprecated function (or staticmethod) thresholded_output. (Add detectors as components) -- Deprecated since version 0.12\n",
      "[warning] DeprecationWarning: Call to deprecated function (or staticmethod) thresholded_output. (Add detectors as components) -- Deprecated since version 0.12\n",
      "[warning] DeprecationWarning: Call to deprecated function (or staticmethod) thresholded_output. (Add detectors as components) -- Deprecated since version 0.12\n",
      "[warning] DeprecationWarning: Call to deprecated function (or staticmethod) thresholded_output. (Add detectors as components) -- Deprecated since version 0.12\n",
      "[warning] DeprecationWarning: Call to deprecated function (or staticmethod) thresholded_output. (Add detectors as components) -- Deprecated since version 0.12\n",
      "[warning] DeprecationWarning: Call to deprecated function (or staticmethod) thresholded_output. (Add detectors as components) -- Deprecated since version 0.12\n",
      "[warning] DeprecationWarning: Call to deprecated function (or staticmethod) thresholded_output. (Add detectors as components) -- Deprecated since version 0.12\n",
      "[warning] DeprecationWarning: Call to deprecated function (or staticmethod) thresholded_output. (Add detectors as components) -- Deprecated since version 0.12\n",
      "[warning] DeprecationWarning: Call to deprecated function (or staticmethod) thresholded_output. (Add detectors as components) -- Deprecated since version 0.12\n",
      "[warning] DeprecationWarning: Call to deprecated function (or staticmethod) thresholded_output. (Add detectors as components) -- Deprecated since version 0.12\n",
      "[warning] DeprecationWarning: Call to deprecated function (or staticmethod) thresholded_output. (Add detectors as components) -- Deprecated since version 0.12\n",
      "[warning] DeprecationWarning: Call to deprecated function (or staticmethod) thresholded_output. (Add detectors as components) -- Deprecated since version 0.12\n",
      "[warning] DeprecationWarning: Call to deprecated function (or staticmethod) thresholded_output. (Add detectors as components) -- Deprecated since version 0.12\n",
      "[warning] DeprecationWarning: Call to deprecated function (or staticmethod) thresholded_output. (Add detectors as components) -- Deprecated since version 0.12\n",
      "[warning] DeprecationWarning: Call to deprecated function (or staticmethod) thresholded_output. (Add detectors as components) -- Deprecated since version 0.12\n",
      "[warning] DeprecationWarning: Call to deprecated function (or staticmethod) thresholded_output. (Add detectors as components) -- Deprecated since version 0.12\n",
      "[warning] DeprecationWarning: Call to deprecated function (or staticmethod) thresholded_output. (Add detectors as components) -- Deprecated since version 0.12\n",
      "[warning] DeprecationWarning: Call to deprecated function (or staticmethod) thresholded_output. (Add detectors as components) -- Deprecated since version 0.12\n",
      "[warning] DeprecationWarning: Call to deprecated function (or staticmethod) thresholded_output. (Add detectors as components) -- Deprecated since version 0.12\n",
      "[warning] DeprecationWarning: Call to deprecated function (or staticmethod) thresholded_output. (Add detectors as components) -- Deprecated since version 0.12\n",
      "[warning] DeprecationWarning: Call to deprecated function (or staticmethod) thresholded_output. (Add detectors as components) -- Deprecated since version 0.12\n",
      "[warning] DeprecationWarning: Call to deprecated function (or staticmethod) thresholded_output. (Add detectors as components) -- Deprecated since version 0.12\n",
      "[warning] DeprecationWarning: Call to deprecated function (or staticmethod) thresholded_output. (Add detectors as components) -- Deprecated since version 0.12\n",
      "[warning] DeprecationWarning: Call to deprecated function (or staticmethod) thresholded_output. (Add detectors as components) -- Deprecated since version 0.12\n",
      "[warning] DeprecationWarning: Call to deprecated function (or staticmethod) thresholded_output. (Add detectors as components) -- Deprecated since version 0.12\n",
      "[warning] DeprecationWarning: Call to deprecated function (or staticmethod) thresholded_output. (Add detectors as components) -- Deprecated since version 0.12\n",
      "[warning] DeprecationWarning: Call to deprecated function (or staticmethod) thresholded_output. (Add detectors as components) -- Deprecated since version 0.12\n",
      "[warning] DeprecationWarning: Call to deprecated function (or staticmethod) thresholded_output. (Add detectors as components) -- Deprecated since version 0.12\n",
      "[warning] DeprecationWarning: Call to deprecated function (or staticmethod) thresholded_output. (Add detectors as components) -- Deprecated since version 0.12\n",
      "[warning] DeprecationWarning: Call to deprecated function (or staticmethod) thresholded_output. (Add detectors as components) -- Deprecated since version 0.12\n",
      "[warning] DeprecationWarning: Call to deprecated function (or staticmethod) thresholded_output. (Add detectors as components) -- Deprecated since version 0.12\n",
      "[warning] DeprecationWarning: Call to deprecated function (or staticmethod) thresholded_output. (Add detectors as components) -- Deprecated since version 0.12\n",
      "[warning] DeprecationWarning: Call to deprecated function (or staticmethod) thresholded_output. (Add detectors as components) -- Deprecated since version 0.12\n",
      "[warning] DeprecationWarning: Call to deprecated function (or staticmethod) thresholded_output. (Add detectors as components) -- Deprecated since version 0.12\n",
      "[warning] DeprecationWarning: Call to deprecated function (or staticmethod) thresholded_output. (Add detectors as components) -- Deprecated since version 0.12\n",
      "[warning] DeprecationWarning: Call to deprecated function (or staticmethod) thresholded_output. (Add detectors as components) -- Deprecated since version 0.12\n",
      "[warning] DeprecationWarning: Call to deprecated function (or staticmethod) thresholded_output. (Add detectors as components) -- Deprecated since version 0.12\n",
      "[warning] DeprecationWarning: Call to deprecated function (or staticmethod) thresholded_output. (Add detectors as components) -- Deprecated since version 0.12\n",
      "[warning] DeprecationWarning: Call to deprecated function (or staticmethod) thresholded_output. (Add detectors as components) -- Deprecated since version 0.12\n",
      "[warning] DeprecationWarning: Call to deprecated function (or staticmethod) thresholded_output. (Add detectors as components) -- Deprecated since version 0.12\n",
      "[warning] DeprecationWarning: Call to deprecated function (or staticmethod) thresholded_output. (Add detectors as components) -- Deprecated since version 0.12\n",
      "[warning] DeprecationWarning: Call to deprecated function (or staticmethod) thresholded_output. (Add detectors as components) -- Deprecated since version 0.12\n",
      "[warning] DeprecationWarning: Call to deprecated function (or staticmethod) thresholded_output. (Add detectors as components) -- Deprecated since version 0.12\n",
      "[warning] DeprecationWarning: Call to deprecated function (or staticmethod) thresholded_output. (Add detectors as components) -- Deprecated since version 0.12\n",
      "[warning] DeprecationWarning: Call to deprecated function (or staticmethod) thresholded_output. (Add detectors as components) -- Deprecated since version 0.12\n",
      "[warning] DeprecationWarning: Call to deprecated function (or staticmethod) thresholded_output. (Add detectors as components) -- Deprecated since version 0.12\n",
      "[warning] DeprecationWarning: Call to deprecated function (or staticmethod) thresholded_output. (Add detectors as components) -- Deprecated since version 0.12\n",
      "[warning] DeprecationWarning: Call to deprecated function (or staticmethod) thresholded_output. (Add detectors as components) -- Deprecated since version 0.12\n",
      "[warning] DeprecationWarning: Call to deprecated function (or staticmethod) thresholded_output. (Add detectors as components) -- Deprecated since version 0.12\n",
      "[warning] DeprecationWarning: Call to deprecated function (or staticmethod) thresholded_output. (Add detectors as components) -- Deprecated since version 0.12\n",
      "[warning] DeprecationWarning: Call to deprecated function (or staticmethod) thresholded_output. (Add detectors as components) -- Deprecated since version 0.12\n",
      "[warning] DeprecationWarning: Call to deprecated function (or staticmethod) thresholded_output. (Add detectors as components) -- Deprecated since version 0.12\n",
      "[warning] DeprecationWarning: Call to deprecated function (or staticmethod) thresholded_output. (Add detectors as components) -- Deprecated since version 0.12\n",
      "[warning] DeprecationWarning: Call to deprecated function (or staticmethod) thresholded_output. (Add detectors as components) -- Deprecated since version 0.12\n",
      "[warning] DeprecationWarning: Call to deprecated function (or staticmethod) thresholded_output. (Add detectors as components) -- Deprecated since version 0.12\n",
      "[warning] DeprecationWarning: Call to deprecated function (or staticmethod) thresholded_output. (Add detectors as components) -- Deprecated since version 0.12\n",
      "[warning] DeprecationWarning: Call to deprecated function (or staticmethod) thresholded_output. (Add detectors as components) -- Deprecated since version 0.12\n",
      "[warning] DeprecationWarning: Call to deprecated function (or staticmethod) thresholded_output. (Add detectors as components) -- Deprecated since version 0.12\n",
      "[warning] DeprecationWarning: Call to deprecated function (or staticmethod) thresholded_output. (Add detectors as components) -- Deprecated since version 0.12\n",
      "[warning] DeprecationWarning: Call to deprecated function (or staticmethod) thresholded_output. (Add detectors as components) -- Deprecated since version 0.12\n",
      "[warning] DeprecationWarning: Call to deprecated function (or staticmethod) thresholded_output. (Add detectors as components) -- Deprecated since version 0.12\n",
      "[warning] DeprecationWarning: Call to deprecated function (or staticmethod) thresholded_output. (Add detectors as components) -- Deprecated since version 0.12\n",
      "[warning] DeprecationWarning: Call to deprecated function (or staticmethod) thresholded_output. (Add detectors as components) -- Deprecated since version 0.12\n",
      "[warning] DeprecationWarning: Call to deprecated function (or staticmethod) thresholded_output. (Add detectors as components) -- Deprecated since version 0.12\n",
      "[warning] DeprecationWarning: Call to deprecated function (or staticmethod) thresholded_output. (Add detectors as components) -- Deprecated since version 0.12\n",
      "[warning] DeprecationWarning: Call to deprecated function (or staticmethod) thresholded_output. (Add detectors as components) -- Deprecated since version 0.12\n",
      "[warning] DeprecationWarning: Call to deprecated function (or staticmethod) thresholded_output. (Add detectors as components) -- Deprecated since version 0.12\n",
      "[warning] DeprecationWarning: Call to deprecated function (or staticmethod) thresholded_output. (Add detectors as components) -- Deprecated since version 0.12\n",
      "[warning] DeprecationWarning: Call to deprecated function (or staticmethod) thresholded_output. (Add detectors as components) -- Deprecated since version 0.12\n",
      "[warning] DeprecationWarning: Call to deprecated function (or staticmethod) thresholded_output. (Add detectors as components) -- Deprecated since version 0.12\n",
      "[warning] DeprecationWarning: Call to deprecated function (or staticmethod) thresholded_output. (Add detectors as components) -- Deprecated since version 0.12\n",
      "[warning] DeprecationWarning: Call to deprecated function (or staticmethod) thresholded_output. (Add detectors as components) -- Deprecated since version 0.12\n",
      "[warning] DeprecationWarning: Call to deprecated function (or staticmethod) thresholded_output. (Add detectors as components) -- Deprecated since version 0.12\n",
      "[warning] DeprecationWarning: Call to deprecated function (or staticmethod) thresholded_output. (Add detectors as components) -- Deprecated since version 0.12\n",
      "[warning] DeprecationWarning: Call to deprecated function (or staticmethod) thresholded_output. (Add detectors as components) -- Deprecated since version 0.12\n",
      "[warning] DeprecationWarning: Call to deprecated function (or staticmethod) thresholded_output. (Add detectors as components) -- Deprecated since version 0.12\n",
      "[warning] DeprecationWarning: Call to deprecated function (or staticmethod) thresholded_output. (Add detectors as components) -- Deprecated since version 0.12\n",
      "[warning] DeprecationWarning: Call to deprecated function (or staticmethod) thresholded_output. (Add detectors as components) -- Deprecated since version 0.12\n",
      "[warning] DeprecationWarning: Call to deprecated function (or staticmethod) thresholded_output. (Add detectors as components) -- Deprecated since version 0.12\n",
      "[warning] DeprecationWarning: Call to deprecated function (or staticmethod) thresholded_output. (Add detectors as components) -- Deprecated since version 0.12\n",
      "[warning] DeprecationWarning: Call to deprecated function (or staticmethod) thresholded_output. (Add detectors as components) -- Deprecated since version 0.12\n",
      "[warning] DeprecationWarning: Call to deprecated function (or staticmethod) thresholded_output. (Add detectors as components) -- Deprecated since version 0.12\n",
      "[warning] DeprecationWarning: Call to deprecated function (or staticmethod) thresholded_output. (Add detectors as components) -- Deprecated since version 0.12\n",
      "[warning] DeprecationWarning: Call to deprecated function (or staticmethod) thresholded_output. (Add detectors as components) -- Deprecated since version 0.12\n",
      "[warning] DeprecationWarning: Call to deprecated function (or staticmethod) thresholded_output. (Add detectors as components) -- Deprecated since version 0.12\n",
      "[warning] DeprecationWarning: Call to deprecated function (or staticmethod) thresholded_output. (Add detectors as components) -- Deprecated since version 0.12\n",
      "[warning] DeprecationWarning: Call to deprecated function (or staticmethod) thresholded_output. (Add detectors as components) -- Deprecated since version 0.12\n",
      "[warning] DeprecationWarning: Call to deprecated function (or staticmethod) thresholded_output. (Add detectors as components) -- Deprecated since version 0.12\n",
      "[warning] DeprecationWarning: Call to deprecated function (or staticmethod) thresholded_output. (Add detectors as components) -- Deprecated since version 0.12\n",
      "[warning] DeprecationWarning: Call to deprecated function (or staticmethod) thresholded_output. (Add detectors as components) -- Deprecated since version 0.12\n",
      "[warning] DeprecationWarning: Call to deprecated function (or staticmethod) thresholded_output. (Add detectors as components) -- Deprecated since version 0.12\n",
      "[warning] DeprecationWarning: Call to deprecated function (or staticmethod) thresholded_output. (Add detectors as components) -- Deprecated since version 0.12\n",
      "[warning] DeprecationWarning: Call to deprecated function (or staticmethod) thresholded_output. (Add detectors as components) -- Deprecated since version 0.12\n",
      "[warning] DeprecationWarning: Call to deprecated function (or staticmethod) thresholded_output. (Add detectors as components) -- Deprecated since version 0.12\n",
      "[warning] DeprecationWarning: Call to deprecated function (or staticmethod) thresholded_output. (Add detectors as components) -- Deprecated since version 0.12\n"
     ]
    },
    {
     "ename": "KeyboardInterrupt",
     "evalue": "",
     "output_type": "error",
     "traceback": [
      "\u001b[0;31m---------------------------------------------------------------------------\u001b[0m",
      "\u001b[0;31mKeyboardInterrupt\u001b[0m                         Traceback (most recent call last)",
      "Cell \u001b[0;32mIn[52], line 12\u001b[0m\n\u001b[1;32m     10\u001b[0m p \u001b[38;5;241m=\u001b[39m pcvl\u001b[38;5;241m.\u001b[39mProcessor(\u001b[38;5;124m\"\u001b[39m\u001b[38;5;124mSLOS\u001b[39m\u001b[38;5;124m\"\u001b[39m, circuit_hom, noise\u001b[38;5;241m=\u001b[39mrealworld_source)\n\u001b[1;32m     11\u001b[0m p\u001b[38;5;241m.\u001b[39mwith_input(pcvl\u001b[38;5;241m.\u001b[39mBasicState([\u001b[38;5;241m1\u001b[39m,\u001b[38;5;241m1\u001b[39m]))\n\u001b[0;32m---> 12\u001b[0m \u001b[43mp\u001b[49m\u001b[38;5;241;43m.\u001b[39;49m\u001b[43mthresholded_output\u001b[49m\u001b[43m(\u001b[49m\u001b[38;5;241;43m1\u001b[39;49m\u001b[43m)\u001b[49m\n\u001b[1;32m     13\u001b[0m p\u001b[38;5;241m.\u001b[39mmin_detected_photons_filter(\u001b[38;5;241m0\u001b[39m)  \u001b[38;5;66;03m# Do not filter out any output state, will be explained later\u001b[39;00m\n\u001b[1;32m     14\u001b[0m sampler_realworld_2 \u001b[38;5;241m=\u001b[39m pcvl\u001b[38;5;241m.\u001b[39malgorithm\u001b[38;5;241m.\u001b[39mSampler(p)  \n",
      "File \u001b[0;32m~/Code/Playground/venv/lib/python3.11/site-packages/perceval/components/abstract_processor.py:322\u001b[0m, in \u001b[0;36mAProcessor.thresholded_output\u001b[0;34m(self, value)\u001b[0m\n\u001b[1;32m    315\u001b[0m \u001b[38;5;28;01mdef\u001b[39;00m \u001b[38;5;21mthresholded_output\u001b[39m(\u001b[38;5;28mself\u001b[39m, value: \u001b[38;5;28mbool\u001b[39m):\n\u001b[1;32m    316\u001b[0m \u001b[38;5;250m    \u001b[39m\u001b[38;5;124mr\u001b[39m\u001b[38;5;124;03m\"\"\"\u001b[39;00m\n\u001b[1;32m    317\u001b[0m \u001b[38;5;124;03m    Simulate threshold detectors on output states. All detections of more than one photon on any given mode is\u001b[39;00m\n\u001b[1;32m    318\u001b[0m \u001b[38;5;124;03m    changed to 1.\u001b[39;00m\n\u001b[1;32m    319\u001b[0m \n\u001b[1;32m    320\u001b[0m \u001b[38;5;124;03m    :param value: enables threshold detection when True, otherwise disables it.\u001b[39;00m\n\u001b[1;32m    321\u001b[0m \u001b[38;5;124;03m    \"\"\"\u001b[39;00m\n\u001b[0;32m--> 322\u001b[0m     \u001b[38;5;28;43mself\u001b[39;49m\u001b[38;5;241;43m.\u001b[39;49m\u001b[43mexperiment\u001b[49m\u001b[38;5;241;43m.\u001b[39;49m\u001b[43mthresholded_output\u001b[49m\u001b[43m(\u001b[49m\u001b[43mvalue\u001b[49m\u001b[43m)\u001b[49m\n",
      "File \u001b[0;32m~/Code/Playground/venv/lib/python3.11/site-packages/perceval/utils/logging/__init__.py:62\u001b[0m, in \u001b[0;36mdeprecated.<locals>.decorator_deprecated.<locals>.wrapper_deprecated\u001b[0;34m(*args, **kwargs)\u001b[0m\n\u001b[1;32m     60\u001b[0m \u001b[38;5;28;01mif\u001b[39;00m \u001b[38;5;124m\"\u001b[39m\u001b[38;5;124mversion\u001b[39m\u001b[38;5;124m\"\u001b[39m \u001b[38;5;129;01min\u001b[39;00m decorator_kwargs:\n\u001b[1;32m     61\u001b[0m     log \u001b[38;5;241m+\u001b[39m\u001b[38;5;241m=\u001b[39m \u001b[38;5;124mf\u001b[39m\u001b[38;5;124m\"\u001b[39m\u001b[38;5;124m -- Deprecated since version \u001b[39m\u001b[38;5;132;01m{\u001b[39;00mdecorator_kwargs[\u001b[38;5;124m'\u001b[39m\u001b[38;5;124mversion\u001b[39m\u001b[38;5;124m'\u001b[39m]\u001b[38;5;132;01m}\u001b[39;00m\u001b[38;5;124m\"\u001b[39m\n\u001b[0;32m---> 62\u001b[0m \u001b[43m_logger\u001b[49m\u001b[38;5;241;43m.\u001b[39;49m\u001b[43mwarn\u001b[49m\u001b[43m(\u001b[49m\u001b[43mlog\u001b[49m\u001b[43m,\u001b[49m\u001b[43m \u001b[49m\u001b[43mchannel\u001b[49m\u001b[38;5;241;43m.\u001b[39;49m\u001b[43muser\u001b[49m\u001b[43m)\u001b[49m\n\u001b[1;32m     63\u001b[0m \u001b[38;5;28;01mreturn\u001b[39;00m func(\u001b[38;5;241m*\u001b[39margs, \u001b[38;5;241m*\u001b[39m\u001b[38;5;241m*\u001b[39mkwargs)\n",
      "File \u001b[0;32m~/Code/Playground/venv/lib/python3.11/site-packages/perceval/utils/logging/loggers.py:159\u001b[0m, in \u001b[0;36mExqaliburLogger.warn\u001b[0;34m(self, msg, channel)\u001b[0m\n\u001b[1;32m    158\u001b[0m \u001b[38;5;28;01mdef\u001b[39;00m \u001b[38;5;21mwarn\u001b[39m(\u001b[38;5;28mself\u001b[39m, msg: \u001b[38;5;28mstr\u001b[39m, channel: xq_log\u001b[38;5;241m.\u001b[39mchannel \u001b[38;5;241m=\u001b[39m DEFAULT_CHANNEL):\n\u001b[0;32m--> 159\u001b[0m     \u001b[43mxq_log\u001b[49m\u001b[38;5;241;43m.\u001b[39;49m\u001b[43mwarn\u001b[49m\u001b[43m(\u001b[49m\u001b[38;5;28;43mstr\u001b[39;49m\u001b[43m(\u001b[49m\u001b[43mmsg\u001b[49m\u001b[43m)\u001b[49m\u001b[43m,\u001b[49m\u001b[43m \u001b[49m\u001b[43mchannel\u001b[49m\u001b[43m)\u001b[49m\n",
      "\u001b[0;31mKeyboardInterrupt\u001b[0m: "
     ]
    }
   ],
   "source": [
    "# we are taking a real photon source and will evaluate the ratio of \"|1,1>\" event (/total number of event where we detect a photon)\n",
    "\n",
    "import matplotlib.pyplot as plt\n",
    "\n",
    "## We create a list of all different values for indistinguishability in the range [0,1]\n",
    "X = np.linspace(0, 1, 1000)\n",
    "Y = []\n",
    "for indistinguishability in X:\n",
    "    realworld_source = pcvl.NoiseModel(transmittance=0.5, g2=0.05, indistinguishability=indistinguishability)\n",
    "    p = pcvl.Processor(\"SLOS\", circuit_hom, noise=realworld_source)\n",
    "    p.with_input(pcvl.BasicState([1,1]))\n",
    "    p.thresholded_output(1)\n",
    "    p.min_detected_photons_filter(0)  # Do not filter out any output state, will be explained later\n",
    "    sampler_realworld_2 = pcvl.algorithm.Sampler(p)  \n",
    "    sample_count_realworld_2 = sampler_realworld_2.sample_count(10000)\n",
    "    # append in Y the ratio #|1,1> / total number of event where we detect a photon\n",
    "    ### ENTER CODE HERE\n",
    "    Y.append(sample_count_realworld_2['results'][pcvl.BasicState('|1,1>')]/10000)\n",
    "    ### END CODE\n",
    "plt.plot(X, Y)\n",
    "plt.xlabel(\"indistinguishability\")\n",
    "plt.ylabel(\"ratio of double click\")\n",
    "plt.show()"
   ]
  },
  {
   "cell_type": "markdown",
   "id": "1c1677ee",
   "metadata": {},
   "source": [
    "<div class=\"alert alert-info\">We now see the direct relation between the indistinguishability and the ratio of double click - even if it does not reach 0 due to multi-photon component...</div>"
   ]
  }
 ],
 "metadata": {
  "kernelspec": {
   "display_name": "venv",
   "language": "python",
   "name": "python3"
  },
  "language_info": {
   "codemirror_mode": {
    "name": "ipython",
    "version": 3
   },
   "file_extension": ".py",
   "mimetype": "text/x-python",
   "name": "python",
   "nbconvert_exporter": "python",
   "pygments_lexer": "ipython3",
   "version": "3.11.5"
  }
 },
 "nbformat": 4,
 "nbformat_minor": 5
}
