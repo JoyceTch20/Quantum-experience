{
 "cells": [
  {
   "cell_type": "markdown",
   "id": "1c11286e",
   "metadata": {},
   "source": [
    "# Quandela Training Seminar - Programming with Perceval"
   ]
  },
  {
   "cell_type": "markdown",
   "id": "dad5a69d",
   "metadata": {},
   "source": [
    "### Boson sampling"
   ]
  },
  {
   "cell_type": "markdown",
   "id": "89e1f822",
   "metadata": {},
   "source": [
    "Sampling is the problem of selecting data from a large set, usually to find a smaller set of data that is representative of the entire set. Naturally, as problem sizes grow, these types of problems become intractable for classical computers. This means that even if we are able to find a solution to our problem, the time it takes us to do so will be too long, deeming the solution no longer useful to us.\n",
    "\n",
    "In Perceval, we use photons as our bosons (indistinguishable subatomic particles with an integer spin) to perform the task of boson sampling. Boson sampling is a quantum sampling problem, drawing from a big probability distribution of output states of a system. As our knowledge of the quantum world grows and quantum hardware becomes better, we hope to offer solutions to problems previously thought intractable."
   ]
  },
  {
   "cell_type": "markdown",
   "id": "d38c01f3",
   "metadata": {},
   "source": [
    "We are interested to simulate a boson sample with 6 photons and 12 modes."
   ]
  },
  {
   "cell_type": "code",
   "execution_count": 4,
   "id": "dede995f",
   "metadata": {},
   "outputs": [
    {
     "data": {
      "text/plain": [
       "'0.13.0'"
      ]
     },
     "execution_count": 4,
     "metadata": {},
     "output_type": "execute_result"
    }
   ],
   "source": [
    "from collections import Counter\n",
    "import gzip\n",
    "import pickle\n",
    "import time\n",
    "import random\n",
    "import perceval as pcvl\n",
    "from perceval.algorithm import Sampler\n",
    "pcvl.__version__"
   ]
  },
  {
   "cell_type": "markdown",
   "id": "84be34da",
   "metadata": {},
   "source": [
    "#### Boson sampling with a perfect source"
   ]
  },
  {
   "cell_type": "markdown",
   "id": "7ea02d3b",
   "metadata": {},
   "source": [
    "Let's define all the required values below."
   ]
  },
  {
   "cell_type": "code",
   "execution_count": null,
   "id": "ea14f365",
   "metadata": {},
   "outputs": [],
   "source": [
    "n = 6       #number of photons at the input\n",
    "m = 12       #number of modes\n",
    "N = 50000  #number of samplings we want in the end"
   ]
  },
  {
   "cell_type": "markdown",
   "id": "75e1ee98",
   "metadata": {},
   "source": [
    "Now we can generate a Haar random unitary with Perceval."
   ]
  },
  {
   "cell_type": "code",
   "execution_count": null,
   "id": "21e960f7",
   "metadata": {},
   "outputs": [],
   "source": [
    "Unitary = pcvl.Matrix.random_unitary(m) #creates a random unitary of dimension 60"
   ]
  },
  {
   "cell_type": "markdown",
   "id": "7d6ca6fb",
   "metadata": {},
   "source": [
    "To be able to decompose this unitary, first we have to choose a set of optical components we will use to do. The Mach-Zehnder interferometer (MZI) is a good choice as it is composed of only 2 beam splitters and 2 phase shifters and it is highly configurable."
   ]
  },
  {
   "cell_type": "code",
   "execution_count": null,
   "id": "19234775",
   "metadata": {},
   "outputs": [],
   "source": [
    "# TO DO: build your MZI - for this you will need a beam splitter, then a phase shifter on\n",
    "# mode 0 and another beam splitter and then a phase shifter on mode 1\n",
    "# HINT: Since we will be decomposing our unitary, don't give values to the parameters in the circuit.\n",
    "#       The beam splitters can remain in the default Rx gate convention and the phase shifters'\n",
    "#       parameters can be left undefined by using pcvl.Parameter(\"name_of_parameter\").\n",
    "#       Remember to name your two phi parameters differently!\n",
    "pcvl.pdisplay(mzi) #display your MZI and check if it looks as described above"
   ]
  },
  {
   "cell_type": "markdown",
   "id": "eb27d276",
   "metadata": {},
   "source": [
    "No we can decompose the unitary into a set of MZIs using Reck's (traingular) scheme [2]."
   ]
  },
  {
   "cell_type": "code",
   "execution_count": null,
   "id": "bc9e5566",
   "metadata": {},
   "outputs": [],
   "source": [
    "Linear_Circuit = pcvl.Circuit.decomposition(Unitary, mzi, phase_shifter_fn=pcvl.PS, shape=\"triangle\")\n",
    "pcvl.pdisplay(Linear_Circuit)"
   ]
  },
  {
   "cell_type": "code",
   "execution_count": null,
   "id": "41aed0bb",
   "metadata": {},
   "outputs": [],
   "source": [
    "# You can see the circuit is shaped like a triangle, this circuit composition is called the Reck scheme.\n",
    "# TO DO: Test to see how the circuit composition looks like without the variable 'shape' defined."
   ]
  },
  {
   "cell_type": "markdown",
   "id": "7d6ac933",
   "metadata": {},
   "source": [
    "#### Running simulation"
   ]
  },
  {
   "cell_type": "markdown",
   "id": "cd1e829a",
   "metadata": {},
   "source": [
    "Now we can choose the way to perform the simulation of boson sampling with Perceval. The number of photons is within what we could simulate with the Naive backend, however the output space is far too big just to enumerate and store the states so we chose the CliffordClifford2017 backend instead. We encourage you to check out our multiple simulation backend options and their performance comparison on different types of problems available to view on the Perceval documentation."
   ]
  },
  {
   "cell_type": "code",
   "execution_count": null,
   "id": "a23c2a44",
   "metadata": {},
   "outputs": [],
   "source": [
    "QPU = pcvl.Processor(\"CliffordClifford2017\", Linear_Circuit)"
   ]
  },
  {
   "cell_type": "markdown",
   "id": "0e6a25f2",
   "metadata": {},
   "source": [
    "Since this isn't a real problem and we are just trying to show the power of quantum computing when it comes to difficult problems to solve, such as boson sampling, we don't care what the input to our circuit is and can choose a random one."
   ]
  },
  {
   "cell_type": "code",
   "execution_count": null,
   "id": "6ac056ec",
   "metadata": {},
   "outputs": [],
   "source": [
    "def generate_input(n, m, modes = None):\n",
    "    \"This function randomly chooses an input with n photons in m modes.\"\n",
    "    if modes == None : #the function works with a given number of modes m, otherwise selecting them randomly\n",
    "        modes = sorted(random.sample(range(m),n))\n",
    "    state = \"|\"\n",
    "    for i in range(m):\n",
    "        state = state + \"0\"*(1 - (i in modes)) +\"1\"*(i in modes)+ \",\"*(i < m-1)\n",
    "    return pcvl.BasicState(state + \">\")\n",
    "\n",
    "input_state = generate_input(n, m)\n",
    "print(\"The input state: \", input_state)\n",
    "\n",
    "# TO DO: Provide the processor with the input state defined above."
   ]
  },
  {
   "cell_type": "markdown",
   "id": "faf263ef",
   "metadata": {},
   "source": [
    "Using this input, our output states are states composed of n photons in m modes."
   ]
  },
  {
   "cell_type": "code",
   "execution_count": null,
   "id": "d6b24894",
   "metadata": {},
   "outputs": [],
   "source": [
    "QPU.min_detected_photons_filter(0) #we're telling the processor that we want to keep all outputs\n",
    "# TO DO: What happens when you change the number you're filtering with? Can you filter by a number\n",
    "# higher than the number of photons in the input state? Why?\n",
    "\n",
    "sampler = Sampler(QPU)\n",
    "\n",
    "print(\"The sampled outputs are:\")\n",
    "for out_state in sampler.samples(10)[\"results\"]:\n",
    "    print(out_state)"
   ]
  },
  {
   "cell_type": "markdown",
   "id": "263d2ba0",
   "metadata": {},
   "source": [
    "Now we can also perform boson sampling N times. This will take some time so let's save the results to a file. For 6 photon 12 modes and 50000 samples this will take about 5min."
   ]
  },
  {
   "cell_type": "code",
   "execution_count": null,
   "id": "9cf2a385",
   "metadata": {},
   "outputs": [],
   "source": [
    "# if we want to launch parallel process\n",
    "worker_id=1\n",
    "\n",
    "#store the input and the unitary\n",
    "with open(\"%dphotons_%dmodes_%dsamples-worker%s-unitary.pkl\" %(n,m,N,worker_id), 'wb') as f:\n",
    "    pickle.dump(Unitary, f)\n",
    "\n",
    "with open(\"%dphotons_%dmodes_%dsamples-worker%s-inputstate.pkl\" %(n,m,N,worker_id), 'w') as f:\n",
    "    f.write(str(input_state)+\"\\n\")\n",
    "\n",
    "with gzip.open(\"%dphotons_%dmodes_%dsamples-worker%s-samples.txt.gz\" %(n,m,N,worker_id), 'wb') as f:\n",
    "    start = time.time()\n",
    "    for _ in range(N):\n",
    "        f.write((str(sampler.samples(1)[\"results\"][0])+\"\\n\").encode())\n",
    "    end = time.time()\n",
    "    f.write(str(\"==> %d\\n\" % (end-start)).encode())\n",
    "f.close()"
   ]
  },
  {
   "cell_type": "markdown",
   "id": "5d207441",
   "metadata": {},
   "source": [
    "Let us analyze the K-first mode bunching on these samples."
   ]
  },
  {
   "cell_type": "code",
   "execution_count": null,
   "id": "a1062d81",
   "metadata": {},
   "outputs": [],
   "source": [
    "worker_id = 1\n",
    "count = 0\n",
    "bunching_distribution = Counter()\n",
    "\n",
    "with gzip.open(\"%dphotons_%dmodes_%dsamples-worker%s-samples.txt.gz\"%(n,m,N,worker_id), \"rt\") as f:\n",
    "    for l in f:\n",
    "        l = l.strip()\n",
    "        if l.startswith(\"|\") and l.endswith(\">\"):\n",
    "            try:\n",
    "                st = pcvl.BasicState(l)\n",
    "                count+=1\n",
    "                bunching_distribution[st.photon2mode(st.n-1)]+=1\n",
    "            except Exception:\n",
    "                pass\n",
    "print(count, \"samples\")\n",
    "print(\"Bunching Distribution:\", \"\\t\".join([str(bunching_distribution[k]) for k in range(m)]))"
   ]
  },
  {
   "cell_type": "markdown",
   "id": "5a2ced3a",
   "metadata": {},
   "source": [
    "#### Boson sampling with a non perfect source"
   ]
  },
  {
   "cell_type": "markdown",
   "id": "a95e1907",
   "metadata": {},
   "source": [
    "Let's perform Boson sampling with a non perfect source. We declare a source with 90% brightness and purity. Here, we would reach the limits of the simulation if we use the same input as before, as for each photon at the entrance, we multiply by 3 the number of input states (0, 1 or 2 photons at the input), leading to $3^n$ states."
   ]
  },
  {
   "cell_type": "code",
   "execution_count": null,
   "id": "5c6bf7c1",
   "metadata": {},
   "outputs": [],
   "source": [
    "3 ** n"
   ]
  },
  {
   "cell_type": "code",
   "execution_count": null,
   "id": "fb96c9b6",
   "metadata": {},
   "outputs": [],
   "source": [
    "noise_model = pcvl.NoiseModel(brightness=0.9, g2=0.1)\n",
    "QPU = pcvl.Processor(\"CliffordClifford2017\", Linear_Circuit, noise_model)\n",
    "QPU.with_input(pcvl.BasicState([0, 1, 1] + (m - 3) * [0])) #notice the change in input"
   ]
  },
  {
   "cell_type": "markdown",
   "id": "0216f7e4",
   "metadata": {},
   "source": [
    "Computing the other way around, we can now check the source distribution of the processor to see how likely a state at the input of the linear circuit will be."
   ]
  },
  {
   "cell_type": "code",
   "execution_count": null,
   "id": "a8965f49",
   "metadata": {},
   "outputs": [],
   "source": [
    "pcvl.pdisplay(QPU.source_distribution, precision=1e-7, max_v=20)"
   ]
  },
  {
   "cell_type": "markdown",
   "id": "2a0330a7",
   "metadata": {},
   "source": [
    "The notation |0,{_:0},{_:0},0,0,0,0,0,0,0> is equivalent to |0,1,1,0,0,0,0,0,0,0> but |0,{_:0},{_:0},0,0,0,0,0,0,0> is not the same as |0,{_:1},{_:0},0,0,0,0,0,0,0> here the two photons are distinguishable from each other."
   ]
  },
  {
   "cell_type": "markdown",
   "id": "53795d58",
   "metadata": {},
   "source": [
    "As expected, the most likely state to have been the input of the circuit was in fact the input we provided it with.\n",
    "\n",
    "Now we can launch the entire computation again starting from cell 8 to use this imperfect source QPU with the same nominal input, or from cell 7 for another random input."
   ]
  },
  {
   "cell_type": "markdown",
   "id": "84b2a6a9",
   "metadata": {},
   "source": [
    "### References"
   ]
  },
  {
   "cell_type": "markdown",
   "id": "811e4838",
   "metadata": {},
   "source": [
    "[1] Hui Wang, et al. Boson Sampling with 20 Input Photons and a 60-Mode Interferometer in a $10^{14}$-Dimensional Hilbert Space. Physical Review Letters, 123(25):250503, December 2019. Publisher: American Physical Society.\n",
    "\n",
    "[2] Michael Reck, Anton Zeilinger, Herbert J Bernstein, and Philip Bertani. Experimental realization of any discrete unitary operator. Physical review letters, 73(1):58, 1994."
   ]
  }
 ],
 "metadata": {
  "kernelspec": {
   "display_name": "venv",
   "language": "python",
   "name": "python3"
  },
  "language_info": {
   "codemirror_mode": {
    "name": "ipython",
    "version": 3
   },
   "file_extension": ".py",
   "mimetype": "text/x-python",
   "name": "python",
   "nbconvert_exporter": "python",
   "pygments_lexer": "ipython3",
   "version": "3.11.5"
  }
 },
 "nbformat": 4,
 "nbformat_minor": 5
}
