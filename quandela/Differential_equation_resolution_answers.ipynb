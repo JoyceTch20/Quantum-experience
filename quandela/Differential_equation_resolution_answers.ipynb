{
 "cells": [
  {
   "cell_type": "markdown",
   "id": "1c11286e",
   "metadata": {},
   "source": [
    "# Quandela Training Seminar - Programming with Perceval"
   ]
  },
  {
   "cell_type": "markdown",
   "id": "7b0c92f7",
   "metadata": {},
   "source": [
    "### Differential equation resolution"
   ]
  },
  {
   "cell_type": "markdown",
   "id": "a74dd31d",
   "metadata": {},
   "source": [
    "Differential equations are used to describe variables that continuously vary with respect to a change in other variables. These equations can be used to model the behaviours of complex systems. A simple example of this can be found in economics, where we wish to study the relationships between some variables and predict their future behaviours."
   ]
  },
  {
   "cell_type": "markdown",
   "id": "5726700a",
   "metadata": {},
   "source": [
    "#### Introduction"
   ]
  },
  {
   "cell_type": "markdown",
   "id": "e67d9ab4",
   "metadata": {},
   "source": [
    "We present here a Perceval implementation of a Quantum Machine Learning algorithm for solving differential equations. Its aim is to approximate the solution to the differential equation considered in [1]:\n",
    "\n",
    "$$\\frac{df}{dx}+\\lambda f(x)(\\kappa+tan(\\lambda x))=0$$\n",
    "\n",
    "with boundary condition $f(0)=f_0$. The analytical solution is $f(x)=f_0\\;exp(-\\kappa \\lambda x) cos(\\lambda x)$."
   ]
  },
  {
   "cell_type": "markdown",
   "id": "f5b00399",
   "metadata": {},
   "source": [
    "#### QML loss function definition"
   ]
  },
  {
   "cell_type": "markdown",
   "id": "c47833b5",
   "metadata": {},
   "source": [
    "In order to use QML to solve this differential equation, we first need to derive a loss function from it whose minimum is associated to the differential equation's analytical solution.\n",
    "\n",
    "Let $F[\\{d^mf/dx^m\\}_m,f,x]=0$ be a general differential equation verified by $f(x)$, where $F[.]$ is an operator acting on $f(x)$, its derivatives and $x$. For the solving of a differential equation, the loss function described in [1] consists of two terms $$\\mathcal{L}_{\\theta}[\\{d^mg/dx^m\\}_m,g,x]=\\mathcal{L}_{\\theta}^{(diff)}[\\{d^mg/dx^m\\}_m,g,x]+\\mathcal{L}_{\\theta}^{(boundary)}[g,x].$$\n",
    "\n",
    "The first term $\\mathcal{L}_{\\theta}^{(diff)}$ corresponds to the differential equation which has been discretised over a fixed regular grid of M points noted $x_i$: $$\\mathcal{L}_{\\theta}^{(diff)}[\\{d^mg/dx^m\\}_m,g,x]=\\frac{1}{M}\\sum_{i=1}^{M}L(F[d_x^mg(x_i),g(x_i),x_i],0),$$\n",
    "\n",
    "where $L(a,b)=(a-b)^2$ is the squared distance between two arguments. The second term $\\mathcal{L}_{\\theta}^{(boundary)}$ is associated with the initial conditions of our desired solution. It is defined as: $$\\mathcal{L}_{\\theta}^{(boundary)}[g,x]=\\eta L(g(x_0),f_0),$$\n",
    "\n",
    "where $\\eta$ is the weight granted to the boundary condition and $f_0$ is given by $f(x_0)=f_0$.\n",
    "\n",
    "Given a function approximator $f^{(n)}(x,\\pmb{\\theta},\\pmb{\\lambda})$, the loss function above will be minimised using a classical algorithm, updating the parameters $\\pmb{\\theta}$ based on samples obtained using a quantum device."
   ]
  },
  {
   "cell_type": "markdown",
   "id": "3f075260",
   "metadata": {},
   "source": [
    "#### Quantum circuit architecture"
   ]
  },
  {
   "cell_type": "markdown",
   "id": "52b0ae69",
   "metadata": {},
   "source": [
    "The feature map used is presented in [2,3,4]. The quantum circuit architecture from [4] is expressed as $\\mathcal{U}(x,\\pmb{\\theta})=\\mathcal{W}^{(2)}(\\pmb{\\theta}_2)\\mathcal{S}(x)\\mathcal{W}^{(1)}(\\pmb{\\theta}_1)$. The phase-shift operator $\\mathcal{S}(x)$ incorporates the $x$ dependency of the function we wish to approximate. It is sandwiched between two universal interferometers $\\mathcal{W}^{(1)}(\\pmb{\\theta}_1)$ and $\\mathcal{W}^{(2)}(\\pmb{\\theta}_2)$, where the beam splitter parameters $\\pmb{\\theta}_1$ and $\\pmb{\\theta}_2$ of this mesh architecture are tunable to enable training of the circuit. The output measurement operator, noted $\\mathcal{M}(\\pmb{\\lambda})$ is the projection on the Fock states obtained using photon-number resolving detectors, multiplied by some coefficients $\\pmb{\\lambda}$ which can also be tunable. Formally, we have:\n",
    "\n",
    "$$    \\mathcal{M}(\\boldsymbol{\\lambda}) = \\sum_{\\mathbf{\\left | n^{(f)}\\right \\rangle}}\\lambda_{\\mathbf{\\left | n^{(f)}\\right \\rangle}}\\mathbf{\\left | n^{(f)}\\right \\rangle}\\mathbf{\\left \\langle n^{(f)}\\right |},\n",
    "$$\n",
    "\n",
    "where the sum is taken over all $\\binom{n+m-1}{n}$ possible Fock states considering $n$ photons in $m$ modes. Let $\\mathbf{\\left | n^{(i)}\\right \\rangle} = \\left |n^{(i)}_1,n^{(i)}_2,\\dots,n^{(i)}_m\\right \\rangle$ be the input state consisting of $n$ photons where $n^{(i)}_j$ is the number of photons in input mode $j$. Given these elements, the circuit's output $f^{(n)}(x, \\boldsymbol{\\theta}, \\boldsymbol{\\lambda})$ is given by the following expectation value:\n",
    "\n",
    "$$\n",
    "f^{(n)}(x, \\boldsymbol{\\theta}, \\boldsymbol{\\lambda})=\\left\\langle\\mathbf{n}^{(i)}\\left|\\mathcal{U}^{\\dagger}(x, \\boldsymbol{\\theta}) \\mathcal{M}(\\boldsymbol{\\lambda}) \\mathcal{U}(x, \\boldsymbol{\\theta})\\right| \\mathbf{n}^{(i)}\\right\\rangle.\n",
    "$$\n",
    "\n",
    "This expression can be rewritten as the following Fourier series \\[4\\]\n",
    "\n",
    "$$\n",
    "f^{(n)}(x, \\boldsymbol{\\theta}, \\boldsymbol{\\lambda})=\\sum_{\\omega \\in \\Omega_{n}} c_{\\omega}(\\boldsymbol{\\theta}, \\boldsymbol{\\lambda}) e^{i \\omega x},\n",
    "$$\n",
    "\n",
    "where $\\Omega_n = \\{-n, -n+1, \\dots, n-1, n \\}$ is the frequency spectrum one can reach with $n$ incoming photons and $\\{c_\\omega(\\boldsymbol{\\theta}, \\boldsymbol{\\lambda})\\}$ are the Fourier coefficients. The $\\boldsymbol{\\lambda}$ parameters are sampled randomly in the interval $[-a;a]$, with $a$ a randomly chosen integer. $f^{(n)}(x, \\boldsymbol{\\theta}, \\boldsymbol{\\lambda})$ will serve as a function approximator for this chosen differential equation. Differentiation in the loss function is discretised as $\\frac{df}{dx} \\simeq \\frac{f(x+\\Delta x) - f(x-\\Delta x)}{2\\Delta x}$.\n",
    "\n",
    "$n, m,$ and $\\boldsymbol{\\lambda}$ are variable parameters defined below. $\\Delta x$ is the mesh size."
   ]
  },
  {
   "cell_type": "markdown",
   "id": "664403cb",
   "metadata": {},
   "source": [
    "## Perceval Simulation\n",
    "\n",
    "### Initialisation"
   ]
  },
  {
   "cell_type": "code",
   "execution_count": 1,
   "id": "cb1aca2a",
   "metadata": {},
   "outputs": [
    {
     "data": {
      "text/plain": [
       "'0.13.0'"
      ]
     },
     "execution_count": 1,
     "metadata": {},
     "output_type": "execute_result"
    }
   ],
   "source": [
    "import perceval as pcvl\n",
    "import numpy as np\n",
    "from math import comb\n",
    "from scipy.optimize import minimize\n",
    "import time\n",
    "import matplotlib.pyplot as plt\n",
    "import matplotlib as mpl\n",
    "import tqdm as tqdm\n",
    "pcvl.__version__"
   ]
  },
  {
   "cell_type": "markdown",
   "id": "7b966a90",
   "metadata": {},
   "source": [
    "We will run this notebook with 4 photons. We could use more photons, but the result with 4 photons is already satisfying."
   ]
  },
  {
   "cell_type": "code",
   "execution_count": 2,
   "id": "83c1de63",
   "metadata": {},
   "outputs": [],
   "source": [
    "nphotons = 4"
   ]
  },
  {
   "cell_type": "markdown",
   "id": "77763a57",
   "metadata": {},
   "source": [
    "### Differential equation parameters\n",
    "\n",
    "We define here the value of the differential equation parameters and boundary condition $\\lambda, \\kappa, f_0$."
   ]
  },
  {
   "cell_type": "code",
   "execution_count": 3,
   "id": "266fa65b",
   "metadata": {},
   "outputs": [],
   "source": [
    "# Differential equation parameters\n",
    "lambd = 8\n",
    "kappa = 0.1\n",
    "\n",
    "def F(u_prime, u, x): # DE, works with numpy arrays\n",
    "    return u_prime + lambd * u * (kappa + np.tan(lambd * x))\n",
    "\n",
    "# Boundary condition (f(x_0)=f_0)\n",
    "x_0 = 0\n",
    "f_0 = 1"
   ]
  },
  {
   "cell_type": "code",
   "execution_count": 4,
   "id": "057a3ae0",
   "metadata": {},
   "outputs": [],
   "source": [
    "# Modeling parameters\n",
    "n_grid = 50    # number of grid points of the discretized differential equation\n",
    "range_min = 0  # minimum of the interval on which we wish to approximate our function\n",
    "range_max = 1  # maximum of the interval on which we wish to approximate our function\n",
    "X = np.linspace(range_min, range_max-range_min, n_grid)  # Optimisation grid"
   ]
  },
  {
   "cell_type": "code",
   "execution_count": 5,
   "id": "d6aaeb2b",
   "metadata": {},
   "outputs": [],
   "source": [
    "# Differential equation's exact solution - for comparison\n",
    "def u(x):\n",
    "    return np.exp(- kappa*lambd*x)*np.cos(lambd*x)"
   ]
  },
  {
   "cell_type": "code",
   "execution_count": 6,
   "id": "6a4c54ba",
   "metadata": {},
   "outputs": [],
   "source": [
    "# Parameters of the quantum machine learning procedure\n",
    "N = nphotons              # Number of photons\n",
    "m = nphotons              # Number of modes\n",
    "eta = 5                   # weight granted to the initial condition\n",
    "a = 200                   # Approximate boundaries of the interval that the image of the trial function can cover\n",
    "fock_dim = comb(N + m - 1, N)\n",
    "# lambda coefficients for all the possible outputs\n",
    "lambda_random = 2 * a * np.random.rand(fock_dim) - a\n",
    "# dx serves for the numerical differentiation of f\n",
    "dx = (range_max-range_min) / (n_grid - 1)"
   ]
  },
  {
   "cell_type": "code",
   "execution_count": 7,
   "id": "662ad59e",
   "metadata": {},
   "outputs": [
    {
     "name": "stdout",
     "output_type": "stream",
     "text": [
      "|1,1,1,1>\n"
     ]
    }
   ],
   "source": [
    "# Input state with N photons and m modes\n",
    "input_state = pcvl.BasicState([1]*N+[0]*(m-N))\n",
    "print(input_state)"
   ]
  },
  {
   "cell_type": "markdown",
   "id": "8b94a785",
   "metadata": {},
   "source": [
    "## Definition of the circuit\n",
    "\n",
    "We will generate a Haar-random initial unitary using QR decomposition built in Perceval `Matrix.random_unitary`, the circuit is defined by the combination of 3 sub-circuits - the intermediate phase is a parameter."
   ]
  },
  {
   "cell_type": "code",
   "execution_count": 8,
   "id": "b90ce704",
   "metadata": {},
   "outputs": [
    {
     "data": {
      "image/svg+xml": [
       "<?xml version=\"1.0\" encoding=\"UTF-8\"?>\n",
       "<svg xmlns=\"http://www.w3.org/2000/svg\" xmlns:xlink=\"http://www.w3.org/1999/xlink\"\n",
       "     width=\"695.0\" height=\"281.25\" viewBox=\"-28.0 0 556.0 225.0\">\n",
       "<defs>\n",
       "</defs>\n",
       "<path d=\"M10,25.0 L25,25.0\" stroke-width=\"3\" stroke=\"darkred\" stroke-linejoin=\"miter\" fill=\"none\" />\n",
       "<path d=\"M10,75.0 L25,75.0\" stroke-width=\"3\" stroke=\"darkred\" stroke-linejoin=\"miter\" fill=\"none\" />\n",
       "<path d=\"M10,125.0 L25,125.0\" stroke-width=\"3\" stroke=\"darkred\" stroke-linejoin=\"miter\" fill=\"none\" />\n",
       "<path d=\"M10,175.0 L25,175.0\" stroke-width=\"3\" stroke=\"darkred\" stroke-linejoin=\"miter\" fill=\"none\" />\n",
       "<path d=\"M25,25 L225,25\" stroke-width=\"3\" stroke=\"darkred\" stroke-linejoin=\"miter\" fill=\"none\" />\n",
       "<path d=\"M25,75 L225,75\" stroke-width=\"3\" stroke=\"darkred\" stroke-linejoin=\"miter\" fill=\"none\" />\n",
       "<path d=\"M25,125 L225,125\" stroke-width=\"3\" stroke=\"darkred\" stroke-linejoin=\"miter\" fill=\"none\" />\n",
       "<path d=\"M25,175 L225,175\" stroke-width=\"3\" stroke=\"darkred\" stroke-linejoin=\"miter\" fill=\"none\" />\n",
       "<path d=\"M30,5 L220,5 L220,195 L30,195 Z\" stroke=\"black\" fill=\"lightyellow\" stroke-linejoin=\"miter\" />\n",
       "<text x=\"125\" y=\"100\" font-size=\"10\" text-anchor=\"middle\">W1</text>\n",
       "<path d=\"M225,25 L275,25\" stroke=\"darkred\" stroke-width=\"3\" fill=\"none\" />\n",
       "<path d=\"M230,40 L239,40 L253,10 L244,10 L230,40 L239,40 Z\" stroke=\"black\" fill=\"gray\" stroke-linejoin=\"miter\" />\n",
       "<text x=\"247\" y=\"38\" font-size=\"7\" text-anchor=\"start\">Φ=px</text>\n",
       "<path d=\"M225,75.0 L275,75.0\" stroke=\"darkred\" stroke-width=\"3\" fill=\"none\" />\n",
       "<path d=\"M225,125.0 L275,125.0\" stroke=\"darkred\" stroke-width=\"3\" fill=\"none\" />\n",
       "<path d=\"M225,175.0 L275,175.0\" stroke=\"darkred\" stroke-width=\"3\" fill=\"none\" />\n",
       "<path d=\"M275,25 L475,25\" stroke-width=\"3\" stroke=\"darkred\" stroke-linejoin=\"miter\" fill=\"none\" />\n",
       "<path d=\"M275,75 L475,75\" stroke-width=\"3\" stroke=\"darkred\" stroke-linejoin=\"miter\" fill=\"none\" />\n",
       "<path d=\"M275,125 L475,125\" stroke-width=\"3\" stroke=\"darkred\" stroke-linejoin=\"miter\" fill=\"none\" />\n",
       "<path d=\"M275,175 L475,175\" stroke-width=\"3\" stroke=\"darkred\" stroke-linejoin=\"miter\" fill=\"none\" />\n",
       "<path d=\"M280,5 L470,5 L470,195 L280,195 Z\" stroke=\"black\" fill=\"lightyellow\" stroke-linejoin=\"miter\" />\n",
       "<text x=\"375\" y=\"100\" font-size=\"10\" text-anchor=\"middle\">W2</text>\n",
       "<path d=\"M475,25.0 L490,25.0\" stroke-width=\"3\" stroke=\"darkred\" stroke-linejoin=\"miter\" fill=\"none\" />\n",
       "<path d=\"M475,75.0 L490,75.0\" stroke-width=\"3\" stroke=\"darkred\" stroke-linejoin=\"miter\" fill=\"none\" />\n",
       "<path d=\"M475,125.0 L490,125.0\" stroke-width=\"3\" stroke=\"darkred\" stroke-linejoin=\"miter\" fill=\"none\" />\n",
       "<path d=\"M475,175.0 L490,175.0\" stroke-width=\"3\" stroke=\"darkred\" stroke-linejoin=\"miter\" fill=\"none\" />\n",
       "<text x=\"500\" y=\"28.0\" font-size=\"6\" text-anchor=\"end\">0</text>\n",
       "<text x=\"500\" y=\"78.0\" font-size=\"6\" text-anchor=\"end\">1</text>\n",
       "<text x=\"500\" y=\"128.0\" font-size=\"6\" text-anchor=\"end\">2</text>\n",
       "<text x=\"500\" y=\"178.0\" font-size=\"6\" text-anchor=\"end\">3</text>\n",
       "<text x=\"0\" y=\"28.0\" font-size=\"6\" text-anchor=\"start\">0</text>\n",
       "<text x=\"0\" y=\"78.0\" font-size=\"6\" text-anchor=\"start\">1</text>\n",
       "<text x=\"0\" y=\"128.0\" font-size=\"6\" text-anchor=\"start\">2</text>\n",
       "<text x=\"0\" y=\"178.0\" font-size=\"6\" text-anchor=\"start\">3</text>\n",
       "</svg>"
      ],
      "text/plain": [
       "<drawsvg.drawing.Drawing at 0x15f2f6210>"
      ]
     },
     "execution_count": 8,
     "metadata": {},
     "output_type": "execute_result"
    }
   ],
   "source": [
    "\"Haar unitary parameters\"\n",
    "# number of parameters used for the two universal interferometers (2*m**2 per interferometer)\n",
    "parameters = np.random.normal(size=4*m**2)\n",
    "\n",
    "px = pcvl.P(\"px\")\n",
    "c = pcvl.Unitary(pcvl.Matrix.parametrized_unitary(m, parameters[:2 * m ** 2]), name=\"W1\")\\\n",
    "     // (0, pcvl.PS(px))\\\n",
    "     // pcvl.Unitary(pcvl.Matrix.parametrized_unitary(m, parameters[2 * m ** 2:]), name=\"W2\")\n",
    "\n",
    "backend = pcvl.BackendFactory().get_backend(\"SLOS\")\n",
    "backend.set_circuit(pcvl.Unitary(pcvl.Matrix.random_unitary(m)))\n",
    "backend.preprocess([input_state])\n",
    "\n",
    "pcvl.pdisplay(c)"
   ]
  },
  {
   "cell_type": "markdown",
   "id": "79b7fef9",
   "metadata": {},
   "source": [
    "### Expectation value and loss function computation\n",
    "\n",
    "The expectation value of the measurement operator $\\mathcal{M}(\\boldsymbol{\\lambda})$ is obtained directly from Fock state probabilities computed by Perceval. Given this expectation value, the code snippet below computes the loss function defined in the Introduction.\n",
    "\n",
    "Note the use of the `all_prob` simulator method giving directly access to the probabilities of all possible output states, including null probabilities (probabilities of observing the state with m modes and 0 photons as all photons were lost). This calculation is optimized in the SLOS backend."
   ]
  },
  {
   "cell_type": "code",
   "execution_count": 12,
   "id": "27aa9449",
   "metadata": {},
   "outputs": [],
   "source": [
    "def computation(params):\n",
    "    global current_loss\n",
    "    global computation_count\n",
    "    \"compute the loss function of a given differential equation in order for it to be optimized\"\n",
    "    computation_count += 1\n",
    "    f_theta_0 = 0  # boundary condition\n",
    "    coefs = lambda_random  # coefficients of the M observable\n",
    "    # initial condition with the two universal interferometers and the phase shift in the middle\n",
    "    U_1 = pcvl.Matrix.parametrized_unitary(m, params[:2 * m ** 2])\n",
    "    U_2 = pcvl.Matrix.parametrized_unitary(m, params[2 * m ** 2:])\n",
    "\n",
    "    px = pcvl.P(\"x\")\n",
    "    c = pcvl.Unitary(U_2) // (0, pcvl.PS(px)) // pcvl.Unitary(U_1)\n",
    "\n",
    "    px.set_value(np.pi * x_0)\n",
    "    backend.set_circuit(c)\n",
    "    f_theta_0 = np.sum(np.multiply(backend.all_prob(input_state), coefs))\n",
    "\n",
    "    # boundary condition given a weight eta\n",
    "    loss = eta * (f_theta_0 - f_0) ** 2 * len(X)\n",
    "\n",
    "    # Y[0] is before the domain we are interested in (used for differentiation), x_0 is at Y[1]\n",
    "    Y = np.zeros(n_grid + 2)\n",
    "\n",
    "    # x_0 is at the beginning of the domain, already calculated\n",
    "    Y[1] = f_theta_0\n",
    "\n",
    "    px.set_value(np.pi * (range_min - dx))\n",
    "    backend.set_circuit(c)\n",
    "    Y[0] = np.sum(np.multiply(backend.all_prob(input_state), coefs))\n",
    "\n",
    "\n",
    "    for i in range(1, n_grid):\n",
    "        x = X[i]\n",
    "        px.set_value(np.pi * x)\n",
    "        backend.set_circuit(c)\n",
    "        Y[i + 1] = np.sum(np.multiply(backend.all_prob(input_state), coefs))\n",
    "\n",
    "    px.set_value(np.pi * (range_max + dx))\n",
    "    backend.set_circuit(c)\n",
    "    Y[n_grid + 1] = np.sum(np.multiply(backend.all_prob(input_state), coefs))\n",
    "\n",
    "    # Differentiation\n",
    "    Y_prime = (Y[2:] - Y[:-2])/(2*dx)\n",
    "\n",
    "    loss += np.sum((F(Y_prime, Y[1:-1], X))**2)\n",
    "\n",
    "    current_loss = loss / len(X)\n",
    "    return current_loss"
   ]
  },
  {
   "cell_type": "markdown",
   "id": "ff86ccf8",
   "metadata": {},
   "source": [
    "### Classical optimisation\n",
    "\n",
    "Finally the code below performs the optimisation procedure using the loss function defined in the previous section. To this end, we use a Broyden–Fletcher–Goldfarb–Shanno (BFGS) optimiser \\[5\\] from the SciPy library. Since we're performing the optimization classically, this is considered a hybrid quantum-classical algorithm."
   ]
  },
  {
   "cell_type": "code",
   "execution_count": 13,
   "id": "51ca61eb",
   "metadata": {},
   "outputs": [],
   "source": [
    "def callbackF(parameters):\n",
    "    \"\"\"callback function called by scipy.optimize.minimize allowing to monitor progress\"\"\"\n",
    "    global current_loss\n",
    "    global computation_count\n",
    "    global loss_evolution\n",
    "    global start_time\n",
    "    now = time.time()\n",
    "    pbar.set_description(\"M= %d Loss: %0.5f #computations: %d elapsed: %0.5f\" % \n",
    "                         (m, current_loss, computation_count, now-start_time))\n",
    "    pbar.update(1)\n",
    "    loss_evolution.append((current_loss, now-start_time))\n",
    "    computation_count = 0\n",
    "    start_time = now"
   ]
  },
  {
   "cell_type": "code",
   "execution_count": 14,
   "id": "a8dd63fd",
   "metadata": {},
   "outputs": [
    {
     "name": "stderr",
     "output_type": "stream",
     "text": [
      "0it [01:37, ?it/s]\n"
     ]
    }
   ],
   "source": [
    "computation_count = 0\n",
    "current_loss = 0\n",
    "start_time = time.time()\n",
    "loss_evolution = []\n",
    "\n",
    "pbar = tqdm.tqdm()\n",
    "res = minimize(computation, parameters, callback=callbackF, method='BFGS', options={'gtol': 1E-2})"
   ]
  },
  {
   "cell_type": "markdown",
   "id": "57d69698",
   "metadata": {},
   "source": [
    "After the optimisation procedure, the optimal unitary parameters (in `res.x`) can be used to determine the quantum circuit parameters (beam-splitter reflectivity and phase-shifter angles) for an experimental realisation."
   ]
  },
  {
   "cell_type": "code",
   "execution_count": 15,
   "id": "12b6343c",
   "metadata": {},
   "outputs": [
    {
     "name": "stdout",
     "output_type": "stream",
     "text": [
      "Unitary parameters [ 1.21672402e+00 -1.12697855e+00 -1.10955921e-01  2.83253135e-02\n",
      " -8.50574749e-01  2.37450760e-01 -1.63856924e+00 -7.54256031e-01\n",
      " -1.02153495e+00  8.79741021e-01 -6.43204979e-01 -1.02319618e+00\n",
      "  5.82499997e-01 -5.94109341e-01  7.53648508e-01  9.44488635e-01\n",
      "  1.34657053e+00  3.92944327e-01  7.49819167e-01  1.47598234e+00\n",
      "  7.99931261e-01  5.31646637e-01  7.35583619e-01 -1.52027869e-01\n",
      "  1.26390799e+00 -1.31946141e+00 -6.28629980e-01 -1.49534506e-01\n",
      " -9.28322514e-01  1.58102534e-01  1.06857546e+00 -7.06046613e-01\n",
      "  2.56297600e-02 -1.21900440e+00 -1.11604836e-01  1.90182414e+00\n",
      "  1.88439839e-01 -3.65786693e-01 -6.77138382e-01 -9.78785823e-01\n",
      "  1.76075073e+00 -7.24442098e-01  5.86902872e-01  2.58243781e+00\n",
      "  7.75089125e-01 -2.86238449e-01 -6.43795575e-01  3.11461230e-01\n",
      " -6.39286058e-01  8.11050178e-01 -2.71551043e-01  1.02433867e+00\n",
      "  1.38787620e-01 -1.24639985e-01 -1.95336476e+00  4.69698654e-01\n",
      " -2.25370401e-03 -5.32249760e-01 -1.67693951e-01  3.81178163e-01\n",
      " -2.54342101e-01  2.02538713e+00 -2.53640639e-01 -1.76388821e+00]\n"
     ]
    }
   ],
   "source": [
    "print(\"Unitary parameters\", res.x)"
   ]
  },
  {
   "cell_type": "markdown",
   "id": "b5fc2804",
   "metadata": {},
   "source": [
    "### Plotting the approximation\n",
    "\n",
    "We can now plot the result of our optimisation in order to compare the QML algorithm's output and the analytical solution of the differential equation."
   ]
  },
  {
   "cell_type": "code",
   "execution_count": 18,
   "id": "1e37ce40",
   "metadata": {},
   "outputs": [],
   "source": [
    "def plot_solution(m, N, X, optim_params, lambda_random):\n",
    "    Y = []\n",
    "    U_1 = pcvl.Matrix.parametrized_unitary(m, optim_params[:2 * m ** 2])\n",
    "    U_2 = pcvl.Matrix.parametrized_unitary(m, optim_params[2 * m ** 2:])\n",
    "    px = pcvl.P(\"x\")\n",
    "    c = pcvl.Unitary(U_2) // (0, pcvl.PS(px)) // pcvl.Unitary(U_1)\n",
    "\n",
    "    for x in X:\n",
    "        px.set_value(np.pi * x)\n",
    "        backend.set_circuit(c)\n",
    "        f_theta = np.sum(np.multiply(backend.all_prob(input_state), lambda_random))\n",
    "        Y.append(f_theta)\n",
    "    exact = u(X)\n",
    "    plt.plot(X, Y, label=\"Approximation with {} photons\".format(N))"
   ]
  },
  {
   "cell_type": "code",
   "execution_count": 19,
   "id": "28a1d993",
   "metadata": {},
   "outputs": [
    {
     "data": {
      "image/png": "[encoded data removed]",
      "text/plain": [
       "<Figure size 640x480 with 1 Axes>"
      ]
     },
     "metadata": {},
     "output_type": "display_data"
    }
   ],
   "source": [
    "X = np.linspace(range_min, range_max, 200)\n",
    "\n",
    "# Change the plot size\n",
    "default_figsize = mpl.rcParamsDefault['figure.figsize']\n",
    "mpl.rcParams['figure.figsize'] = [1 * value for value in default_figsize]\n",
    "\n",
    "plot_solution(m, N, X, res.x, lambda_random)\n",
    "\n",
    "plt.plot(X, u(X), 'r', label='Analytical solution')\n",
    "plt.legend()\n",
    "plt.show()"
   ]
  },
  {
   "cell_type": "code",
   "execution_count": 20,
   "id": "82740227",
   "metadata": {},
   "outputs": [
    {
     "data": {
      "text/plain": [
       "Text(0, 0.5, 'Loss function value')"
      ]
     },
     "execution_count": 20,
     "metadata": {},
     "output_type": "execute_result"
    },
    {
     "data": {
      "image/png": "[encoded data removed]",
      "text/plain": [
       "<Figure size 640x480 with 1 Axes>"
      ]
     },
     "metadata": {},
     "output_type": "display_data"
    }
   ],
   "source": [
    "plt.plot([v[0] for v in loss_evolution])\n",
    "plt.yscale(\"log\")\n",
    "plt.xlabel(\"Number of epochs\")\n",
    "plt.ylabel(\"Loss function value\")"
   ]
  },
  {
   "cell_type": "markdown",
   "id": "35848cc4",
   "metadata": {},
   "source": [
    "Repeating the entire computation with 3 photons would damage the accuracy of our solution but with 5 photons the accuracy would improve (the first graph above would have the two lines closer to one another). We used 4 photons as the solution is already satisfying.\n",
    "\n",
    "Why is the accuracy lower with 3 photons? Lowering the amount of photons lowers the expressibility of our circuit, deeming our ability to find a good solution to the differential equation lower."
   ]
  },
  {
   "cell_type": "markdown",
   "id": "3541e471",
   "metadata": {},
   "source": [
    "## References\n",
    "\n",
    "> [1] O. Kyriienko, A. E. Paine, and V. E. Elfving, “Solving nonlinear differential equations with differentiable quantum circuits”, [Physical Review A](https://journals.aps.org/pra/abstract/10.1103/PhysRevA.103.052416) **103**, 052416 (2021).\n",
    "\n",
    "> [2] A. Pérez-Salinas, A. Cervera-Lierta, E. Gil-Fuster, and J. I. Latorre, “Data re-uploading for a universal quantum classifier”, [Quantum](https://quantum-journal.org/papers/q-2020-02-06-226/) **4**, 226 (2020).\n",
    "\n",
    "> [3] M. Schuld, R. Sweke, and J. J. Meyer, “Effect of data encoding on the expressive power of variational quantum-machine-learning models”, [Physical Review A]( https://journals.aps.org/pra/abstract/10.1103/PhysRevA.103.032430) **103**, 032430 (2021).\n",
    "\n",
    "> [4] B. Y. Gan, D. Leykam, D. G. Angelakis, and D. G. Angelakis, “Fock State-enhanced Expressivity of Quantum Machine Learning Models”, in [Conference on Lasers andElectro-Optics](https://opg.optica.org/abstract.cfm?uri=CLEO_AT-2021-JW1A.73) (2021), paper JW1A.73. Optica Publishing Group, (2021).\n",
    "\n",
    "> [5] R. Fletcher, Practical methods of optimization. [John Wiley & Sons](https://onlinelibrary.wiley.com/doi/book/10.1002/9781118723203). (2013)."
   ]
  }
 ],
 "metadata": {
  "kernelspec": {
   "display_name": "venv",
   "language": "python",
   "name": "python3"
  },
  "language_info": {
   "codemirror_mode": {
    "name": "ipython",
    "version": 3
   },
   "file_extension": ".py",
   "mimetype": "text/x-python",
   "name": "python",
   "nbconvert_exporter": "python",
   "pygments_lexer": "ipython3",
   "version": "3.11.5"
  }
 },
 "nbformat": 4,
 "nbformat_minor": 5
}
